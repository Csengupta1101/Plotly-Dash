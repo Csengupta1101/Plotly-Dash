{
 "cells": [
  {
   "cell_type": "code",
   "execution_count": 1,
   "metadata": {},
   "outputs": [],
   "source": [
    "''' Importing libraries '''\n",
    "import dash\n",
    "from dash import dcc\n",
    "from dash import html\n",
    "import pandas as pd  "
   ]
  },
  {
   "cell_type": "code",
   "execution_count": 2,
   "metadata": {},
   "outputs": [],
   "source": [
    "'''Storing the data''' \n",
    "df = pd.read_excel('C:\\Workflow\\dashboard-analysis\\datasets\\Demo Data 1.xlsx')"
   ]
  },
  {
   "cell_type": "code",
   "execution_count": 3,
   "metadata": {},
   "outputs": [
    {
     "data": {
      "text/html": [
       "<div>\n",
       "<style scoped>\n",
       "    .dataframe tbody tr th:only-of-type {\n",
       "        vertical-align: middle;\n",
       "    }\n",
       "\n",
       "    .dataframe tbody tr th {\n",
       "        vertical-align: top;\n",
       "    }\n",
       "\n",
       "    .dataframe thead th {\n",
       "        text-align: right;\n",
       "    }\n",
       "</style>\n",
       "<table border=\"1\" class=\"dataframe\">\n",
       "  <thead>\n",
       "    <tr style=\"text-align: right;\">\n",
       "      <th></th>\n",
       "      <th>State</th>\n",
       "      <th>District</th>\n",
       "      <th>Distributor</th>\n",
       "      <th>Dealer</th>\n",
       "      <th>Lifting Qty</th>\n",
       "      <th>Sources</th>\n",
       "      <th>Status</th>\n",
       "    </tr>\n",
       "  </thead>\n",
       "  <tbody>\n",
       "    <tr>\n",
       "      <th>0</th>\n",
       "      <td>Jharkhand</td>\n",
       "      <td>Deoghar</td>\n",
       "      <td>Hari steel</td>\n",
       "      <td>Mukund Ram</td>\n",
       "      <td>48</td>\n",
       "      <td>8</td>\n",
       "      <td>Active</td>\n",
       "    </tr>\n",
       "    <tr>\n",
       "      <th>1</th>\n",
       "      <td>Jharkhand</td>\n",
       "      <td>Deoghar</td>\n",
       "      <td>Hari steel</td>\n",
       "      <td>Hari Prasad</td>\n",
       "      <td>40</td>\n",
       "      <td>6</td>\n",
       "      <td>Active</td>\n",
       "    </tr>\n",
       "    <tr>\n",
       "      <th>2</th>\n",
       "      <td>Jharkhand</td>\n",
       "      <td>Deoghar</td>\n",
       "      <td>Hari steel</td>\n",
       "      <td>Shib Charan</td>\n",
       "      <td>23</td>\n",
       "      <td>3</td>\n",
       "      <td>Active</td>\n",
       "    </tr>\n",
       "    <tr>\n",
       "      <th>3</th>\n",
       "      <td>Jharkhand</td>\n",
       "      <td>Dumka</td>\n",
       "      <td>Hari steel</td>\n",
       "      <td>Kamal Khan</td>\n",
       "      <td>33</td>\n",
       "      <td>6</td>\n",
       "      <td>Active</td>\n",
       "    </tr>\n",
       "    <tr>\n",
       "      <th>4</th>\n",
       "      <td>Jharkhand</td>\n",
       "      <td>Dumka</td>\n",
       "      <td>Patel Steel</td>\n",
       "      <td>Debi Charan</td>\n",
       "      <td>46</td>\n",
       "      <td>5</td>\n",
       "      <td>Inactive</td>\n",
       "    </tr>\n",
       "  </tbody>\n",
       "</table>\n",
       "</div>"
      ],
      "text/plain": [
       "       State District  Distributor       Dealer  Lifting Qty  Sources   \n",
       "0  Jharkhand  Deoghar   Hari steel   Mukund Ram           48        8  \\\n",
       "1  Jharkhand  Deoghar   Hari steel  Hari Prasad           40        6   \n",
       "2  Jharkhand  Deoghar   Hari steel  Shib Charan           23        3   \n",
       "3  Jharkhand    Dumka   Hari steel   Kamal Khan           33        6   \n",
       "4  Jharkhand    Dumka  Patel Steel  Debi Charan           46        5   \n",
       "\n",
       "     Status  \n",
       "0    Active  \n",
       "1    Active  \n",
       "2    Active  \n",
       "3    Active  \n",
       "4  Inactive  "
      ]
     },
     "execution_count": 3,
     "metadata": {},
     "output_type": "execute_result"
    }
   ],
   "source": [
    "df.head()"
   ]
  },
  {
   "cell_type": "code",
   "execution_count": 4,
   "metadata": {},
   "outputs": [],
   "source": [
    "''' Initializing the app , dash is based on flask''' \n",
    "app = dash.Dash()"
   ]
  },
  {
   "cell_type": "code",
   "execution_count": 5,
   "metadata": {},
   "outputs": [],
   "source": [
    "''' Developing Layout based on html '''\n",
    "text_style = {\n",
    "    'textAlign':'center',\n",
    "    'color':'#456FBV'\n",
    "}\n",
    "app.layout = html.Div([\n",
    "    html.H1(children = 'Dealer Synopsis',\n",
    "            style = text_style\n",
    "    )\n",
    "\n",
    "    html.Div(children = 'Data points across table to be shown here',\n",
    "            style = text_style\n",
    "    ),\n",
    "    dcc.Graph(\n",
    "        id = 'Lifting Chart',\n",
    "        figure = {\n",
    "            'data':[\n",
    "                {'x':df['Dealer'],'y':df['Lifting Qty'] , 'type' : 'bar','name':'Dealer lifting'},\n",
    "                {'x':df['Dealer'],'y':df['Sources'] , 'type' : 'bar','name':'Tagged Sources'},\n",
    "            ],\n",
    "            'layout':{\n",
    "                'title': 'Lifting chart'\n",
    "            }\n",
    "        }\n",
    "    )\n",
    "])"
   ]
  },
  {
   "cell_type": "code",
   "execution_count": 7,
   "metadata": {},
   "outputs": [
    {
     "name": "stdout",
     "output_type": "stream",
     "text": [
      "Dash is running on http://127.0.0.1:8050/\n",
      "\n",
      " * Serving Flask app '__main__'\n",
      " * Debug mode: off\n"
     ]
    },
    {
     "name": "stderr",
     "output_type": "stream",
     "text": [
      "WARNING: This is a development server. Do not use it in a production deployment. Use a production WSGI server instead.\n",
      " * Running on http://127.0.0.1:8050\n",
      "Press CTRL+C to quit\n",
      "127.0.0.1 - - [31/May/2023 17:39:35] \"GET / HTTP/1.1\" 200 -\n",
      "127.0.0.1 - - [31/May/2023 17:39:35] \"GET /_dash-dependencies HTTP/1.1\" 200 -\n",
      "127.0.0.1 - - [31/May/2023 17:39:35] \"GET /_dash-layout HTTP/1.1\" 200 -\n",
      "127.0.0.1 - - [31/May/2023 17:39:35] \"GET /_dash-component-suites/dash/dcc/async-graph.js HTTP/1.1\" 304 -\n",
      "127.0.0.1 - - [31/May/2023 17:39:35] \"GET /_dash-component-suites/dash/dcc/async-plotlyjs.js HTTP/1.1\" 304 -\n"
     ]
    }
   ],
   "source": [
    "'''Running the app on specified server''' \n",
    "if __name__ == '__main__':\n",
    "    #app.run_server()"
   ]
  },
  {
   "cell_type": "code",
   "execution_count": null,
   "metadata": {},
   "outputs": [],
   "source": []
  }
 ],
 "metadata": {
  "kernelspec": {
   "display_name": "Python 3",
   "language": "python",
   "name": "python3"
  },
  "language_info": {
   "codemirror_mode": {
    "name": "ipython",
    "version": 3
   },
   "file_extension": ".py",
   "mimetype": "text/x-python",
   "name": "python",
   "nbconvert_exporter": "python",
   "pygments_lexer": "ipython3",
   "version": "3.11.3"
  },
  "orig_nbformat": 4
 },
 "nbformat": 4,
 "nbformat_minor": 2
}
