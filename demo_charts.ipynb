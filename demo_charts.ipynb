{
 "cells": [
  {
   "cell_type": "code",
   "execution_count": 16,
   "metadata": {},
   "outputs": [],
   "source": [
    "import pandas as pd \n",
    "import numpy as np \n",
    "import plotly.express as px \n",
    "import matplotlib.pyplot as plt \n",
    "import seaborn as sns "
   ]
  },
  {
   "cell_type": "code",
   "execution_count": 17,
   "metadata": {},
   "outputs": [
    {
     "name": "stderr",
     "output_type": "stream",
     "text": [
      "C:\\Users\\chandan.sengupta\\AppData\\Local\\Temp\\ipykernel_15920\\1180117539.py:1: DtypeWarning:\n",
      "\n",
      "Columns (24) have mixed types. Specify dtype option on import or set low_memory=False.\n",
      "\n"
     ]
    }
   ],
   "source": [
    "df = pd.read_csv(r\"C:\\Workflow\\SSML_Data\\datasets\\primary_dashboard.csv\")"
   ]
  },
  {
   "cell_type": "code",
   "execution_count": 18,
   "metadata": {},
   "outputs": [
    {
     "data": {
      "text/html": [
       "<div>\n",
       "<style scoped>\n",
       "    .dataframe tbody tr th:only-of-type {\n",
       "        vertical-align: middle;\n",
       "    }\n",
       "\n",
       "    .dataframe tbody tr th {\n",
       "        vertical-align: top;\n",
       "    }\n",
       "\n",
       "    .dataframe thead th {\n",
       "        text-align: right;\n",
       "    }\n",
       "</style>\n",
       "<table border=\"1\" class=\"dataframe\">\n",
       "  <thead>\n",
       "    <tr style=\"text-align: right;\">\n",
       "      <th></th>\n",
       "      <th>state</th>\n",
       "      <th>district</th>\n",
       "      <th>block_name</th>\n",
       "      <th>distributor_id</th>\n",
       "      <th>account_type_id</th>\n",
       "      <th>distributor_name</th>\n",
       "      <th>dealer_id</th>\n",
       "      <th>dealer_name</th>\n",
       "      <th>Dealer_type</th>\n",
       "      <th>NOD_TYPE</th>\n",
       "      <th>...</th>\n",
       "      <th>ME_joining_date</th>\n",
       "      <th>ME_termination_date</th>\n",
       "      <th>SH_name</th>\n",
       "      <th>SH_joining_date</th>\n",
       "      <th>SH_termination_date</th>\n",
       "      <th>current_outstanding</th>\n",
       "      <th>outstd_LessThan31Days</th>\n",
       "      <th>outstd_thirtyoneTo45Days</th>\n",
       "      <th>outstd_fourtysixTo60Days</th>\n",
       "      <th>outstd_sixtyoneTo90Days</th>\n",
       "    </tr>\n",
       "  </thead>\n",
       "  <tbody>\n",
       "    <tr>\n",
       "      <th>0</th>\n",
       "      <td>Odisha</td>\n",
       "      <td>JAGATSINGHPUR</td>\n",
       "      <td>Balikuda</td>\n",
       "      <td>2293764</td>\n",
       "      <td>7</td>\n",
       "      <td>MAHALAXMI STEEL CENTRE</td>\n",
       "      <td>2209262</td>\n",
       "      <td>TATA - MAHAVIR SUPPLY AGENCY</td>\n",
       "      <td>Prospective</td>\n",
       "      <td>NaN</td>\n",
       "      <td>...</td>\n",
       "      <td>NaN</td>\n",
       "      <td>NaN</td>\n",
       "      <td>NaN</td>\n",
       "      <td>2022-11-28</td>\n",
       "      <td>0000-00-00</td>\n",
       "      <td>NaN</td>\n",
       "      <td>NaN</td>\n",
       "      <td>NaN</td>\n",
       "      <td>NaN</td>\n",
       "      <td>NaN</td>\n",
       "    </tr>\n",
       "    <tr>\n",
       "      <th>1</th>\n",
       "      <td>Odisha</td>\n",
       "      <td>CUTTACK</td>\n",
       "      <td>CUTTACK SADAR</td>\n",
       "      <td>2293764</td>\n",
       "      <td>7</td>\n",
       "      <td>MAHALAXMI STEEL CENTRE</td>\n",
       "      <td>2223003</td>\n",
       "      <td>SHREE JAGANNATH STEEL</td>\n",
       "      <td>Prospective</td>\n",
       "      <td>NORMAL</td>\n",
       "      <td>...</td>\n",
       "      <td>NaN</td>\n",
       "      <td>NaN</td>\n",
       "      <td>NaN</td>\n",
       "      <td>2022-11-28</td>\n",
       "      <td>0000-00-00</td>\n",
       "      <td>NaN</td>\n",
       "      <td>NaN</td>\n",
       "      <td>NaN</td>\n",
       "      <td>NaN</td>\n",
       "      <td>NaN</td>\n",
       "    </tr>\n",
       "    <tr>\n",
       "      <th>2</th>\n",
       "      <td>Odisha</td>\n",
       "      <td>CUTTACK</td>\n",
       "      <td>KANTAPADA</td>\n",
       "      <td>2293764</td>\n",
       "      <td>7</td>\n",
       "      <td>MAHALAXMI STEEL CENTRE</td>\n",
       "      <td>2274495</td>\n",
       "      <td>MAHALAXMI STEEL AND CO</td>\n",
       "      <td>Survey</td>\n",
       "      <td>NaN</td>\n",
       "      <td>...</td>\n",
       "      <td>NaN</td>\n",
       "      <td>NaN</td>\n",
       "      <td>NaN</td>\n",
       "      <td>2022-11-28</td>\n",
       "      <td>0000-00-00</td>\n",
       "      <td>NaN</td>\n",
       "      <td>NaN</td>\n",
       "      <td>NaN</td>\n",
       "      <td>NaN</td>\n",
       "      <td>NaN</td>\n",
       "    </tr>\n",
       "    <tr>\n",
       "      <th>3</th>\n",
       "      <td>Odisha</td>\n",
       "      <td>CUTTACK</td>\n",
       "      <td>CUTTACK SADAR</td>\n",
       "      <td>2293764</td>\n",
       "      <td>7</td>\n",
       "      <td>MAHALAXMI STEEL CENTRE</td>\n",
       "      <td>2283575</td>\n",
       "      <td>SREE JAGANATH STEELX</td>\n",
       "      <td>Prospective</td>\n",
       "      <td>NaN</td>\n",
       "      <td>...</td>\n",
       "      <td>NaN</td>\n",
       "      <td>NaN</td>\n",
       "      <td>NaN</td>\n",
       "      <td>2022-11-28</td>\n",
       "      <td>0000-00-00</td>\n",
       "      <td>NaN</td>\n",
       "      <td>NaN</td>\n",
       "      <td>NaN</td>\n",
       "      <td>NaN</td>\n",
       "      <td>NaN</td>\n",
       "    </tr>\n",
       "    <tr>\n",
       "      <th>4</th>\n",
       "      <td>Odisha</td>\n",
       "      <td>CUTTACK</td>\n",
       "      <td>CUTTACK SADAR</td>\n",
       "      <td>2293764</td>\n",
       "      <td>7</td>\n",
       "      <td>MAHALAXMI STEEL CENTRE</td>\n",
       "      <td>2293995</td>\n",
       "      <td>BALAJI STEELS</td>\n",
       "      <td>Prospective</td>\n",
       "      <td>NaN</td>\n",
       "      <td>...</td>\n",
       "      <td>NaN</td>\n",
       "      <td>NaN</td>\n",
       "      <td>NaN</td>\n",
       "      <td>2022-11-28</td>\n",
       "      <td>0000-00-00</td>\n",
       "      <td>NaN</td>\n",
       "      <td>NaN</td>\n",
       "      <td>NaN</td>\n",
       "      <td>NaN</td>\n",
       "      <td>NaN</td>\n",
       "    </tr>\n",
       "  </tbody>\n",
       "</table>\n",
       "<p>5 rows × 32 columns</p>\n",
       "</div>"
      ],
      "text/plain": [
       "    state       district     block_name  distributor_id  account_type_id   \n",
       "0  Odisha  JAGATSINGHPUR       Balikuda         2293764                7  \\\n",
       "1  Odisha        CUTTACK  CUTTACK SADAR         2293764                7   \n",
       "2  Odisha        CUTTACK      KANTAPADA         2293764                7   \n",
       "3  Odisha        CUTTACK  CUTTACK SADAR         2293764                7   \n",
       "4  Odisha        CUTTACK  CUTTACK SADAR         2293764                7   \n",
       "\n",
       "         distributor_name  dealer_id                   dealer_name   \n",
       "0  MAHALAXMI STEEL CENTRE    2209262  TATA - MAHAVIR SUPPLY AGENCY  \\\n",
       "1  MAHALAXMI STEEL CENTRE    2223003         SHREE JAGANNATH STEEL   \n",
       "2  MAHALAXMI STEEL CENTRE    2274495        MAHALAXMI STEEL AND CO   \n",
       "3  MAHALAXMI STEEL CENTRE    2283575          SREE JAGANATH STEELX   \n",
       "4  MAHALAXMI STEEL CENTRE    2293995                 BALAJI STEELS   \n",
       "\n",
       "   Dealer_type NOD_TYPE  ...  ME_joining_date ME_termination_date SH_name   \n",
       "0  Prospective      NaN  ...              NaN                 NaN     NaN  \\\n",
       "1  Prospective   NORMAL  ...              NaN                 NaN     NaN   \n",
       "2       Survey      NaN  ...              NaN                 NaN     NaN   \n",
       "3  Prospective      NaN  ...              NaN                 NaN     NaN   \n",
       "4  Prospective      NaN  ...              NaN                 NaN     NaN   \n",
       "\n",
       "  SH_joining_date SH_termination_date current_outstanding   \n",
       "0      2022-11-28          0000-00-00                 NaN  \\\n",
       "1      2022-11-28          0000-00-00                 NaN   \n",
       "2      2022-11-28          0000-00-00                 NaN   \n",
       "3      2022-11-28          0000-00-00                 NaN   \n",
       "4      2022-11-28          0000-00-00                 NaN   \n",
       "\n",
       "  outstd_LessThan31Days outstd_thirtyoneTo45Days outstd_fourtysixTo60Days   \n",
       "0                   NaN                      NaN                      NaN  \\\n",
       "1                   NaN                      NaN                      NaN   \n",
       "2                   NaN                      NaN                      NaN   \n",
       "3                   NaN                      NaN                      NaN   \n",
       "4                   NaN                      NaN                      NaN   \n",
       "\n",
       "  outstd_sixtyoneTo90Days  \n",
       "0                     NaN  \n",
       "1                     NaN  \n",
       "2                     NaN  \n",
       "3                     NaN  \n",
       "4                     NaN  \n",
       "\n",
       "[5 rows x 32 columns]"
      ]
     },
     "execution_count": 18,
     "metadata": {},
     "output_type": "execute_result"
    }
   ],
   "source": [
    "df.head()"
   ]
  },
  {
   "cell_type": "code",
   "execution_count": 19,
   "metadata": {},
   "outputs": [
    {
     "data": {
      "text/plain": [
       "Index(['state', 'district', 'block_name', 'distributor_id', 'account_type_id',\n",
       "       'distributor_name', 'dealer_id', 'dealer_name', 'Dealer_type',\n",
       "       'NOD_TYPE', 'primary_lifting', 'primary_lifting_date', 'AGM_RSM_name',\n",
       "       'agm_rsm_joining_date', 'agm_rsm_termination_date', 'Asm_name',\n",
       "       'asm_joining_date', 'asm_termination_date', 'so_name',\n",
       "       'so_joining_date', 'so_termination_date', 'ME_name', 'ME_joining_date',\n",
       "       'ME_termination_date', 'SH_name', 'SH_joining_date',\n",
       "       'SH_termination_date', 'current_outstanding', 'outstd_LessThan31Days',\n",
       "       'outstd_thirtyoneTo45Days', 'outstd_fourtysixTo60Days',\n",
       "       'outstd_sixtyoneTo90Days'],\n",
       "      dtype='object')"
      ]
     },
     "execution_count": 19,
     "metadata": {},
     "output_type": "execute_result"
    }
   ],
   "source": [
    "df.columns"
   ]
  },
  {
   "cell_type": "code",
   "execution_count": 20,
   "metadata": {},
   "outputs": [
    {
     "data": {
      "text/html": [
       "<div>\n",
       "<style scoped>\n",
       "    .dataframe tbody tr th:only-of-type {\n",
       "        vertical-align: middle;\n",
       "    }\n",
       "\n",
       "    .dataframe tbody tr th {\n",
       "        vertical-align: top;\n",
       "    }\n",
       "\n",
       "    .dataframe thead th {\n",
       "        text-align: right;\n",
       "    }\n",
       "</style>\n",
       "<table border=\"1\" class=\"dataframe\">\n",
       "  <thead>\n",
       "    <tr style=\"text-align: right;\">\n",
       "      <th></th>\n",
       "      <th>state</th>\n",
       "      <th>district</th>\n",
       "      <th>block_name</th>\n",
       "      <th>distributor_id</th>\n",
       "      <th>account_type_id</th>\n",
       "      <th>distributor_name</th>\n",
       "      <th>dealer_id</th>\n",
       "      <th>dealer_name</th>\n",
       "      <th>Dealer_type</th>\n",
       "      <th>NOD_TYPE</th>\n",
       "      <th>...</th>\n",
       "      <th>ME_joining_date</th>\n",
       "      <th>ME_termination_date</th>\n",
       "      <th>SH_name</th>\n",
       "      <th>SH_joining_date</th>\n",
       "      <th>SH_termination_date</th>\n",
       "      <th>current_outstanding</th>\n",
       "      <th>outstd_LessThan31Days</th>\n",
       "      <th>outstd_thirtyoneTo45Days</th>\n",
       "      <th>outstd_fourtysixTo60Days</th>\n",
       "      <th>outstd_sixtyoneTo90Days</th>\n",
       "    </tr>\n",
       "  </thead>\n",
       "  <tbody>\n",
       "    <tr>\n",
       "      <th>37016</th>\n",
       "      <td>Bihar</td>\n",
       "      <td>ARARIA</td>\n",
       "      <td>ARARIA</td>\n",
       "      <td>12665</td>\n",
       "      <td>7</td>\n",
       "      <td>KRISHNA ENTERPRISES</td>\n",
       "      <td>60377</td>\n",
       "      <td>OM SAI TRADING</td>\n",
       "      <td>Active</td>\n",
       "      <td>NOD</td>\n",
       "      <td>...</td>\n",
       "      <td>2019-07-26</td>\n",
       "      <td>0000-00-00</td>\n",
       "      <td>PANKAJ KUMAR</td>\n",
       "      <td>2023-01-11</td>\n",
       "      <td>0000-00-00</td>\n",
       "      <td>-19849.64</td>\n",
       "      <td>-19849.64</td>\n",
       "      <td>0.00</td>\n",
       "      <td>0.00</td>\n",
       "      <td>0.0</td>\n",
       "    </tr>\n",
       "    <tr>\n",
       "      <th>37071</th>\n",
       "      <td>Bihar</td>\n",
       "      <td>ARARIA</td>\n",
       "      <td>ARARIA</td>\n",
       "      <td>12665</td>\n",
       "      <td>7</td>\n",
       "      <td>KRISHNA ENTERPRISES</td>\n",
       "      <td>12329</td>\n",
       "      <td>KASBA STEEL CENTRE</td>\n",
       "      <td>Active</td>\n",
       "      <td>NOD</td>\n",
       "      <td>...</td>\n",
       "      <td>2019-07-26</td>\n",
       "      <td>0000-00-00</td>\n",
       "      <td>PANKAJ KUMAR</td>\n",
       "      <td>2023-01-11</td>\n",
       "      <td>0000-00-00</td>\n",
       "      <td>1616993.32</td>\n",
       "      <td>1618383.25</td>\n",
       "      <td>0.00</td>\n",
       "      <td>0.00</td>\n",
       "      <td>0.0</td>\n",
       "    </tr>\n",
       "    <tr>\n",
       "      <th>37078</th>\n",
       "      <td>Bihar</td>\n",
       "      <td>SITAMARHI</td>\n",
       "      <td>DUMRA</td>\n",
       "      <td>2199537</td>\n",
       "      <td>7</td>\n",
       "      <td>RAJU RANJAN AGENCY</td>\n",
       "      <td>2224878</td>\n",
       "      <td>D.K.S</td>\n",
       "      <td>Active</td>\n",
       "      <td>NORMAL</td>\n",
       "      <td>...</td>\n",
       "      <td>2021-11-22</td>\n",
       "      <td>0000-00-00</td>\n",
       "      <td>PANKAJ KUMAR</td>\n",
       "      <td>2023-01-11</td>\n",
       "      <td>0000-00-00</td>\n",
       "      <td>405482.86</td>\n",
       "      <td>0.00</td>\n",
       "      <td>0.00</td>\n",
       "      <td>405482.86</td>\n",
       "      <td>0.0</td>\n",
       "    </tr>\n",
       "    <tr>\n",
       "      <th>37128</th>\n",
       "      <td>Bihar</td>\n",
       "      <td>SITAMARHI</td>\n",
       "      <td>DUMRA</td>\n",
       "      <td>2199537</td>\n",
       "      <td>7</td>\n",
       "      <td>RAJU RANJAN AGENCY</td>\n",
       "      <td>2103703</td>\n",
       "      <td>KRISHNAMANI TRADERS</td>\n",
       "      <td>Active</td>\n",
       "      <td>NORMAL</td>\n",
       "      <td>...</td>\n",
       "      <td>2021-11-22</td>\n",
       "      <td>0000-00-00</td>\n",
       "      <td>PANKAJ KUMAR</td>\n",
       "      <td>2023-01-11</td>\n",
       "      <td>0000-00-00</td>\n",
       "      <td>1644159.72</td>\n",
       "      <td>1644159.72</td>\n",
       "      <td>0.00</td>\n",
       "      <td>0.00</td>\n",
       "      <td>0.0</td>\n",
       "    </tr>\n",
       "    <tr>\n",
       "      <th>37129</th>\n",
       "      <td>Bihar</td>\n",
       "      <td>VAISHALI</td>\n",
       "      <td>HAJIPUR</td>\n",
       "      <td>2188113</td>\n",
       "      <td>7</td>\n",
       "      <td>CREATIVE ASSOCIATES</td>\n",
       "      <td>2237480</td>\n",
       "      <td>MAA JAGDAMBA IRON</td>\n",
       "      <td>Active</td>\n",
       "      <td>NORMAL</td>\n",
       "      <td>...</td>\n",
       "      <td>2021-04-16</td>\n",
       "      <td>0000-00-00</td>\n",
       "      <td>PANKAJ KUMAR</td>\n",
       "      <td>2023-01-11</td>\n",
       "      <td>0000-00-00</td>\n",
       "      <td>477437.26</td>\n",
       "      <td>477437.26</td>\n",
       "      <td>0.00</td>\n",
       "      <td>0.00</td>\n",
       "      <td>0.0</td>\n",
       "    </tr>\n",
       "    <tr>\n",
       "      <th>...</th>\n",
       "      <td>...</td>\n",
       "      <td>...</td>\n",
       "      <td>...</td>\n",
       "      <td>...</td>\n",
       "      <td>...</td>\n",
       "      <td>...</td>\n",
       "      <td>...</td>\n",
       "      <td>...</td>\n",
       "      <td>...</td>\n",
       "      <td>...</td>\n",
       "      <td>...</td>\n",
       "      <td>...</td>\n",
       "      <td>...</td>\n",
       "      <td>...</td>\n",
       "      <td>...</td>\n",
       "      <td>...</td>\n",
       "      <td>...</td>\n",
       "      <td>...</td>\n",
       "      <td>...</td>\n",
       "      <td>...</td>\n",
       "      <td>...</td>\n",
       "    </tr>\n",
       "    <tr>\n",
       "      <th>41792</th>\n",
       "      <td>Odisha</td>\n",
       "      <td>CUTTACK</td>\n",
       "      <td>CUTTACK SADAR</td>\n",
       "      <td>2293764</td>\n",
       "      <td>7</td>\n",
       "      <td>MAHALAXMI STEEL CENTRE</td>\n",
       "      <td>2024337</td>\n",
       "      <td>M/S KASHINATH SAHOO</td>\n",
       "      <td>Active</td>\n",
       "      <td>NORMAL</td>\n",
       "      <td>...</td>\n",
       "      <td>2023-02-27</td>\n",
       "      <td>0000-00-00</td>\n",
       "      <td>Susima Chandra Patra</td>\n",
       "      <td>2022-11-28</td>\n",
       "      <td>0000-00-00</td>\n",
       "      <td>1520400.48</td>\n",
       "      <td>871373.03</td>\n",
       "      <td>442659.01</td>\n",
       "      <td>206368.44</td>\n",
       "      <td>0.0</td>\n",
       "    </tr>\n",
       "    <tr>\n",
       "      <th>41801</th>\n",
       "      <td>Bihar</td>\n",
       "      <td>VAISHALI</td>\n",
       "      <td>CHEHRAKALA</td>\n",
       "      <td>2188113</td>\n",
       "      <td>7</td>\n",
       "      <td>CREATIVE ASSOCIATES</td>\n",
       "      <td>62529</td>\n",
       "      <td>BHAGWATI CEMENT STORE</td>\n",
       "      <td>Active</td>\n",
       "      <td>NORMAL</td>\n",
       "      <td>...</td>\n",
       "      <td>2021-04-16</td>\n",
       "      <td>0000-00-00</td>\n",
       "      <td>PANKAJ KUMAR</td>\n",
       "      <td>2023-01-11</td>\n",
       "      <td>0000-00-00</td>\n",
       "      <td>-218.07</td>\n",
       "      <td>-218.07</td>\n",
       "      <td>0.00</td>\n",
       "      <td>0.00</td>\n",
       "      <td>0.0</td>\n",
       "    </tr>\n",
       "    <tr>\n",
       "      <th>41802</th>\n",
       "      <td>Bihar</td>\n",
       "      <td>SITAMARHI</td>\n",
       "      <td>DUMRA</td>\n",
       "      <td>2199537</td>\n",
       "      <td>7</td>\n",
       "      <td>RAJU RANJAN AGENCY</td>\n",
       "      <td>2103703</td>\n",
       "      <td>KRISHNAMANI TRADERS</td>\n",
       "      <td>Active</td>\n",
       "      <td>NORMAL</td>\n",
       "      <td>...</td>\n",
       "      <td>2021-11-22</td>\n",
       "      <td>0000-00-00</td>\n",
       "      <td>PANKAJ KUMAR</td>\n",
       "      <td>2023-01-11</td>\n",
       "      <td>0000-00-00</td>\n",
       "      <td>1644159.72</td>\n",
       "      <td>1644159.72</td>\n",
       "      <td>0.00</td>\n",
       "      <td>0.00</td>\n",
       "      <td>0.0</td>\n",
       "    </tr>\n",
       "    <tr>\n",
       "      <th>41803</th>\n",
       "      <td>Bihar</td>\n",
       "      <td>SITAMARHI</td>\n",
       "      <td>BAJPATTI</td>\n",
       "      <td>2199537</td>\n",
       "      <td>7</td>\n",
       "      <td>RAJU RANJAN AGENCY</td>\n",
       "      <td>2204480</td>\n",
       "      <td>NEW SAHIL TRADERS</td>\n",
       "      <td>Active</td>\n",
       "      <td>NORMAL</td>\n",
       "      <td>...</td>\n",
       "      <td>2021-11-22</td>\n",
       "      <td>0000-00-00</td>\n",
       "      <td>PANKAJ KUMAR</td>\n",
       "      <td>2023-01-11</td>\n",
       "      <td>0000-00-00</td>\n",
       "      <td>8983.20</td>\n",
       "      <td>0.00</td>\n",
       "      <td>8983.20</td>\n",
       "      <td>0.00</td>\n",
       "      <td>0.0</td>\n",
       "    </tr>\n",
       "    <tr>\n",
       "      <th>41804</th>\n",
       "      <td>Bihar</td>\n",
       "      <td>SITAMARHI</td>\n",
       "      <td>RIGA</td>\n",
       "      <td>2199537</td>\n",
       "      <td>7</td>\n",
       "      <td>RAJU RANJAN AGENCY</td>\n",
       "      <td>2207639</td>\n",
       "      <td>BABLU TRADERS</td>\n",
       "      <td>Active</td>\n",
       "      <td>NORMAL</td>\n",
       "      <td>...</td>\n",
       "      <td>2021-11-22</td>\n",
       "      <td>0000-00-00</td>\n",
       "      <td>PANKAJ KUMAR</td>\n",
       "      <td>2023-01-11</td>\n",
       "      <td>0000-00-00</td>\n",
       "      <td>459652.59</td>\n",
       "      <td>459652.59</td>\n",
       "      <td>0.00</td>\n",
       "      <td>0.00</td>\n",
       "      <td>0.0</td>\n",
       "    </tr>\n",
       "  </tbody>\n",
       "</table>\n",
       "<p>433 rows × 32 columns</p>\n",
       "</div>"
      ],
      "text/plain": [
       "        state   district     block_name  distributor_id  account_type_id   \n",
       "37016   Bihar     ARARIA         ARARIA           12665                7  \\\n",
       "37071   Bihar     ARARIA         ARARIA           12665                7   \n",
       "37078   Bihar  SITAMARHI          DUMRA         2199537                7   \n",
       "37128   Bihar  SITAMARHI          DUMRA         2199537                7   \n",
       "37129   Bihar   VAISHALI        HAJIPUR         2188113                7   \n",
       "...       ...        ...            ...             ...              ...   \n",
       "41792  Odisha    CUTTACK  CUTTACK SADAR         2293764                7   \n",
       "41801   Bihar   VAISHALI     CHEHRAKALA         2188113                7   \n",
       "41802   Bihar  SITAMARHI          DUMRA         2199537                7   \n",
       "41803   Bihar  SITAMARHI       BAJPATTI         2199537                7   \n",
       "41804   Bihar  SITAMARHI           RIGA         2199537                7   \n",
       "\n",
       "             distributor_name  dealer_id            dealer_name Dealer_type   \n",
       "37016     KRISHNA ENTERPRISES      60377         OM SAI TRADING      Active  \\\n",
       "37071     KRISHNA ENTERPRISES      12329     KASBA STEEL CENTRE      Active   \n",
       "37078      RAJU RANJAN AGENCY    2224878                  D.K.S      Active   \n",
       "37128      RAJU RANJAN AGENCY    2103703    KRISHNAMANI TRADERS      Active   \n",
       "37129     CREATIVE ASSOCIATES    2237480      MAA JAGDAMBA IRON      Active   \n",
       "...                       ...        ...                    ...         ...   \n",
       "41792  MAHALAXMI STEEL CENTRE    2024337    M/S KASHINATH SAHOO      Active   \n",
       "41801     CREATIVE ASSOCIATES      62529  BHAGWATI CEMENT STORE      Active   \n",
       "41802      RAJU RANJAN AGENCY    2103703    KRISHNAMANI TRADERS      Active   \n",
       "41803      RAJU RANJAN AGENCY    2204480      NEW SAHIL TRADERS      Active   \n",
       "41804      RAJU RANJAN AGENCY    2207639          BABLU TRADERS      Active   \n",
       "\n",
       "      NOD_TYPE  ...  ME_joining_date ME_termination_date   \n",
       "37016      NOD  ...       2019-07-26          0000-00-00  \\\n",
       "37071      NOD  ...       2019-07-26          0000-00-00   \n",
       "37078   NORMAL  ...       2021-11-22          0000-00-00   \n",
       "37128   NORMAL  ...       2021-11-22          0000-00-00   \n",
       "37129   NORMAL  ...       2021-04-16          0000-00-00   \n",
       "...        ...  ...              ...                 ...   \n",
       "41792   NORMAL  ...       2023-02-27          0000-00-00   \n",
       "41801   NORMAL  ...       2021-04-16          0000-00-00   \n",
       "41802   NORMAL  ...       2021-11-22          0000-00-00   \n",
       "41803   NORMAL  ...       2021-11-22          0000-00-00   \n",
       "41804   NORMAL  ...       2021-11-22          0000-00-00   \n",
       "\n",
       "                    SH_name SH_joining_date SH_termination_date   \n",
       "37016          PANKAJ KUMAR      2023-01-11          0000-00-00  \\\n",
       "37071          PANKAJ KUMAR      2023-01-11          0000-00-00   \n",
       "37078          PANKAJ KUMAR      2023-01-11          0000-00-00   \n",
       "37128          PANKAJ KUMAR      2023-01-11          0000-00-00   \n",
       "37129          PANKAJ KUMAR      2023-01-11          0000-00-00   \n",
       "...                     ...             ...                 ...   \n",
       "41792  Susima Chandra Patra      2022-11-28          0000-00-00   \n",
       "41801          PANKAJ KUMAR      2023-01-11          0000-00-00   \n",
       "41802          PANKAJ KUMAR      2023-01-11          0000-00-00   \n",
       "41803          PANKAJ KUMAR      2023-01-11          0000-00-00   \n",
       "41804          PANKAJ KUMAR      2023-01-11          0000-00-00   \n",
       "\n",
       "      current_outstanding outstd_LessThan31Days outstd_thirtyoneTo45Days   \n",
       "37016           -19849.64             -19849.64                     0.00  \\\n",
       "37071          1616993.32            1618383.25                     0.00   \n",
       "37078           405482.86                  0.00                     0.00   \n",
       "37128          1644159.72            1644159.72                     0.00   \n",
       "37129           477437.26             477437.26                     0.00   \n",
       "...                   ...                   ...                      ...   \n",
       "41792          1520400.48             871373.03                442659.01   \n",
       "41801             -218.07               -218.07                     0.00   \n",
       "41802          1644159.72            1644159.72                     0.00   \n",
       "41803             8983.20                  0.00                  8983.20   \n",
       "41804           459652.59             459652.59                     0.00   \n",
       "\n",
       "      outstd_fourtysixTo60Days outstd_sixtyoneTo90Days  \n",
       "37016                     0.00                     0.0  \n",
       "37071                     0.00                     0.0  \n",
       "37078                405482.86                     0.0  \n",
       "37128                     0.00                     0.0  \n",
       "37129                     0.00                     0.0  \n",
       "...                        ...                     ...  \n",
       "41792                206368.44                     0.0  \n",
       "41801                     0.00                     0.0  \n",
       "41802                     0.00                     0.0  \n",
       "41803                     0.00                     0.0  \n",
       "41804                     0.00                     0.0  \n",
       "\n",
       "[433 rows x 32 columns]"
      ]
     },
     "execution_count": 20,
     "metadata": {},
     "output_type": "execute_result"
    }
   ],
   "source": [
    "df.dropna()"
   ]
  },
  {
   "cell_type": "code",
   "execution_count": 21,
   "metadata": {},
   "outputs": [
    {
     "data": {
      "text/plain": [
       "state                           0\n",
       "district                        9\n",
       "block_name                   4048\n",
       "distributor_id                  0\n",
       "account_type_id                 0\n",
       "distributor_name                0\n",
       "dealer_id                       0\n",
       "dealer_name                     0\n",
       "Dealer_type                     0\n",
       "NOD_TYPE                    15796\n",
       "primary_lifting                 0\n",
       "primary_lifting_date        15925\n",
       "AGM_RSM_name                32236\n",
       "agm_rsm_joining_date        16371\n",
       "agm_rsm_termination_date    16371\n",
       "Asm_name                    29052\n",
       "asm_joining_date            15113\n",
       "asm_termination_date        15113\n",
       "so_name                     29573\n",
       "so_joining_date             11680\n",
       "so_termination_date         11680\n",
       "ME_name                     32932\n",
       "ME_joining_date             19897\n",
       "ME_termination_date         19897\n",
       "SH_name                     33736\n",
       "SH_joining_date             10116\n",
       "SH_termination_date         10116\n",
       "current_outstanding         16652\n",
       "outstd_LessThan31Days       16652\n",
       "outstd_thirtyoneTo45Days    16652\n",
       "outstd_fourtysixTo60Days    16652\n",
       "outstd_sixtyoneTo90Days     16652\n",
       "dtype: int64"
      ]
     },
     "execution_count": 21,
     "metadata": {},
     "output_type": "execute_result"
    }
   ],
   "source": [
    "df.isnull().sum()"
   ]
  },
  {
   "cell_type": "code",
   "execution_count": 22,
   "metadata": {},
   "outputs": [],
   "source": [
    "df1 = df[['state','district','block_name','primary_lifting']]"
   ]
  },
  {
   "cell_type": "code",
   "execution_count": 23,
   "metadata": {},
   "outputs": [
    {
     "data": {
      "text/html": [
       "<div>\n",
       "<style scoped>\n",
       "    .dataframe tbody tr th:only-of-type {\n",
       "        vertical-align: middle;\n",
       "    }\n",
       "\n",
       "    .dataframe tbody tr th {\n",
       "        vertical-align: top;\n",
       "    }\n",
       "\n",
       "    .dataframe thead th {\n",
       "        text-align: right;\n",
       "    }\n",
       "</style>\n",
       "<table border=\"1\" class=\"dataframe\">\n",
       "  <thead>\n",
       "    <tr style=\"text-align: right;\">\n",
       "      <th></th>\n",
       "      <th>state</th>\n",
       "      <th>district</th>\n",
       "      <th>block_name</th>\n",
       "      <th>primary_lifting</th>\n",
       "    </tr>\n",
       "  </thead>\n",
       "  <tbody>\n",
       "    <tr>\n",
       "      <th>0</th>\n",
       "      <td>Odisha</td>\n",
       "      <td>JAGATSINGHPUR</td>\n",
       "      <td>Balikuda</td>\n",
       "      <td>0.0</td>\n",
       "    </tr>\n",
       "    <tr>\n",
       "      <th>1</th>\n",
       "      <td>Odisha</td>\n",
       "      <td>CUTTACK</td>\n",
       "      <td>CUTTACK SADAR</td>\n",
       "      <td>0.0</td>\n",
       "    </tr>\n",
       "    <tr>\n",
       "      <th>2</th>\n",
       "      <td>Odisha</td>\n",
       "      <td>CUTTACK</td>\n",
       "      <td>KANTAPADA</td>\n",
       "      <td>0.0</td>\n",
       "    </tr>\n",
       "    <tr>\n",
       "      <th>3</th>\n",
       "      <td>Odisha</td>\n",
       "      <td>CUTTACK</td>\n",
       "      <td>CUTTACK SADAR</td>\n",
       "      <td>0.0</td>\n",
       "    </tr>\n",
       "    <tr>\n",
       "      <th>4</th>\n",
       "      <td>Odisha</td>\n",
       "      <td>CUTTACK</td>\n",
       "      <td>CUTTACK SADAR</td>\n",
       "      <td>0.0</td>\n",
       "    </tr>\n",
       "  </tbody>\n",
       "</table>\n",
       "</div>"
      ],
      "text/plain": [
       "    state       district     block_name  primary_lifting\n",
       "0  Odisha  JAGATSINGHPUR       Balikuda              0.0\n",
       "1  Odisha        CUTTACK  CUTTACK SADAR              0.0\n",
       "2  Odisha        CUTTACK      KANTAPADA              0.0\n",
       "3  Odisha        CUTTACK  CUTTACK SADAR              0.0\n",
       "4  Odisha        CUTTACK  CUTTACK SADAR              0.0"
      ]
     },
     "execution_count": 23,
     "metadata": {},
     "output_type": "execute_result"
    }
   ],
   "source": [
    "df1.head()"
   ]
  },
  {
   "cell_type": "code",
   "execution_count": 24,
   "metadata": {},
   "outputs": [],
   "source": [
    "df1 = df1.dropna()"
   ]
  },
  {
   "cell_type": "code",
   "execution_count": 25,
   "metadata": {},
   "outputs": [
    {
     "data": {
      "text/plain": [
       "state              0\n",
       "district           0\n",
       "block_name         0\n",
       "primary_lifting    0\n",
       "dtype: int64"
      ]
     },
     "execution_count": 25,
     "metadata": {},
     "output_type": "execute_result"
    }
   ],
   "source": [
    "df1.isnull().sum()"
   ]
  },
  {
   "cell_type": "code",
   "execution_count": null,
   "metadata": {},
   "outputs": [],
   "source": []
  },
  {
   "cell_type": "code",
   "execution_count": null,
   "metadata": {},
   "outputs": [],
   "source": []
  },
  {
   "cell_type": "code",
   "execution_count": 26,
   "metadata": {},
   "outputs": [
    {
     "data": {
      "text/plain": [
       "state              0\n",
       "district           0\n",
       "block_name         0\n",
       "primary_lifting    0\n",
       "dtype: int64"
      ]
     },
     "execution_count": 26,
     "metadata": {},
     "output_type": "execute_result"
    }
   ],
   "source": [
    "df1.isnull().sum()"
   ]
  },
  {
   "cell_type": "code",
   "execution_count": 27,
   "metadata": {},
   "outputs": [],
   "source": [
    "df1 = df1[df1['primary_lifting']>0]"
   ]
  },
  {
   "cell_type": "code",
   "execution_count": null,
   "metadata": {},
   "outputs": [],
   "source": []
  },
  {
   "cell_type": "code",
   "execution_count": 28,
   "metadata": {},
   "outputs": [
    {
     "data": {
      "application/vnd.plotly.v1+json": {
       "config": {
        "plotlyServerURL": "https://plot.ly"
       },
       "data": [
        {
         "branchvalues": "total",
         "customdata": [
          [
           "Odisha",
           12.103524229074887
          ],
          [
           "Assam",
           13.595920029279892
          ],
          [
           "Assam",
           18.963944847605223
          ],
          [
           "Jharkhand",
           25.63629596667972
          ],
          [
           "Tripura",
           13.821558185984454
          ],
          [
           "Assam",
           20.803076092822447
          ],
          [
           "Mizoram",
           34.46254193128155
          ],
          [
           "Bihar",
           6.284848585690517
          ],
          [
           "Bihar",
           12.70583333333333
          ],
          [
           "Tripura",
           3.538376951151039
          ],
          [
           "Haryana",
           25.01500099940036
          ],
          [
           "Assam",
           6.769762186115214
          ],
          [
           "Punjab",
           8.280687224669604
          ],
          [
           "Odisha",
           13.334382756368388
          ],
          [
           "Bihar",
           9.205384003635539
          ],
          [
           "Bihar",
           6.653698735887291
          ],
          [
           "Odisha",
           8.740336595905347
          ],
          [
           "Odisha",
           10.76111080153856
          ],
          [
           "Bihar",
           15.848997592603013
          ],
          [
           "Bihar",
           31.91385021146214
          ],
          [
           "Bihar",
           9.861457829660843
          ],
          [
           "Odisha",
           9.427636082890787
          ],
          [
           "Odisha",
           17.72810099788328
          ],
          [
           "Bihar",
           7.393487861871997
          ],
          [
           "Bihar",
           15.406915570250094
          ],
          [
           "Uttar Pradesh",
           7.008640629312724
          ],
          [
           "Assam",
           17.525906903729993
          ],
          [
           "Bihar",
           9.067186408542062
          ],
          [
           "Bihar",
           6.630667172100076
          ],
          [
           "Odisha",
           13.051801696020874
          ],
          [
           "Haryana",
           16.384801488833745
          ],
          [
           "Odisha",
           11.783492117888965
          ],
          [
           "Bihar",
           5.966527085270008
          ],
          [
           "Odisha",
           6.948996763754044
          ],
          [
           "Assam",
           15.34149812551731
          ],
          [
           "Odisha",
           27.063212501452302
          ],
          [
           "Jharkhand",
           29.71832047537014
          ],
          [
           "Jharkhand",
           20.657193763919825
          ],
          [
           "Bihar",
           13.358897666394258
          ],
          [
           "Uttar Pradesh",
           11.86492159559835
          ],
          [
           "Odisha",
           18.683530120579526
          ],
          [
           "Assam",
           11.399234313592629
          ],
          [
           "Uttar Pradesh",
           4.58631419939577
          ],
          [
           "Bihar",
           7.966880482006722
          ],
          [
           "Tripura",
           7.009407813299471
          ],
          [
           "Bihar",
           9.25773093432672
          ],
          [
           "Bihar",
           29.831830372108616
          ],
          [
           "Uttar Pradesh",
           5.9951790497069055
          ],
          [
           "Bihar",
           8.574682759074605
          ],
          [
           "Uttar Pradesh",
           19.694053589845566
          ],
          [
           "Odisha",
           19.24154408709873
          ],
          [
           "Odisha",
           24.240818830011342
          ],
          [
           "Odisha",
           6.05
          ],
          [
           "Odisha",
           9.583880285524167
          ],
          [
           "Odisha",
           5.86
          ],
          [
           "Assam",
           31.98
          ],
          [
           "Assam",
           13.321268433839347
          ],
          [
           "Odisha",
           10.24877836860437
          ],
          [
           "Odisha",
           7.171552797089228
          ],
          [
           "Odisha",
           7.449695589488173
          ],
          [
           "Odisha",
           13.987640983987003
          ],
          [
           "Bihar",
           6.892207356901393
          ],
          [
           "Uttar Pradesh",
           6.518492985916276
          ],
          [
           "Assam",
           3.915994571539356
          ],
          [
           "Odisha",
           6.180000000000001
          ],
          [
           "Uttar Pradesh",
           28.17
          ],
          [
           "Bihar",
           9.915
          ],
          [
           "Assam",
           15.849122193436957
          ],
          [
           "Jammu And Kashmir",
           55.03295484080572
          ],
          [
           "Odisha",
           9.578806935399534
          ],
          [
           "Bihar",
           6.7715393103843615
          ],
          [
           "Jharkhand",
           12.3
          ],
          [
           "Bihar",
           7.86785178738787
          ],
          [
           "Uttar Pradesh",
           18.650468700010666
          ],
          [
           "Bihar",
           9.689063674549605
          ],
          [
           "Bihar",
           6.03
          ],
          [
           "Bihar",
           11.471351418410388
          ],
          [
           "Jharkhand",
           5.831394942004183
          ],
          [
           "Assam",
           6
          ],
          [
           "Odisha",
           6.804799930465757
          ],
          [
           "Jharkhand",
           21.99214271496816
          ],
          [
           "Assam",
           19.941412939330398
          ],
          [
           "Assam",
           22.021864142538977
          ],
          [
           "Assam",
           22.27568442724418
          ],
          [
           "Assam",
           11.512030958748685
          ],
          [
           "Bihar",
           11.440285173023488
          ],
          [
           "Bihar",
           10.474835759244689
          ],
          [
           "Jharkhand",
           11.950005578800557
          ],
          [
           "Bihar",
           8.39874241617882
          ],
          [
           "Odisha",
           11.084274838974043
          ],
          [
           "Uttar Pradesh",
           13.12151974679361
          ],
          [
           "Odisha",
           15.454845645344273
          ],
          [
           "Punjab",
           23.127188110448238
          ],
          [
           "Bihar",
           7.734683333333333
          ],
          [
           "Odisha",
           16.602814713557848
          ],
          [
           "Odisha",
           9.291049118098398
          ],
          [
           "Bihar",
           18.662204701557513
          ],
          [
           "Tripura",
           13.420365590659342
          ],
          [
           "Bihar",
           9.105405598400457
          ],
          [
           "Bihar",
           13.551097686693334
          ],
          [
           "Bihar",
           8.607245126387465
          ],
          [
           "Assam",
           13.299569606056359
          ],
          [
           "Odisha",
           9.91953182415578
          ],
          [
           "Bihar",
           15.784047957145097
          ],
          [
           "Assam",
           5.622563629656954
          ],
          [
           "Uttar Pradesh",
           12.009999999999998
          ],
          [
           "Odisha",
           13.67696480736733
          ],
          [
           "Odisha",
           17.702575412089377
          ],
          [
           "Uttar Pradesh",
           6.016525970248483
          ],
          [
           "Uttar Pradesh",
           5.017
          ],
          [
           "Odisha",
           20.703827393890908
          ],
          [
           "Uttar Pradesh",
           24.82
          ],
          [
           "Uttar Pradesh",
           5.7769125326118465
          ],
          [
           "Uttar Pradesh",
           5.98734996102884
          ],
          [
           "Bihar",
           8.630181283377837
          ],
          [
           "Haryana",
           25.508840268456378
          ],
          [
           "Odisha",
           23.298197990585155
          ],
          [
           "Odisha",
           9.391032594244813
          ],
          [
           "Bihar",
           11.96694480604009
          ],
          [
           "Bihar",
           6.874327411827977
          ],
          [
           "Bihar",
           18.948605037707406
          ],
          [
           "Assam",
           7.512762487257901
          ],
          [
           "Bihar",
           5.95287904241915
          ],
          [
           "Bihar",
           8.040561774461029
          ],
          [
           "Assam",
           10.13876682910713
          ],
          [
           "Bihar",
           26.198266626523
          ],
          [
           "Uttar Pradesh",
           12.15
          ],
          [
           "Assam",
           22.806744026486896
          ],
          [
           "Assam",
           12.832648770414869
          ],
          [
           "Odisha",
           8.869820566357822
          ],
          [
           "Bihar",
           9.677100268576545
          ],
          [
           "Uttar Pradesh",
           32.50077219572867
          ],
          [
           "Odisha",
           30.02
          ],
          [
           "Tripura",
           3.7621537056728287
          ],
          [
           "Tripura",
           5.499595196658545
          ],
          [
           "Manipur",
           28.303348314606747
          ],
          [
           "Odisha",
           9.274343624747011
          ],
          [
           "Assam",
           23.032360790135115
          ],
          [
           "Bihar",
           14.710922036159623
          ],
          [
           "Bihar",
           12.934637927132835
          ],
          [
           "Bihar",
           5.541022727272727
          ],
          [
           "Assam",
           15.412694646476696
          ],
          [
           "Assam",
           11.55762275241577
          ],
          [
           "Assam",
           14.374115203544726
          ],
          [
           "Assam",
           11.982685165866892
          ],
          [
           "Arunachal Pradesh",
           11.935406401876989
          ],
          [
           "Assam",
           14.506383305234952
          ],
          [
           "Assam",
           19.999459979168336
          ],
          [
           "Odisha",
           15.899117453657318
          ],
          [
           "Tripura",
           11.528109578745834
          ],
          [
           "Assam",
           10.04
          ],
          [
           "Assam",
           9.657243475452196
          ],
          [
           "Odisha",
           9.162417893340187
          ],
          [
           "Odisha",
           21.75530178891744
          ],
          [
           "Uttar Pradesh",
           7.989717851639377
          ],
          [
           "Odisha",
           5.824911154985192
          ],
          [
           "Jharkhand",
           10.01
          ],
          [
           "Bihar",
           15.088607003655005
          ],
          [
           "Odisha",
           16.938992365640328
          ],
          [
           "Odisha",
           8.52813200498132
          ],
          [
           "Bihar",
           12.592924715752293
          ],
          [
           "Odisha",
           12.04726162162162
          ],
          [
           "Odisha",
           16.01548770411602
          ],
          [
           "Haryana",
           13.95
          ],
          [
           "Odisha",
           16.633166636136043
          ],
          [
           "Odisha",
           14.943867806987399
          ],
          [
           "Odisha",
           31.767193770126326
          ],
          [
           "Bihar",
           15.972577235659314
          ],
          [
           "Odisha",
           17.322803826402804
          ],
          [
           "Odisha",
           14.99377337933539
          ],
          [
           "Odisha",
           7.813567480280727
          ],
          [
           "Bihar",
           13.083184550659015
          ],
          [
           "Odisha",
           9.258037199124727
          ],
          [
           "Assam",
           9.469515368494584
          ],
          [
           "Assam",
           14.86729724702381
          ],
          [
           "Uttar Pradesh",
           5.95
          ],
          [
           "Uttar Pradesh",
           17.722530100120462
          ],
          [
           "Jharkhand",
           5.285714285714286
          ],
          [
           "Odisha",
           15.357610441003004
          ],
          [
           "Odisha",
           10.389288098937554
          ],
          [
           "Jharkhand",
           22.760522783413855
          ],
          [
           "Uttar Pradesh",
           22.89853129445235
          ],
          [
           "Uttar Pradesh",
           16.082589879468
          ],
          [
           "Jharkhand",
           5.256944045911047
          ],
          [
           "Jharkhand",
           10.084214786832163
          ],
          [
           "Bihar",
           9.98
          ],
          [
           "Bihar",
           10.073377466581793
          ],
          [
           "Assam",
           10.721383145363408
          ],
          [
           "Bihar",
           16.443483315298458
          ],
          [
           "Assam",
           11.384551886792451
          ],
          [
           "Uttar Pradesh",
           6.574112012423182
          ],
          [
           "Jharkhand",
           21.780140024239927
          ],
          [
           "Jharkhand",
           19.64
          ],
          [
           "Assam",
           10.98366856303909
          ],
          [
           "Bihar",
           9.077516446969145
          ],
          [
           "Bihar",
           12.28
          ],
          [
           "Odisha",
           22.553916140253733
          ],
          [
           "Manipur",
           46.60856281221092
          ],
          [
           "Uttar Pradesh",
           31.298870991653853
          ],
          [
           "Uttar Pradesh",
           12.106882686461386
          ],
          [
           "Assam",
           9.87933144226537
          ],
          [
           "Andhra Pradesh",
           12.419999999999998
          ],
          [
           "Nagaland",
           39.05069946276203
          ],
          [
           "Odisha",
           15.849906538187717
          ],
          [
           "Bihar",
           7.886388888888889
          ],
          [
           "Bihar",
           11.74591780020477
          ],
          [
           "Bihar",
           7.861371769383698
          ],
          [
           "Bihar",
           12.054933011525959
          ],
          [
           "Odisha",
           4.612461806951795
          ],
          [
           "Bihar",
           6.010000000000001
          ],
          [
           "Odisha",
           12.38018922589407
          ],
          [
           "Bihar",
           6.000004166666666
          ],
          [
           "Bihar",
           29.20173938926905
          ],
          [
           "Assam",
           11.271094724900738
          ],
          [
           "Jharkhand",
           8.763924794359578
          ],
          [
           "Odisha",
           7.33762886597938
          ],
          [
           "Odisha",
           8.921103734439834
          ],
          [
           "Bihar",
           19.960513322974887
          ],
          [
           "Bihar",
           13.457346559407059
          ],
          [
           "Odisha",
           7.670087109521474
          ],
          [
           "Bihar",
           6.378304439190964
          ],
          [
           "Odisha",
           7.732434251477075
          ],
          [
           "Uttar Pradesh",
           5.937556308672519
          ],
          [
           "Odisha",
           16.825309789784093
          ],
          [
           "Assam",
           14.910722257317332
          ],
          [
           "Assam",
           13.197980394023032
          ],
          [
           "Assam",
           37.20592072339471
          ],
          [
           "Assam",
           12.480700713481037
          ],
          [
           "Odisha",
           17.03886926889715
          ],
          [
           "Jharkhand",
           20.762680714857296
          ],
          [
           "Uttar Pradesh",
           12.020000000000001
          ],
          [
           "Odisha",
           6.05
          ],
          [
           "Tripura",
           8.387320945059823
          ],
          [
           "Odisha",
           22.840081104528384
          ],
          [
           "Assam",
           15.487180802282532
          ],
          [
           "Assam",
           17.066204789199336
          ],
          [
           "Odisha",
           10.888344176058638
          ],
          [
           "Odisha",
           8.531435256948862
          ],
          [
           "Assam",
           22.54090914136649
          ],
          [
           "Assam",
           22.111945177439644
          ],
          [
           "Assam",
           22.692610489449418
          ],
          [
           "Odisha",
           5.5661695643551266
          ],
          [
           "Uttar Pradesh",
           20.16057820607858
          ],
          [
           "Assam",
           12.033540166204986
          ],
          [
           "Nagaland",
           18.89
          ],
          [
           "Nagaland",
           24.990000000000002
          ],
          [
           "Assam",
           10.689704956074923
          ],
          [
           "Assam",
           11.39046258102534
          ],
          [
           "Bihar",
           6.230924065889915
          ],
          [
           "Assam",
           12.745376048429954
          ],
          [
           "Assam",
           12.005251978342356
          ],
          [
           "Arunachal Pradesh",
           12.06
          ],
          [
           "Jharkhand",
           6.444810336799628
          ],
          [
           "Assam",
           26.609083062119716
          ],
          [
           "Bihar",
           20.340426431975107
          ],
          [
           "Jharkhand",
           22.84872731393245
          ],
          [
           "Bihar",
           11.326357168058333
          ],
          [
           "Bihar",
           9.456866897088286
          ],
          [
           "Bihar",
           15.282673099625312
          ],
          [
           "Haryana",
           16.630231621349445
          ],
          [
           "Odisha",
           17.772014324082367
          ],
          [
           "Uttar Pradesh",
           5.575360593450335
          ],
          [
           "Bihar",
           15.456464976904938
          ],
          [
           "Tripura",
           3.678843953185955
          ],
          [
           "Assam",
           11.46036966271426
          ],
          [
           "Meghalaya",
           20.72946081156198
          ],
          [
           "Bihar",
           9.981
          ],
          [
           "Odisha",
           10.061082937136822
          ],
          [
           "Assam",
           11.476297260940497
          ],
          [
           "Haryana",
           29.288337144338893
          ],
          [
           "Punjab",
           12.020000000000001
          ],
          [
           "Assam",
           7.191153626499144
          ],
          [
           "Haryana",
           23.209105635648758
          ],
          [
           "Bihar",
           10.003028413028412
          ],
          [
           "Uttar Pradesh",
           6.096888512889928
          ],
          [
           "Assam",
           10.607307790549172
          ],
          [
           "Bihar",
           8.050861353555586
          ],
          [
           "Odisha",
           35.38075987603467
          ],
          [
           "Jharkhand",
           13.92
          ],
          [
           "Jammu And Kashmir",
           11.994643006263047
          ],
          [
           "Assam",
           3.26
          ],
          [
           "Odisha",
           12.428427201287448
          ],
          [
           "Odisha",
           7.38
          ],
          [
           "Bihar",
           44.2850127018391
          ],
          [
           "Assam",
           22.187885833066833
          ],
          [
           "Uttar Pradesh",
           33.21913562311923
          ],
          [
           "Bihar",
           20.33097311961024
          ],
          [
           "Odisha",
           14.442465663264041
          ],
          [
           "Bihar",
           21.80657768549043
          ],
          [
           "Odisha",
           9.22560985841636
          ],
          [
           "Assam",
           21.26521605058745
          ],
          [
           "Bihar",
           7.156538398091141
          ],
          [
           "Bihar",
           12.087644483231397
          ],
          [
           "Assam",
           11.628709623149392
          ],
          [
           "Assam",
           24.23888672926961
          ],
          [
           "Jharkhand",
           11.30456562278953
          ],
          [
           "Assam",
           10.409220912352637
          ],
          [
           "Bihar",
           27.853678559325775
          ],
          [
           "Jharkhand",
           10.738884705882352
          ],
          [
           "Assam",
           14.88928275334945
          ],
          [
           "Assam",
           23.719505212156804
          ],
          [
           "Tripura",
           5.920703243298299
          ],
          [
           "Odisha",
           9.565120418848167
          ],
          [
           "Bihar",
           13.208304782639903
          ],
          [
           "Uttar Pradesh",
           13.673951111222598
          ],
          [
           "Assam",
           16.841086241646337
          ],
          [
           "Assam",
           24.008087666757426
          ],
          [
           "Bihar",
           6.023990863787376
          ],
          [
           "Jharkhand",
           31.830454315149467
          ],
          [
           "Odisha",
           3.05
          ],
          [
           "Jharkhand",
           23.366165494862088
          ],
          [
           "Bihar",
           4.967531454453951
          ],
          [
           "Haryana",
           31.754465935513075
          ],
          [
           "Assam",
           8.088935298257233
          ],
          [
           "Uttar Pradesh",
           11.295241394725076
          ],
          [
           "Uttar Pradesh",
           5.3736989623702955
          ],
          [
           "Uttar Pradesh",
           18.220778126220754
          ],
          [
           "Odisha",
           10.371641911468073
          ],
          [
           "Odisha",
           27.7371901126863
          ],
          [
           "Assam",
           8.993989120580235
          ],
          [
           "Assam",
           12.625725356310628
          ],
          [
           "Assam",
           6.063693199004164
          ],
          [
           "Assam",
           5.538371193813438
          ],
          [
           "Bihar",
           19.59072269403286
          ],
          [
           "Assam",
           10.747362918780494
          ],
          [
           "Uttar Pradesh",
           18.723123689727466
          ],
          [
           "Odisha",
           11.404533187146832
          ],
          [
           "Bihar",
           8.403516940555894
          ],
          [
           "Assam",
           30.69644266131729
          ],
          [
           "Bihar",
           12.226887996804473
          ],
          [
           "Uttar Pradesh",
           6.0114615277623225
          ],
          [
           "Bihar",
           7.22438147380882
          ],
          [
           "Jharkhand",
           21.664879525955314
          ],
          [
           "Odisha",
           6.0920794484569925
          ],
          [
           "Odisha",
           8.749198458574183
          ],
          [
           "Jharkhand",
           17.296657265645983
          ],
          [
           "Haryana",
           34.383263007614204
          ],
          [
           "Bihar",
           8.06833287988029
          ],
          [
           "Assam",
           18.510036164496796
          ],
          [
           "Assam",
           22.601099705969055
          ],
          [
           "Tripura",
           4.808670673470298
          ],
          [
           "Bihar",
           5.027179843394796
          ],
          [
           "Bihar",
           11.763871811292558
          ],
          [
           "Telengana",
           28.580304333712053
          ],
          [
           "Telengana",
           23.07887918176007
          ],
          [
           "Telengana",
           3
          ],
          [
           "Haryana",
           18.588357653791128
          ],
          [
           "Bihar",
           12.233647478195612
          ],
          [
           "Arunachal Pradesh",
           18.317233935109204
          ],
          [
           "Jharkhand",
           6.045000000000001
          ],
          [
           "Odisha",
           10.065764654263177
          ],
          [
           "Bihar",
           6.423125552608312
          ],
          [
           "Bihar",
           7.969441515885455
          ],
          [
           "Assam",
           20.32744179249878
          ],
          [
           "Telengana",
           19.79610642097573
          ],
          [
           "Bihar",
           7.609204731248722
          ],
          [
           "Rajasthan",
           41.724818755846584
          ],
          [
           "Odisha",
           12.910894146268019
          ],
          [
           "Bihar",
           6.388292873923258
          ],
          [
           "Punjab",
           12.961556864595464
          ],
          [
           "Bihar",
           8.750252647503784
          ],
          [
           "Odisha",
           20.34178026695645
          ],
          [
           "Assam",
           11.139200561009817
          ],
          [
           "Assam",
           14.539152725382245
          ],
          [
           "Bihar",
           9.278585142597777
          ],
          [
           "Jammu And Kashmir",
           22.065375010135405
          ],
          [
           "Tripura",
           4.739127916079536
          ],
          [
           "Jharkhand",
           20.43208693390706
          ],
          [
           "Jharkhand",
           9.09908984830805
          ],
          [
           "Assam",
           10.045150115473442
          ],
          [
           "Bihar",
           23.459755637329824
          ],
          [
           "Bihar",
           6.145
          ],
          [
           "Jharkhand",
           19.762299818016384
          ],
          [
           "Uttar Pradesh",
           20.673495702005727
          ],
          [
           "Uttar Pradesh",
           10.001
          ],
          [
           "Bihar",
           18.617733795451784
          ],
          [
           "Bihar",
           17.43050411614634
          ],
          [
           "Haryana",
           48.59297699811328
          ],
          [
           "Bihar",
           9.520555198218814
          ],
          [
           "Odisha",
           11.806477615616725
          ],
          [
           "Haryana",
           28.473616159518127
          ],
          [
           "Assam",
           14.985157467637015
          ],
          [
           "Assam",
           14.035401284675656
          ],
          [
           "Assam",
           15.99342070727192
          ],
          [
           "Uttar Pradesh",
           17.365686718672247
          ],
          [
           "Odisha",
           13.864712940742109
          ],
          [
           "Odisha",
           33.9216081028773
          ],
          [
           "Haryana",
           26.741250832162144
          ],
          [
           "Bihar",
           20.98495844875346
          ],
          [
           "Odisha",
           9.199297352640047
          ],
          [
           "Bihar",
           12.73018385106048
          ],
          [
           "Tripura",
           11.06876084854607
          ],
          [
           "Bihar",
           13.286787612414448
          ],
          [
           "Haryana",
           26.99084467907752
          ],
          [
           "Odisha",
           13.981741653418124
          ],
          [
           "Uttar Pradesh",
           23.921325201717544
          ],
          [
           "Tripura",
           3.54681454391015
          ],
          [
           "Odisha",
           22.67010755097468
          ],
          [
           "Bihar",
           6.850776047705812
          ],
          [
           "Assam",
           13.479801010255624
          ],
          [
           "Assam",
           2.419422936692078
          ],
          [
           "Bihar",
           12.615278281541025
          ],
          [
           "Odisha",
           9.032910238242849
          ],
          [
           "Assam",
           13.364841975646463
          ],
          [
           "Assam",
           16.829950552422158
          ],
          [
           "Assam",
           13.147681017612527
          ],
          [
           "Assam",
           18.315394602628743
          ],
          [
           "Himachal Pradesh",
           14.62
          ],
          [
           "Uttar Pradesh",
           51.97548172992056
          ],
          [
           "Odisha",
           5.409315167591029
          ],
          [
           "Bihar",
           8.42100128653053
          ],
          [
           "Assam",
           11.999032190853214
          ],
          [
           "Tripura",
           3.524
          ],
          [
           "Assam",
           6.023066427289049
          ],
          [
           "Assam",
           6.441100096776289
          ],
          [
           "Telengana",
           28.046252702702702
          ],
          [
           "Haryana",
           23.53664985078869
          ],
          [
           "Jharkhand",
           7.061327548806941
          ],
          [
           "Bihar",
           16.568832186046517
          ],
          [
           "Uttar Pradesh",
           18.022493813701516
          ],
          [
           "Jharkhand",
           5.94
          ],
          [
           "Uttar Pradesh",
           6.623938496793522
          ],
          [
           "Jharkhand",
           11.714874241110149
          ],
          [
           "Bihar",
           5.205
          ],
          [
           "Bihar",
           20.48026766912789
          ],
          [
           "Jharkhand",
           5.4813569684447785
          ],
          [
           "Assam",
           7.940482721956405
          ],
          [
           "Odisha",
           13.723997966774895
          ],
          [
           "Odisha",
           25.534095850131905
          ],
          [
           "Odisha",
           17.16122406786911
          ],
          [
           "Bihar",
           13.722646978769731
          ],
          [
           "Bihar",
           29.74813367376584
          ],
          [
           "Odisha",
           6.215879481200816
          ],
          [
           "Bihar",
           15.205019703356419
          ],
          [
           "Uttar Pradesh",
           6.831550121732488
          ],
          [
           "Odisha",
           8.405520171566454
          ],
          [
           "Odisha",
           16.49032754407977
          ],
          [
           "Assam",
           9.999929086061158
          ],
          [
           "Bihar",
           8.004287227816684
          ],
          [
           "Uttar Pradesh",
           26.988799901871804
          ],
          [
           "Odisha",
           34.53464077205001
          ],
          [
           "Odisha",
           17.404204509856413
          ],
          [
           "Tripura",
           4.508771232748644
          ],
          [
           "Odisha",
           7.7503060795386265
          ],
          [
           "Bihar",
           11.70064896135212
          ],
          [
           "Bihar",
           26.473493528985685
          ],
          [
           "Odisha",
           21.29483048111075
          ],
          [
           "Bihar",
           7.745097231377721
          ],
          [
           "Jharkhand",
           12.062
          ],
          [
           "Nagaland",
           41.76
          ],
          [
           "Assam",
           18.216527595388122
          ],
          [
           "Assam",
           10.06
          ],
          [
           "Manipur",
           21.787164052049132
          ],
          [
           "Odisha",
           24.969999999999995
          ],
          [
           "Odisha",
           20.866612218671264
          ],
          [
           "Bihar",
           9.760567845904452
          ],
          [
           "Assam",
           11.114402897873337
          ],
          [
           "Assam",
           10
          ],
          [
           "Odisha",
           10.278922902494331
          ],
          [
           "Odisha",
           7.690690540279025
          ],
          [
           "Himachal Pradesh",
           15.51
          ],
          [
           "Tripura",
           13.60208741867608
          ],
          [
           "Jharkhand",
           21.938968973395234
          ],
          [
           "Bihar",
           8.06452900759129
          ],
          [
           "Andhra Pradesh",
           17.6
          ],
          [
           "Bihar",
           5.05
          ],
          [
           "Haryana",
           25.94845220168834
          ],
          [
           "Bihar",
           6.247157616530513
          ],
          [
           "Bihar",
           6.004999999999999
          ],
          [
           "Odisha",
           6.205938665906227
          ],
          [
           "Odisha",
           17.65382796197542
          ],
          [
           "Odisha",
           7.88430906576135
          ],
          [
           "Odisha",
           6.801290170916531
          ],
          [
           "Odisha",
           8.21
          ],
          [
           "Odisha",
           25.895996428848694
          ],
          [
           "Odisha",
           5.647992831541219
          ],
          [
           "Bihar",
           12.356084097682153
          ],
          [
           "Odisha",
           13.23027699579558
          ],
          [
           "Odisha",
           7.29923755080558
          ],
          [
           "Bihar",
           10.43
          ],
          [
           "Assam",
           12.020000000000001
          ],
          [
           "Bihar",
           8.487361415596617
          ],
          [
           "Assam",
           25.445089423461518
          ],
          [
           "Assam",
           6.660194555904999
          ],
          [
           "Bihar",
           17.100662660683327
          ],
          [
           "Assam",
           6.15645194639946
          ],
          [
           "Assam",
           11.723230649552704
          ],
          [
           "Bihar",
           9.187271497211023
          ],
          [
           "Assam",
           12.449999999999998
          ],
          [
           "Jharkhand",
           11.95
          ],
          [
           "Odisha",
           24.21312026058632
          ],
          [
           "Punjab",
           14.875324390099129
          ],
          [
           "Assam",
           11.85639709649872
          ],
          [
           "Bihar",
           6.43994704497908
          ],
          [
           "Bihar",
           8.35079163716466
          ],
          [
           "Bihar",
           16.2338243634361
          ],
          [
           "Jharkhand",
           14.494628373973141
          ],
          [
           "Bihar",
           11.177993369208705
          ],
          [
           "Jharkhand",
           11.634975537832585
          ],
          [
           "Odisha",
           8.506477644426976
          ],
          [
           "Bihar",
           11.114191550794015
          ],
          [
           "Haryana",
           22.809679117147706
          ],
          [
           "Jharkhand",
           20.275256951950475
          ],
          [
           "Uttar Pradesh",
           6.870212265407896
          ],
          [
           "Uttar Pradesh",
           11.374372660378166
          ],
          [
           "Bihar",
           8.476301790388566
          ],
          [
           "Assam",
           10.620620506999623
          ],
          [
           "Bihar",
           21.196854062785306
          ],
          [
           "Bihar",
           7.116268446943078
          ],
          [
           "Assam",
           12.1
          ],
          [
           "Uttar Pradesh",
           25
          ],
          [
           "Assam",
           9.455461558241195
          ],
          [
           "Telengana",
           20.432704198663608
          ],
          [
           "Assam",
           22.558394366197184
          ],
          [
           "Assam",
           22.069395681483762
          ],
          [
           "Bihar",
           6.06
          ],
          [
           "Uttar Pradesh",
           5.03
          ],
          [
           "Jharkhand",
           25.01500099940036
          ],
          [
           "Bihar",
           12.307936212369079
          ],
          [
           "Bihar",
           6.600212121212121
          ],
          [
           "Assam",
           10.501107986501685
          ],
          [
           "Assam",
           3.1936254335260115
          ],
          [
           "Odisha",
           17.778905518169587
          ],
          [
           "Bihar",
           9.488368857859335
          ],
          [
           "Bihar",
           7.54
          ],
          [
           "Tripura",
           3.3842039264939188
          ],
          [
           "Uttar Pradesh",
           31.870012550988392
          ],
          [
           "Assam",
           13.5545104589803
          ],
          [
           "Jharkhand",
           6.037502028985508
          ],
          [
           "Jharkhand",
           13.01
          ],
          [
           "Bihar",
           5.407828397873957
          ],
          [
           "Uttar Pradesh",
           5.392010992191504
          ],
          [
           "Punjab",
           8.269409808811305
          ],
          [
           "Punjab",
           23.134125420470927
          ],
          [
           "Assam",
           12.010033305578684
          ],
          [
           "Assam",
           12.04029900332226
          ],
          [
           "Assam",
           12.584050397363828
          ],
          [
           "Odisha",
           7.311649841361407
          ],
          [
           "Bihar",
           6.746189589934478
          ],
          [
           "Punjab",
           23.95
          ],
          [
           "Bihar",
           13.6149170941948
          ],
          [
           "Bihar",
           4.718710945373917
          ],
          [
           "Bihar",
           15.569761897981499
          ],
          [
           "Bihar",
           5.04
          ],
          [
           "Jharkhand",
           9.882901314571377
          ],
          [
           "Bihar",
           6.006142571618921
          ],
          [
           "Bihar",
           20.01862831235981
          ],
          [
           "Bihar",
           34.66671981135534
          ],
          [
           "Odisha",
           28.885228217104206
          ],
          [
           "Assam",
           15.80104381569213
          ],
          [
           "Uttar Pradesh",
           61.882741592592055
          ],
          [
           "Telengana",
           11.855
          ],
          [
           "Assam",
           10.652633248730965
          ],
          [
           "Assam",
           13.019948733882243
          ],
          [
           "Assam",
           8.569318200854344
          ],
          [
           "Assam",
           8.721025721784777
          ],
          [
           "Jharkhand",
           12.958320695581838
          ],
          [
           "Bihar",
           8.779070686613967
          ],
          [
           "Jharkhand",
           18.763639069264073
          ],
          [
           "Bihar",
           6.645316240393094
          ],
          [
           "Uttar Pradesh",
           7.540686604839272
          ],
          [
           "Bihar",
           13.264971694165705
          ],
          [
           "Bihar",
           15.641477675101477
          ],
          [
           "Assam",
           18.98912486439014
          ],
          [
           "Odisha",
           21.241830897321528
          ],
          [
           "Assam",
           11.449789288849866
          ],
          [
           "Assam",
           11.16745816372682
          ],
          [
           "Odisha",
           10.215813060782326
          ],
          [
           "Uttar Pradesh",
           7.354093946815955
          ],
          [
           "Odisha",
           8.029621160409556
          ],
          [
           "Arunachal Pradesh",
           19.41986108563329
          ],
          [
           "Jharkhand",
           8.045003107520198
          ],
          [
           "Uttar Pradesh",
           9.811700945440219
          ],
          [
           "Bihar",
           19.550703416380728
          ],
          [
           "Assam",
           14.818333987441129
          ],
          [
           "Assam",
           72.04028360297596
          ],
          [
           "Odisha",
           23.13982172800283
          ],
          [
           "Arunachal Pradesh",
           11.323656033905866
          ],
          [
           "Odisha",
           6.6
          ],
          [
           "Odisha",
           9.687835445253071
          ],
          [
           "Odisha",
           6.789205050268877
          ],
          [
           "Bihar",
           33.64912378276798
          ],
          [
           "Odisha",
           5.952484293925742
          ],
          [
           "Tripura",
           3.083701533717439
          ],
          [
           "Assam",
           3.18
          ],
          [
           "Odisha",
           4.029608139926
          ],
          [
           "Odisha",
           19.117288955310627
          ],
          [
           "Assam",
           12.817097543352599
          ],
          [
           "Assam",
           11.131118628777626
          ],
          [
           "Bihar",
           6.255440467997246
          ],
          [
           "Uttar Pradesh",
           5.837295796679056
          ],
          [
           "Bihar",
           8.520697751788674
          ],
          [
           "Jharkhand",
           21.606290132478435
          ],
          [
           "Jharkhand",
           17.11527747658945
          ],
          [
           "Assam",
           8.471188299817184
          ],
          [
           "Assam",
           13.881737726400525
          ],
          [
           "Odisha",
           9.466396468565815
          ],
          [
           "Uttar Pradesh",
           9.053061027423714
          ],
          [
           "Jharkhand",
           10.758460213931647
          ],
          [
           "Haryana",
           23.259628659620244
          ],
          [
           "Haryana",
           10.96
          ],
          [
           "Bihar",
           6.244201124046567
          ],
          [
           "Haryana",
           26.02289767513001
          ],
          [
           "Tripura",
           12.915805870013214
          ],
          [
           "Bihar",
           6.010000000000001
          ],
          [
           "Uttar Pradesh",
           5.688767431912162
          ],
          [
           "Bihar",
           7.316154562383613
          ],
          [
           "Jharkhand",
           8.349510768412657
          ],
          [
           "Assam",
           17.74050342902884
          ],
          [
           "Assam",
           12.050377822777023
          ],
          [
           "Punjab",
           11.339362920544023
          ],
          [
           "Bihar",
           24.719052909961754
          ],
          [
           "Odisha",
           30.00500749875021
          ],
          [
           "Odisha",
           16.26326855429209
          ],
          [
           "Uttar Pradesh",
           5.558171102805148
          ],
          [
           "Bihar",
           7.342275024061599
          ],
          [
           "Uttar Pradesh",
           5.177363989637305
          ],
          [
           "Uttar Pradesh",
           17.143576523334012
          ],
          [
           "Uttar Pradesh",
           6.835451572327044
          ],
          [
           "Bihar",
           11.647517908734713
          ],
          [
           "Jharkhand",
           11.400103224705683
          ],
          [
           "Bihar",
           24.969999999999995
          ],
          [
           "Tripura",
           9.171362968857382
          ],
          [
           "Uttar Pradesh",
           10.077420149802716
          ],
          [
           "Odisha",
           12.03962770838328
          ],
          [
           "Odisha",
           14.233833110502749
          ],
          [
           "Bihar",
           24.556347388511455
          ],
          [
           "Bihar",
           15.7974868250584
          ],
          [
           "Odisha",
           20.779627626659348
          ],
          [
           "Bihar",
           6.455
          ],
          [
           "Odisha",
           8.450451004510045
          ],
          [
           "Odisha",
           8.014555786208264
          ],
          [
           "Bihar",
           8.42
          ],
          [
           "Odisha",
           8.41735326663017
          ],
          [
           "Odisha",
           17.063471357166655
          ],
          [
           "Bihar",
           22.93823061228079
          ],
          [
           "Bihar",
           10.19
          ],
          [
           "Bihar",
           17.326099104805014
          ],
          [
           "Odisha",
           18.261498153793887
          ],
          [
           "Bihar",
           6.012525987525987
          ],
          [
           "Jharkhand",
           18.14811629710032
          ],
          [
           "Bihar",
           16.6086071176697
          ],
          [
           "Odisha",
           10.975289672544083
          ],
          [
           "Odisha",
           10.626875324675323
          ],
          [
           "Jharkhand",
           11.217323874755383
          ],
          [
           "Bihar",
           10.189954271461236
          ],
          [
           "Assam",
           6.384857030943987
          ],
          [
           "Jharkhand",
           16.028865855987462
          ],
          [
           "Assam",
           11.969686684073105
          ],
          [
           "Odisha",
           5.962146059235565
          ],
          [
           "Uttar Pradesh",
           9.40180461632796
          ],
          [
           "Bihar",
           21.094260761072984
          ],
          [
           "Odisha",
           11.161279861203788
          ],
          [
           "Odisha",
           8.457232419634359
          ],
          [
           "Jharkhand",
           9.840021559923906
          ],
          [
           "Odisha",
           11.409868560155797
          ],
          [
           "Meghalaya",
           22.98451148775895
          ],
          [
           "Bihar",
           11.001102794312404
          ],
          [
           "Assam",
           19.965987550065144
          ],
          [
           "Haryana",
           24.07324100912506
          ],
          [
           "Bihar",
           12.334002280921196
          ],
          [
           "Bihar",
           8.896509403857275
          ],
          [
           "Assam",
           6.945390668915122
          ],
          [
           "Uttar Pradesh",
           6.02
          ],
          [
           "Bihar",
           6.05
          ],
          [
           "Assam",
           11.965102381947345
          ],
          [
           "Jharkhand",
           10.06
          ],
          [
           "Bihar",
           9.936995515695067
          ],
          [
           "Jharkhand",
           8.096361301369864
          ],
          [
           "Telengana",
           20.308817733990146
          ],
          [
           "Odisha",
           6.602322924600153
          ],
          [
           "Bihar",
           5.040350877192982
          ],
          [
           "Odisha",
           7.6046621721268295
          ],
          [
           "Bihar",
           6.235000000000001
          ],
          [
           "Tripura",
           7.821640811503116
          ],
          [
           "Odisha",
           10.499192351534388
          ],
          [
           "Assam",
           23.873573979801304
          ],
          [
           "Odisha",
           7.15
          ],
          [
           "Bihar",
           5.081272965879265
          ],
          [
           "Jharkhand",
           31.046730311505165
          ],
          [
           "Uttar Pradesh",
           5.587287610619468
          ],
          [
           "Bihar",
           11.363461557884106
          ],
          [
           "Uttar Pradesh",
           5.678808434156835
          ],
          [
           "Odisha",
           11.700127364385718
          ],
          [
           "Bihar",
           12.154001673607599
          ],
          [
           "Bihar",
           13.367975866448921
          ],
          [
           "Odisha",
           3.050524590163934
          ],
          [
           "Haryana",
           23.767348251255395
          ],
          [
           "Punjab",
           11.357032800545415
          ],
          [
           "Tripura",
           10.478958096731787
          ],
          [
           "Tripura",
           11.14543888949852
          ],
          [
           "Jharkhand",
           25.01
          ],
          [
           "Uttar Pradesh",
           10.075
          ],
          [
           "Uttar Pradesh",
           17.822112192404735
          ],
          [
           "Assam",
           11.505936548385039
          ],
          [
           "Bihar",
           17.08172391402682
          ],
          [
           "Bihar",
           26.130191369173424
          ],
          [
           "Bihar",
           10.846770712269633
          ],
          [
           "Bihar",
           6.503526275215214
          ],
          [
           "Assam",
           5.057
          ],
          [
           "Odisha",
           11.088850574712644
          ],
          [
           "Uttar Pradesh",
           6.004
          ],
          [
           "Uttar Pradesh",
           4.434619991738951
          ],
          [
           "Bihar",
           10.219830884865047
          ],
          [
           "Bihar",
           31.97
          ],
          [
           "Bihar",
           9.779889250814332
          ],
          [
           "Bihar",
           23.75022215810733
          ],
          [
           "Jammu And Kashmir",
           11.989999999999998
          ],
          [
           "Jammu And Kashmir",
           42.50360626899088
          ],
          [
           "Assam",
           12.092897158138062
          ],
          [
           "Assam",
           16.814622351023363
          ],
          [
           "Assam",
           22.753489421781072
          ],
          [
           "Assam",
           13.41066352943152
          ],
          [
           "Jharkhand",
           13.833004369335208
          ],
          [
           "Jharkhand",
           5.039
          ],
          [
           "Bihar",
           21.44834097219162
          ],
          [
           "Bihar",
           9.99
          ],
          [
           "Tripura",
           4.531422097124628
          ],
          [
           "Bihar",
           8.658047332594586
          ],
          [
           "Haryana",
           32.44654804270462
          ],
          [
           "Uttar Pradesh",
           5.791572420376639
          ],
          [
           "Assam",
           28.934332679367056
          ],
          [
           "Bihar",
           12.656226483120289
          ],
          [
           "Assam",
           11.843454545454545
          ],
          [
           "Himachal Pradesh",
           29.278656485355647
          ],
          [
           "Assam",
           4.820514230271669
          ],
          [
           "Assam",
           11.970417710944028
          ],
          [
           "Bihar",
           11.260989187865215
          ],
          [
           "Haryana",
           31.134640202850402
          ],
          [
           "Assam",
           17.438483559098376
          ],
          [
           "Odisha",
           12.28852821776795
          ],
          [
           "Bihar",
           15.14
          ],
          [
           "Meghalaya",
           24.48
          ],
          [
           "Assam",
           15.188036619426914
          ],
          [
           "Tripura",
           8.751264530747477
          ],
          [
           "Delhi",
           33.7896708060363
          ],
          [
           "Odisha",
           3.073701415523855
          ],
          [
           "Odisha",
           17.610184774575018
          ],
          [
           "Odisha",
           7.876563217488571
          ],
          [
           "Bihar",
           11.498788962353256
          ],
          [
           "Uttar Pradesh",
           10.26
          ],
          [
           "Bihar",
           6.215325824617859
          ],
          [
           "Bihar",
           12.608538082153173
          ],
          [
           "Telengana",
           9.5586707530648
          ],
          [
           "Uttar Pradesh",
           12.009
          ],
          [
           "Odisha",
           10.684506828528075
          ],
          [
           "Assam",
           20.084308273987574
          ],
          [
           "Odisha",
           8.67540764113935
          ],
          [
           "Odisha",
           9.790064207557334
          ],
          [
           "Uttar Pradesh",
           5.923452780054837
          ],
          [
           "Assam",
           12.318928845300077
          ],
          [
           "Uttar Pradesh",
           6.819607093414201
          ],
          [
           "Arunachal Pradesh",
           10.11
          ],
          [
           "Odisha",
           24.96
          ],
          [
           "Assam",
           21.346494500815087
          ],
          [
           "Odisha",
           29.6365545549225
          ],
          [
           "Manipur",
           18.14572885092312
          ],
          [
           "Bihar",
           9.309115144847818
          ],
          [
           "Odisha",
           16.225504829323896
          ],
          [
           "Odisha",
           10.013881481288575
          ],
          [
           "Assam",
           21.501074426282862
          ],
          [
           "Assam",
           10.043640889478922
          ],
          [
           "Assam",
           23.575400173321178
          ],
          [
           "Assam",
           4.755433429238122
          ],
          [
           "Bihar",
           7.050332699619772
          ],
          [
           "Odisha",
           9.90463221724229
          ],
          [
           "Odisha",
           5.284523795939713
          ],
          [
           "Tripura",
           13.590775084534773
          ],
          [
           "Odisha",
           50.0530187196562
          ],
          [
           "Assam",
           15.788807765804677
          ],
          [
           "Assam",
           6.3525005910365095
          ],
          [
           "Bihar",
           13.347518224639714
          ],
          [
           "Bihar",
           9.167226519337017
          ],
          [
           "Himachal Pradesh",
           11.851190982560615
          ],
          [
           "Tripura",
           3.135109856153436
          ],
          [
           "Bihar",
           7.98847503036365
          ],
          [
           "Uttar Pradesh",
           7.897985335395544
          ],
          [
           "Odisha",
           6.450845199547459
          ],
          [
           "Bihar",
           13.994458487584525
          ],
          [
           "Telengana",
           26.599909933513448
          ],
          [
           "Bihar",
           7.547616303291211
          ],
          [
           "Delhi",
           44.65582961504267
          ],
          [
           "Meghalaya",
           29.980000000000004
          ],
          [
           "Assam",
           11.817692934886214
          ],
          [
           "Tripura",
           11.837836259434896
          ],
          [
           "Haryana",
           23.209453424816843
          ],
          [
           "Uttar Pradesh",
           13.432667049039289
          ],
          [
           "Uttar Pradesh",
           40.01706829394963
          ],
          [
           "Uttar Pradesh",
           40.01706829394963
          ],
          [
           "Mizoram",
           34.46254193128155
          ],
          [
           "Haryana",
           25.01500099940036
          ],
          [
           "Punjab",
           8.280687224669604
          ],
          [
           "Odisha",
           9.383630631141193
          ],
          [
           "Bihar",
           31.45395673782512
          ],
          [
           "Bihar",
           11.561947795509873
          ],
          [
           "Bihar",
           20.441980960680826
          ],
          [
           "Uttar Pradesh",
           7.975062798617781
          ],
          [
           "Assam",
           18.693684577379614
          ],
          [
           "Odisha",
           21.292527524995343
          ],
          [
           "Odisha",
           19.373706369254897
          ],
          [
           "Jammu And Kashmir",
           55.03295484080572
          ],
          [
           "Assam",
           17.905424265655874
          ],
          [
           "Uttar Pradesh",
           6.02
          ],
          [
           "Punjab",
           23.127188110448238
          ],
          [
           "Bihar",
           11.195843546964705
          ],
          [
           "Odisha",
           13.3884988304282
          ],
          [
           "Bihar",
           43.87023586569053
          ],
          [
           "Haryana",
           25.508840268456378
          ],
          [
           "Bihar",
           14.447830004983645
          ],
          [
           "Odisha",
           21.54375754584975
          ],
          [
           "Assam",
           22.991139291400636
          ],
          [
           "Jharkhand",
           22.071353028993478
          ],
          [
           "Assam",
           27.108535881650692
          ],
          [
           "Odisha",
           9.162417893340187
          ],
          [
           "Bihar",
           15.19358416066145
          ],
          [
           "Bihar",
           13.047611284403429
          ],
          [
           "Assam",
           11.966555979927682
          ],
          [
           "Uttar Pradesh",
           13.087906087707394
          ],
          [
           "Bihar",
           16.443483315298458
          ],
          [
           "Assam",
           11.384551886792451
          ],
          [
           "Haryana",
           26.741250832162144
          ],
          [
           "Jharkhand",
           12.163040795345685
          ],
          [
           "Assam",
           10.9674660538411
          ],
          [
           "Andhra Pradesh",
           12.419999999999998
          ],
          [
           "Odisha",
           13.683692887680904
          ],
          [
           "Bihar",
           25.32691050926137
          ],
          [
           "Assam",
           15.92141467047288
          ],
          [
           "Odisha",
           6.97426916493107
          ],
          [
           "Jharkhand",
           21.676664426642144
          ],
          [
           "Uttar Pradesh",
           6.022116928838594
          ],
          [
           "Tripura",
           3.678843953185955
          ],
          [
           "Jharkhand",
           29.169105894426266
          ],
          [
           "Assam",
           17.991128967103993
          ],
          [
           "Odisha",
           9.839749184543905
          ],
          [
           "Assam",
           22.070876525808277
          ],
          [
           "Assam",
           21.960106360328183
          ],
          [
           "Assam",
           10.756838407494147
          ],
          [
           "Nagaland",
           33.775773359268065
          ],
          [
           "Jharkhand",
           22.47137103647526
          ],
          [
           "Bihar",
           27.262396078077778
          ],
          [
           "Meghalaya",
           20.72946081156198
          ],
          [
           "Uttar Pradesh",
           22.39680843938379
          ],
          [
           "Haryana",
           29.288337144338893
          ],
          [
           "Punjab",
           12.020000000000001
          ],
          [
           "Haryana",
           23.209105635648758
          ],
          [
           "Odisha",
           27.389705154834104
          ],
          [
           "Jammu And Kashmir",
           11.994643006263047
          ],
          [
           "Odisha",
           18.350369752255236
          ],
          [
           "Uttar Pradesh",
           33.21913562311923
          ],
          [
           "Bihar",
           17.51785222794745
          ],
          [
           "Uttar Pradesh",
           61.882741592592055
          ],
          [
           "Uttar Pradesh",
           16.77937968376856
          ],
          [
           "Assam",
           22.442175064576716
          ],
          [
           "Jharkhand",
           11.312100007681078
          ],
          [
           "Assam",
           13.999702198810459
          ],
          [
           "Tripura",
           10.133731170098903
          ],
          [
           "Bihar",
           12.249193606581034
          ],
          [
           "Uttar Pradesh",
           21.985680548015246
          ],
          [
           "Jharkhand",
           23.366165494862088
          ],
          [
           "Haryana",
           31.754465935513075
          ],
          [
           "Assam",
           6.474316065028593
          ],
          [
           "Uttar Pradesh",
           12.15
          ],
          [
           "Jharkhand",
           15.9031935158683
          ],
          [
           "Haryana",
           32.43841470073504
          ],
          [
           "Assam",
           18.780250906135365
          ],
          [
           "Telengana",
           28.580304333712053
          ],
          [
           "Manipur",
           23.577419297936142
          ],
          [
           "Manipur",
           44.81776157700377
          ],
          [
           "Odisha",
           12.061076671070143
          ],
          [
           "Telengana",
           19.79610642097573
          ],
          [
           "Rajasthan",
           41.724818755846584
          ],
          [
           "Odisha",
           17.490492688881385
          ],
          [
           "Punjab",
           12.961556864595464
          ],
          [
           "Jammu And Kashmir",
           22.065375010135405
          ],
          [
           "Jharkhand",
           22.380076447434632
          ],
          [
           "Jharkhand",
           19.683103448275862
          ],
          [
           "Bihar",
           18.936031047122377
          ],
          [
           "Uttar Pradesh",
           10.001
          ],
          [
           "Bihar",
           17.498970073286785
          ],
          [
           "Haryana",
           48.59297699811328
          ],
          [
           "Haryana",
           28.473616159518127
          ],
          [
           "Assam",
           10.96411024168021
          ],
          [
           "Bihar",
           15.157079891464226
          ],
          [
           "Haryana",
           26.99084467907752
          ],
          [
           "Odisha",
           25.065902905904057
          ],
          [
           "Assam",
           17.79066417231267
          ],
          [
           "Assam",
           13.436929388953274
          ],
          [
           "Himachal Pradesh",
           14.62
          ],
          [
           "Uttar Pradesh",
           51.97548172992056
          ],
          [
           "Assam",
           13.076859490958038
          ],
          [
           "Assam",
           8.610566758270496
          ],
          [
           "Telengana",
           28.046252702702702
          ],
          [
           "Haryana",
           23.53664985078869
          ],
          [
           "Bihar",
           19.81540679591101
          ],
          [
           "Uttar Pradesh",
           5.03
          ],
          [
           "Odisha",
           15.030202542877776
          ],
          [
           "Odisha",
           22.299674263310806
          ],
          [
           "Bihar",
           29.54933929994687
          ],
          [
           "Odisha",
           17.078392474700593
          ],
          [
           "Tripura",
           4.508771232748644
          ],
          [
           "Bihar",
           26.46249799008
          ],
          [
           "Jharkhand",
           9.160640933140932
          ],
          [
           "Nagaland",
           41.76
          ],
          [
           "Assam",
           18.420909546309122
          ],
          [
           "Odisha",
           33.05349541711977
          ],
          [
           "Himachal Pradesh",
           15.51
          ],
          [
           "Andhra Pradesh",
           17.6
          ],
          [
           "Haryana",
           25.94845220168834
          ],
          [
           "Uttar Pradesh",
           6.099055948840592
          ],
          [
           "Assam",
           58.075708082049175
          ],
          [
           "Bihar",
           15.63491024997979
          ],
          [
           "Jharkhand",
           11.95
          ],
          [
           "Uttar Pradesh",
           23.610999572005934
          ],
          [
           "Punjab",
           14.875324390099129
          ],
          [
           "Bihar",
           16.61724886345016
          ],
          [
           "Bihar",
           11.896635581578037
          ],
          [
           "Uttar Pradesh",
           9.385681977502598
          ],
          [
           "Haryana",
           21.7154859839414
          ],
          [
           "Assam",
           12.1
          ],
          [
           "Telengana",
           20.432704198663608
          ],
          [
           "Assam",
           15.188036619426914
          ],
          [
           "Odisha",
           24.56609963302181
          ],
          [
           "Punjab",
           8.269409808811305
          ],
          [
           "Punjab",
           23.134125420470927
          ],
          [
           "Assam",
           13.546967106602162
          ],
          [
           "Punjab",
           23.95
          ],
          [
           "Bihar",
           13.05403399723091
          ],
          [
           "Bihar",
           12.809028147687687
          ],
          [
           "Odisha",
           28.885228217104206
          ],
          [
           "Assam",
           15.396045358724837
          ],
          [
           "Telengana",
           11.855
          ],
          [
           "Bihar",
           18.01784372357104
          ],
          [
           "Assam",
           15.953116238737056
          ],
          [
           "Bihar",
           12.331177113318237
          ],
          [
           "Odisha",
           20.731123295677612
          ],
          [
           "Tripura",
           9.763714473100277
          ],
          [
           "Jharkhand",
           20.288824128147386
          ],
          [
           "Jharkhand",
           25.01500099940036
          ],
          [
           "Haryana",
           23.259628659620244
          ],
          [
           "Haryana",
           10.96
          ],
          [
           "Haryana",
           26.02289767513001
          ],
          [
           "Arunachal Pradesh",
           18.621657067448027
          ],
          [
           "Punjab",
           11.339362920544023
          ],
          [
           "Bihar",
           24.051913887003593
          ],
          [
           "Uttar Pradesh",
           10.077420149802716
          ],
          [
           "Uttar Pradesh",
           18.825266014192444
          ],
          [
           "Odisha",
           11.338451070869151
          ],
          [
           "Bihar",
           23.467937418702128
          ],
          [
           "Bihar",
           15.7974868250584
          ],
          [
           "Jharkhand",
           10.973456464379947
          ],
          [
           "Jharkhand",
           14.564874822179132
          ],
          [
           "Telengana",
           21.662568640208203
          ],
          [
           "Meghalaya",
           22.98451148775895
          ],
          [
           "Haryana",
           23.957428037757246
          ],
          [
           "Bihar",
           16.263037987434977
          ],
          [
           "Odisha",
           17.702575412089377
          ],
          [
           "Bihar",
           12.0041858354735
          ],
          [
           "Jharkhand",
           31.007544424275498
          ],
          [
           "Bihar",
           16.877949133007192
          ],
          [
           "Odisha",
           3.050524590163934
          ],
          [
           "Punjab",
           11.357032800545415
          ],
          [
           "Uttar Pradesh",
           15.634051327594845
          ],
          [
           "Jharkhand",
           18.647220043572986
          ],
          [
           "Bihar",
           26.130191369173424
          ],
          [
           "Bihar",
           21.80657768549043
          ],
          [
           "Bihar",
           12.778435044943029
          ],
          [
           "Jammu And Kashmir",
           11.989999999999998
          ],
          [
           "Jammu And Kashmir",
           42.50360626899088
          ],
          [
           "Uttar Pradesh",
           20.062761903537904
          ],
          [
           "Tripura",
           4.253597118894567
          ],
          [
           "Haryana",
           30.416613674550856
          ],
          [
           "Bihar",
           12.477433150730404
          ],
          [
           "Assam",
           18.85960909302179
          ],
          [
           "Bihar",
           12.624203553903959
          ],
          [
           "Himachal Pradesh",
           29.278656485355647
          ],
          [
           "Haryana",
           31.134640202850402
          ],
          [
           "Assam",
           19.9091161716725
          ],
          [
           "Meghalaya",
           24.48
          ],
          [
           "Tripura",
           10.539185613316597
          ],
          [
           "Delhi",
           33.7896708060363
          ],
          [
           "Odisha",
           15.281906596640557
          ],
          [
           "Bihar",
           11.244051431344008
          ],
          [
           "Telengana",
           9.5586707530648
          ],
          [
           "Arunachal Pradesh",
           10.11
          ],
          [
           "Assam",
           21.89943105787859
          ],
          [
           "Assam",
           14.420484402883861
          ],
          [
           "Himachal Pradesh",
           11.851190982560615
          ],
          [
           "Tripura",
           12.134312195949546
          ],
          [
           "Bihar",
           13.407966095267447
          ],
          [
           "Uttar Pradesh",
           17.84466391599131
          ],
          [
           "Bihar",
           14.701903434186592
          ],
          [
           "Telengana",
           26.599909933513448
          ],
          [
           "Delhi",
           44.65582961504267
          ],
          [
           "Meghalaya",
           29.980000000000004
          ],
          [
           "Arunachal Pradesh",
           11.935406401876989
          ],
          [
           "Tripura",
           13.139389858068446
          ],
          [
           "Haryana",
           23.209453424816843
          ],
          [
           "Andhra Pradesh",
           15.456908727514989
          ],
          [
           "Arunachal Pradesh",
           18.1184967062607
          ],
          [
           "Assam",
           20.103699075941723
          ],
          [
           "Bihar",
           20.141482314376113
          ],
          [
           "Delhi",
           40.986476091418886
          ],
          [
           "Haryana",
           29.17255535246241
          ],
          [
           "Himachal Pradesh",
           27.031874808610286
          ],
          [
           "Jammu And Kashmir",
           36.48893192624377
          ],
          [
           "Jharkhand",
           23.22320499049416
          ],
          [
           "Manipur",
           38.82378482981768
          ],
          [
           "Meghalaya",
           23.308857892502996
          ],
          [
           "Mizoram",
           34.46254193128155
          ],
          [
           "Nagaland",
           35.62226671097082
          ],
          [
           "Odisha",
           16.71754074070964
          ],
          [
           "Punjab",
           15.590130826643092
          ],
          [
           "Rajasthan",
           41.724818755846584
          ],
          [
           "Telengana",
           25.598925424042726
          ],
          [
           "Tripura",
           10.786600580109793
          ],
          [
           "Uttar Pradesh",
           21.131522075472816
          ]
         ],
         "domain": {
          "x": [
           0,
           1
          ],
          "y": [
           0,
           1
          ]
         },
         "hovertemplate": "labels=%{label}<br>primary_lifting_sum=%{value}<br>parent=%{parent}<br>id=%{id}<br>state=%{customdata[0]}<br>primary_lifting=%{color}<extra></extra>",
         "ids": [
          "Odisha/KENDRAPARA/AALI",
          "Assam/BONGAIGAON/ABHAYAPURI",
          "Assam/KAMRUP METROPOLITAN/ADABARI",
          "Jharkhand/JAMSHEDPUR(EAST SINGHBHUM)/ADITYAPUR",
          "Tripura/WEST TRIPURA/AGARTALA",
          "Assam/DHUBRI/AGOMONI",
          "Mizoram/AIZAWAL/AIZAWAL",
          "Bihar/NAWADA/AKBARPUR",
          "Bihar/ROHTAS/AKORHIGOLA",
          "Tripura/GOMATI/AMARPUR",
          "Haryana/AMBALA/AMBALA",
          "Assam/SIVASAGAR/AMGURI",
          "Punjab/AMRITSAR/AMRITSAR",
          "Odisha/KEONJHAR/ANANDAPUR",
          "Bihar/SIWAN/ANDAR",
          "Bihar/MADHUBANI/ANDHARATHARI",
          "Odisha/ANGUL/ANGUL",
          "Odisha/ANGUL/ANGUL SADAR",
          "Bihar/BHOJPUR/ARA SADAR",
          "Bihar/ARARIA/ARARIA",
          "Bihar/ARWAL/ARWAL",
          "Odisha/GANJAM/ASKA",
          "Odisha/CUTTACK/ATHAGARH",
          "Bihar/MUZAFFARPUR/AURAI",
          "Bihar/AURANGABAD/AURANGABAD",
          "Uttar Pradesh/AZAMGARH/AZAMATGARH",
          "Assam/KAMRUP RURAL/AZARA",
          "Bihar/E.CHAMPRAN/Adapur",
          "Bihar/E.CHAMPRAN/Areraj",
          "Odisha/PURI/Astarang",
          "Haryana/MAHENDRAGARH/Ateli Mandi",
          "Odisha/KENDRAPARA/Aul",
          "Bihar/MADHUBANI/BABUBARHI",
          "Odisha/CUTTACK/BADAMBA",
          "Assam/KARIMGANJ/BADARPUR",
          "Odisha/JAJPUR/BADCHANA",
          "Jharkhand/DEOGHAR/BAGHMARA",
          "Jharkhand/JAMSHEDPUR(EAST SINGHBHUM)/BAGHRAGODA",
          "Bihar/DARBHANGA/BAHADURPUR",
          "Uttar Pradesh/PRAYAGRAJ/BAHADURPUR",
          "Odisha/MAYURBHANJ/BAHALADA",
          "Assam/BARPETA/BAHARI HAAT",
          "Uttar Pradesh/PRAYAGRAJ/BAHARIYA",
          "Bihar/DARBHANGA/BAHERI",
          "Tripura/SOUTH TRIPURA/BAIKHORA",
          "Bihar/SITAMARHI/BAIRGANIA",
          "Bihar/PURNIA/BAISI",
          "Uttar Pradesh/DEORIA/BAITALPUR",
          "Bihar/SITAMARHI/BAJPATTI",
          "Uttar Pradesh/LUCKNOW/BAKSHI KA TALAB",
          "Odisha/BALANGIR/BALANGIR",
          "Odisha/BALASORE/BALASORE",
          "Odisha/BHUBANESWAR/BALIANTA",
          "Odisha/BALASORE/BALIAPAL",
          "Odisha/BHUBANESWAR/BALIAPATNA",
          "Assam/BISWANATH/BALIPARA",
          "Assam/SONITPUR/BALIPARA",
          "Odisha/ANGUL/BANAPARA",
          "Odisha/ANGUL/BANARPAL",
          "Odisha/MAYURBHANJ/BANGIRIPOSI",
          "Odisha/CUTTACK/BANKI",
          "Bihar/SAHARSA/BANMA ITAHRI",
          "Uttar Pradesh/GORAKHPUR/BANSGAON",
          "Assam/CACHAR/BANSKANDI",
          "Odisha/KEONJHAR/BANSPAL",
          "Uttar Pradesh/VARANASI/BARAGAON",
          "Bihar/LAKHISARAI/BARAHIA",
          "Assam/BAKSA/BARAMA TOWN",
          "Jammu And Kashmir/BARAMULLA/BARAMULLA",
          "Odisha/CUTTACK/BARANGA",
          "Bihar/BEGUSARAI/BARAUNI",
          "Jharkhand/DEOGHAR/BARCODE",
          "Bihar/PATNA/BARH",
          "Uttar Pradesh/CHANDAULI/BARHANI",
          "Bihar/BHOJPUR/BARHARA",
          "Bihar/SIWAN/BARHARIA",
          "Bihar/JAMUI/BARHAT",
          "Jharkhand/HAZARIBAGH/BARKAGAON",
          "Assam/NALBARI/BARKHETRI",
          "Odisha/DEOGARH/BARKOT",
          "Jharkhand/BOKARO/BARMASIA",
          "Assam/BARPETA/BARPETA",
          "Assam/BARPETA/BARPETA COLONI",
          "Assam/BARPETA/BARPETA ROAD",
          "Assam/BARPETA/BARPETA TOWN",
          "Bihar/KATIHAR/BARSOI",
          "Bihar/AURANGABAD/BARUN",
          "Jharkhand/GODDA/BASHANT RAI",
          "Bihar/MADHUBANI/BASOPATTI",
          "Odisha/BALASORE/BASTA",
          "Uttar Pradesh/SIDDHARTHNAGAR/BASTI",
          "Odisha/BHADRAK/BASUDEVPUR",
          "Punjab/BATHINDA/BATHINDA",
          "Bihar/SITAMARHI/BATHNAHA",
          "Odisha/BHUBANESWAR/BBSR TOWN",
          "Odisha/GANJAM/BEGUNIAPADA",
          "Bihar/BEGUSARAI/BEGUSARAI",
          "Tripura/SOUTH TRIPURA/BELONIA",
          "Bihar/SITAMARHI/BELSAND",
          "Bihar/MADHUBANI/BENIPATTI",
          "Bihar/DARBHANGA/BENIPUR",
          "Assam/BARPETA/BERPETA ",
          "Odisha/MAYURBHANJ/BETANATI",
          "Bihar/W.CHAMPRAN/BETTIAH",
          "Assam/KAMRUP RURAL/BEZERA",
          "Uttar Pradesh/SANT RAVIDAS NAGAR/BHADOHI",
          "Odisha/BHADRAK/BHADRAK",
          "Odisha/ROI District A1/BHADRAK",
          "Uttar Pradesh/DEORIA/BHAGALPUR",
          "Uttar Pradesh/DEORIA/BHALUANI",
          "Odisha/GANJAM/BHANJANAGAR",
          "Uttar Pradesh/ETAWAH/BHARTHANA",
          "Uttar Pradesh/DEORIA/BHATNI",
          "Uttar Pradesh/DEORIA/BHATPAR RANI",
          "Bihar/PURNIA/BHAWANIPUR",
          "Haryana/BHIWANI/BHIWANI",
          "Odisha/BALASORE/BHOGRAI",
          "Odisha/DHENKANAL/BHUBAN",
          "Bihar/SAMASTIPUR/BIBHUTIPUR",
          "Bihar/VAISHALI/BIDUPUR",
          "Bihar/NALANDA/BIHARSARIF",
          "Assam/KAMRUP RURAL/BIHDIYA JAJIKONA",
          "Bihar/BHOJPUR/BIHIYA",
          "Bihar/PATNA/BIHTA",
          "Assam/CHIRANG/BIJNI",
          "Bihar/ROHTAS/BIKRAMGANJ",
          "Uttar Pradesh/HARDOI/BILAGRAM",
          "Assam/DHUBRI/BILISHIPARA",
          "Assam/HOJAI/BINAKANDI",
          "Odisha/JAJPUR/BINJHARPUR",
          "Bihar/DARBHANGA/BIRAUL",
          "Uttar Pradesh/SIDDHARTHNAGAR/BIRDPUR",
          "Odisha/SUBARNAPUR/BIRMAHARAJPUR",
          "Tripura/SIPAHIJALA/BISHALGARH",
          "Tripura/WEST TRIPURA/BISHALGARH",
          "Manipur/IMPHAL EAST/BISHNUPUR",
          "Odisha/MAYURBHANJ/BISOI",
          "Assam/BISWANATH/BISWANATH",
          "Bihar/SAMASTIPUR/BITHAN",
          "Bihar/MUZAFFARPUR/BOCHAHAN",
          "Bihar/GAYA/BODH GAYA",
          "Assam/KARBI ANGLONG/BOKAJAN",
          "Assam/GOLAGHAT/BOKAKHAT",
          "Assam/KAMRUP RURAL/BOKO",
          "Assam/KARBI ANGLONG/BOKOLIA",
          "Arunachal Pradesh/WEST KAMENG/BOMDILA",
          "Assam/BONGAIGAON/BONGAIGAON",
          "Assam/BONGAIGAON/BONGAIGAON TOWN",
          "Odisha/BHADRAK/BONTH",
          "Tripura/WEST TRIPURA/BORDHOWALI",
          "Assam/CACHAR/BORKHOLA",
          "Assam/GOLAGHAT/BORPATHAR",
          "Odisha/BOUDH/BOUDH",
          "Odisha/GANJAM/BRAHMAPUR",
          "Uttar Pradesh/MAHARAJGANJ/BRIJMANGANJ",
          "Odisha/GANJAM/BUGUDA",
          "Jharkhand/RANCHI/BUNDU",
          "Bihar/BUXAR/BUXAR",
          "Odisha/JAGATSINGHPUR/Balikuda",
          "Odisha/KHORDHA/Banapur",
          "Bihar/E.CHAMPRAN/Banjariya",
          "Odisha/KEONJHAR/Barbil",
          "Odisha/MAYURBHANJ/Baripada",
          "Haryana/HISAR/Barwala",
          "Odisha/KHORDHA/Begunia",
          "Odisha/GANJAM/Bellaguntha",
          "Odisha/GANJAM/Berhampur",
          "Bihar/KAIMUR/Bhabhua",
          "Odisha/BHUBANESWAR/Bhubaneswar",
          "Odisha/KHORDHA/Bhubaneswar",
          "Odisha/JAGATSINGHPUR/Biridi",
          "Bihar/Bodhgaya/Bodhgaya",
          "Odisha/PURI/Brahmagiri",
          "Assam/JORHAT/CENTRAL JORHAT",
          "Assam/DIBRUGARH/CHABUA ",
          "Uttar Pradesh/CHANDAULI/CHAHANIYA",
          "Uttar Pradesh/PRAYAGRAJ/CHAKA",
          "Jharkhand/JAMSHEDPUR(EAST SINGHBHUM)/CHAKULIA",
          "Odisha/KEONJHAR/CHAMPUA",
          "Odisha/BHADRAK/CHANDABALI",
          "Jharkhand/BOKARO/CHANDANKIYARI",
          "Uttar Pradesh/CHANDAULI/CHANDAULI",
          "Uttar Pradesh/VARANASI/CHANDAULI",
          "Jharkhand/SARAIKELA KHARSAWAN/CHANDIL",
          "Jharkhand/RANCHI/CHANHO",
          "Bihar/LAKHISARAI/CHANNAN",
          "Bihar/W.CHAMPRAN/CHANPATIA",
          "Assam/DHUBRI/CHAPAR",
          "Bihar/CHAPRA/CHAPRA",
          "Assam/CHARAIDEO/CHARAIDEO",
          "Uttar Pradesh/GORAKHPUR/CHARGANWA",
          "Jharkhand/BOKARO/CHAS",
          "Jharkhand/CHATRA/CHATRA",
          "Assam/KAMRUP RURAL/CHAYGAON",
          "Bihar/VAISHALI/CHEHRAKALA",
          "Bihar/SUPAUL/CHHATAPUR",
          "Odisha/GANJAM/CHHATRAPUR",
          "Manipur/IMPHAL WEST/CHIMGMEIRONG",
          "Uttar Pradesh/LUCKNOW/CHINHAT",
          "Uttar Pradesh/VARANASI/CHIRAI GAON",
          "Assam/CHIRANG/CHIRANG",
          "Andhra Pradesh/CHITTOR/CHITTOR",
          "Nagaland/DIMAPUR/CHUMKEDIMA",
          "Odisha/CUTTACK/CUTTACK SADAR",
          "Bihar/KAIMUR/Chainpur",
          "Bihar/E.CHAMPRAN/Chakia",
          "Bihar/KAIMUR/Chand",
          "Bihar/E.CHAMPRAN/Chhauradano",
          "Odisha/ANGUL/Chhendipada",
          "Bihar/SAMASTIPUR/DALSINGSARAI",
          "Odisha/JAJPUR/DANAGADI",
          "Bihar/PATNA/DANAPUR",
          "Bihar/DARBHANGA/DARBHANGA",
          "Assam/DARRANG/DARRANG",
          "Jharkhand/HAZARIBAGH/DARU",
          "Odisha/JAJPUR/DASARATHAPUR",
          "Odisha/JAJPUR/DASRATHPUR",
          "Bihar/AURANGABAD/DAUDNAGAR",
          "Bihar/ROHTAS/DEHRI",
          "Odisha/PURI/DELANG",
          "Bihar/AURANGABAD/DEO",
          "Odisha/DEOGARH/DEOGARH",
          "Uttar Pradesh/DEORIA/DEORIA",
          "Odisha/KENDRAPARA/DERABISH",
          "Assam/GOLAGHAT/DERAGAON",
          "Assam/GOLAGHAT/DERGAON",
          "Assam/BONGAIGAON/DEURIPARA",
          "Assam/HOJAI/DHALPUKHURI DEVELOPMENT BLOCK",
          "Odisha/BHADRAK/DHAMNAGAR",
          "Jharkhand/DHANBAD/DHANBAD",
          "Uttar Pradesh/PRAYAGRAJ/DHANOOPUR",
          "Odisha/JAJPUR/DHARAMSALA",
          "Tripura/NORTH TRIPURA/DHARMANAGAR",
          "Odisha/JAJPUR/DHARMASALA",
          "Assam/SONITPUR/DHEKIAJULI",
          "Assam/DHEMAJI/DHEMAJI",
          "Odisha/DHENKANAL/DHENKANAL",
          "Odisha/DHENKANAL/DHENKANAL SADAR",
          "Assam/DHUBRI/DHUBRI",
          "Assam/DHUBRI/DHUBRI TOWN",
          "Assam/DIBRUGARH/DIBRUGARH TOWN",
          "Odisha/GANJAM/DIGAPAHANDI",
          "Uttar Pradesh/SANT RAVIDAS NAGAR/DIGH",
          "Assam/DIMA HASAO/DIMA HASAO(NORTH CACHAR H",
          "Nagaland/DIMAPUR/DIMAPUR",
          "Nagaland/DIMAPUR/DIMAPUR SADAR ",
          "Assam/KAMRUP METROPOLITAN/DIMORIA",
          "Assam/SIVASAGAR/DIMOW BAZAR",
          "Bihar/ROHTAS/DINARA",
          "Assam/KARBI ANGLONG/DIPHU",
          "Assam/HOJAI/DOBOKA",
          "Arunachal Pradesh/PAPUM PARE/DOIMUKH",
          "Jharkhand/KODERMA/DOMCHANCH",
          "Assam/DIBRUGARH/DULIAJAN",
          "Bihar/SHAOHAR/DUMARI",
          "Jharkhand/DUMKA/DUMKA",
          "Bihar/SHAOHAR/DUMRA",
          "Bihar/SITAMARHI/DUMRA",
          "Bihar/BUXAR/DUMRAON",
          "Haryana/SIRSA/Dabwali",
          "Odisha/NAYAGARH/Daspalla",
          "Uttar Pradesh/GHAZIPUR/Deokali",
          "Bihar/E.CHAMPRAN/Dhaka",
          "Tripura/DHALAI/Dholai",
          "Assam/JORHAT/EAST JORHAT",
          "Meghalaya/EAST KHASI HILL/EAST KHASI HILL",
          "Bihar/NALANDA/EKANGARSARAI",
          "Odisha/JAGATSINGHPUR/Erasama",
          "Assam/KOKRAJHAR/FAKIRAGRAM",
          "Haryana/FARIDABAD/FARIDABAD",
          "Punjab/FARIDKOT/FARIDKOT",
          "Assam/KAMRUP METROPOLITAN/FATASIL",
          "Haryana/FATEHABAD/FATEHABAD",
          "Bihar/ARARIA/FORBESGANJ",
          "Uttar Pradesh/KUSHINAGAR/Fazil Nagar",
          "Assam/SONITPUR/GABHORU",
          "Bihar/MUZAFFARPUR/GAIGHAT",
          "Odisha/GAJAPATI/GAJAPATI",
          "Jharkhand/SARAIKELA KHARSAWAN/GAMHARIYA",
          "Jammu And Kashmir/GANDERBAL/GANDERBAL",
          "Assam/KAMRUP METROPOLITAN/GANESHSURI",
          "Odisha/GANJAM/GANJAM",
          "Odisha/KENDRAPARA/GARADPUR",
          "Bihar/BHAGALPUR/GAURADIH",
          "Assam/DHUBRI/GAURIPUR ",
          "Uttar Pradesh/GAUTAM BUDH NAGAR/GAUTAM BUDH NAGAR",
          "Bihar/GAYA/GAYA SADAR",
          "Odisha/KEONJHAR/GHASIPURA",
          "Bihar/SHAEIKHPURA/GHAT KUSUMBA",
          "Odisha/KEONJHAR/GHATAGAON",
          "Assam/BAKSA/GHOGRACHWK",
          "Bihar/JEHANABAD/GHOSHI",
          "Bihar/NALANDA/GIRIYAK",
          "Assam/GOALPARA/GOALPARA",
          "Assam/GOALPARA/GOALPARA TOWN",
          "Jharkhand/GODDA/GODDA",
          "Assam/DHEMAJI/GOGAMUKH",
          "Bihar/AURANGABAD/GOH",
          "Jharkhand/RAMGARH/GOLA",
          "Assam/GOLAGHAT/GOLAGHAT",
          "Assam/DHUBRI/GOLAKGANJ TOWN",
          "Tripura/GOMATI/GOMATI",
          "Odisha/DHENKANAL/GONDIA",
          "Bihar/GOPALGANJ/GOPALGANJ",
          "Uttar Pradesh/LUCKNOW/GOSAINGANJ",
          "Assam/KOKRAJHAR/GOSSAIGAON",
          "Assam/KOKRAJHAR/GOSSIGAON TOWN",
          "Bihar/NAWADA/GOVINDPUR",
          "Jharkhand/DHANBAD/GT ROAD",
          "Odisha/BALANGIR/GUDBELA",
          "Jharkhand/GUMLA/GUMLA",
          "Bihar/Bodhgaya/GURARU",
          "Haryana/GURGAON/GURGAON",
          "Assam/KAMRUP RURAL/GUWAHATI",
          "Uttar Pradesh/SANT RAVIDAS NAGAR/GYANPUR",
          "Uttar Pradesh/GORAKHPUR/Gagaha ",
          "Uttar Pradesh/GHAZIPUR/Ghazipur",
          "Odisha/PURI/Gop",
          "Odisha/MAYURBHANJ/Gopabandhunagar",
          "Assam/DIMA HASAO/HAFLONG",
          "Assam/NAGAON/HAIBARGAON",
          "Assam/HAILAKANDI/HAILAKANDI",
          "Assam/HAILAKANDI/HAILKANDI ",
          "Bihar/VAISHALI/HAJIPUR",
          "Assam/KAMRUP RURAL/HAJO",
          "Uttar Pradesh/VARANASI/HARHUA",
          "Odisha/KEONJHAR/HARICHANDANPUR",
          "Bihar/MADHUBANI/HARLAKHI",
          "Assam/LAKHIMPUR/HARMOTI",
          "Bihar/AURANGABAD/HASPURA",
          "Uttar Pradesh/KUSHINAGAR/HATA",
          "Bihar/DARBHANGA/HAYAGHAT",
          "Jharkhand/HAZARIBAGH/HAZARIBAG",
          "Odisha/DHENKANAL/HINDOL",
          "Odisha/GANJAM/HINJILICUT",
          "Jharkhand/PAKUR/HIRANPUR",
          "Haryana/HISAR/HISAR",
          "Bihar/NAWADA/HISUA",
          "Assam/HOJAI/HOJAI",
          "Assam/HOJAI/HOJAI MUNICIPALITY",
          "Tripura/SOUTH TRIPURA/HRISHYAMUKH",
          "Bihar/JEHANABAD/HULASGUNJ",
          "Bihar/SIWAN/HUSSAINGANJ",
          "Telengana/HYDERABAD/HYDERABAD",
          "Telengana/RANGAREDDY\r\n/HYDERABAD",
          "Telengana/RANGAREDDY\r\n/HYDERABAD - 1",
          "Haryana/HISAR/Hansi",
          "Bihar/NALANDA/ISLAMPUR",
          "Arunachal Pradesh/PAPUM PARE/ITANGAR",
          "Jharkhand/CHATRA/ITKHORI",
          "Odisha/JAGATSINGHPUR/JAGATSINGHPUR",
          "Bihar/BHAGALPUR/JAGDISHPUR",
          "Bihar/BHOJPUR/JAGDISHPUR",
          "Assam/MORIGAON/JAGIROAD",
          "Telengana/JAGTIAL/JAGTIAL",
          "Bihar/MADHUBANI/JAINAGAR",
          "Rajasthan/JAIPUR/JAIPUR",
          "Odisha/JAJPUR/JAJPUR",
          "Bihar/PURNIA/JALALGARH",
          "Punjab/JALANDHAR/JALANDHAR",
          "Bihar/DARBHANGA/JALE",
          "Odisha/BALASORE/JALESWAR",
          "Assam/KAMRUP METROPOLITAN/JALUKBARI",
          "Assam/KAMRUP RURAL/JALUKBARI",
          "Bihar/MUNGER/JAMALPUR",
          "Jammu And Kashmir/JAMMU /JAMMU",
          "Tripura/SIPAHIJALA/JAMPUIJALA",
          "Jharkhand/JAMSHEDPUR(EAST SINGHBHUM)/JAMSHEDPUR(EAST SINGHBHUM",
          "Jharkhand/JAMTARA/JAMTARA",
          "Assam/BISWANATH/JAMUGURI",
          "Bihar/JAMUI/JAMUI",
          "Bihar/VAISHALI/JANDAHA",
          "Jharkhand/BOKARO/JARIDIH",
          "Uttar Pradesh/ETAWAH/JASWANTNAGAR",
          "Uttar Pradesh/JAUNPUR/JAUNPUR",
          "Bihar/JEHANABAD/JEHANABAD",
          "Bihar/JAMUI/JHAJHA",
          "Haryana/JHAJJAR/JHAJJAR",
          "Bihar/MADHUBANI/JHANJHARPUR",
          "Odisha/KEONJHAR/JHUMPURA",
          "Haryana/JIND/JIND",
          "Assam/BONGAIGAON/JOGIGHOPA",
          "Assam/DHEMAJI/JONAI",
          "Assam/SIVASAGAR/JOYSAGAR",
          "Uttar Pradesh/GHAZIPUR/Jakhania",
          "Odisha/KHORDHA/Jatni",
          "Odisha/KORAPUT/Jeypore",
          "Haryana/CHARKHI DADRI/Jhaju kala",
          "Bihar/ARARIA/Jogbani",
          "Odisha/GANJAM/KABISURYA NAGAR",
          "Bihar/SAHARSA/KAHRA",
          "Tripura/UNAKOTI/KAILASAHAR",
          "Bihar/KAIMUR/KAIMUR",
          "Haryana/KAITHAL/KAITHAL",
          "Odisha/PURI/KAKATPUR",
          "Uttar Pradesh/LUCKNOW/KAKORI",
          "Tripura/GOMATI/KAKRABON",
          "Odisha/KALAHANDI/KALAHANDI",
          "Bihar/ARWAL/KALER",
          "Assam/BARPETA/KALGACHIA",
          "Assam/JORHAT/KALIAPANI",
          "Bihar/MADHUBANI/KALUAHI",
          "Odisha/DHENKANAL/KAMAKHYANAGAR",
          "Assam/KAMRUP RURAL/KAMRUP",
          "Assam/KAMRUP METROPOLITAN/KAMRUP (M)",
          "Assam/KAMRUP RURAL/KAMRUP (M)",
          "Assam/KAMRUP METROPOLITAN/KAMRUP METROPOLITAN",
          "Himachal Pradesh/KANGRA/KANGRA",
          "Uttar Pradesh/KANPUR- NAGAR/KANPUR- NAGAR",
          "Odisha/CUTTACK/KANTAPADA",
          "Bihar/MUZAFFARPUR/KANTI",
          "Assam/MORIGAON/KAPILI",
          "Tripura/GOMATI/KARBOOK",
          "Assam/NALBARI/KARIA",
          "Assam/KARIMGANJ/KARIMGANJ",
          "Telengana/KARIMNAGAR/KARIMNAGAR",
          "Haryana/KARNAL/KARNAL",
          "Jharkhand/DEOGHAR/KARON",
          "Bihar/ARWAL/KARPI",
          "Uttar Pradesh/VARANASI/KASHI VIDYA PEETH",
          "Jharkhand/BOKARO/KASMAR",
          "Uttar Pradesh/KUSHINAGAR/KASYA",
          "Jharkhand/HAZARIBAGH/KATAMDAG",
          "Bihar/MUZAFFARPUR/KATARA",
          "Bihar/KATIHAR/KATIHAR",
          "Jharkhand/HAZARIBAGH/KATKAMSANDI",
          "Assam/HAILAKANDI/KATLICHERRA",
          "Odisha/KENDRAPARA/KENDRAPARA",
          "Odisha/KEONJHAR/KEONJHAR",
          "Odisha/KEONJHAR/KEONJHAR SADAR",
          "Bihar/DARBHANGA/KEOTI",
          "Bihar/KHAGARIA/KHAGARI",
          "Odisha/BALASORE/KHAIRA",
          "Bihar/JAMUI/KHAIRA",
          "Uttar Pradesh/GORAKHPUR/KHAJNI",
          "Odisha/GANJAM/KHALIKOTE",
          "Odisha/NAYAGARH/KHANDAPADA",
          "Assam/DARRANG/KHARUPATIA",
          "Bihar/GAYA/KHIZAR SARAI",
          "Uttar Pradesh/GORAKHPUR/KHORABAR",
          "Odisha/BHUBANESWAR/KHORDHA",
          "Odisha/KHORDHA/KHORDHA",
          "Tripura/KHOWAI/KHOWAI",
          "Odisha/MAYURBHANJ/KHUNTA",
          "Bihar/MADHUBANI/KHUTAUNA",
          "Bihar/KISHANGANJ/KISHANGANJ",
          "Odisha/CUTTACK/KISHANNAGAR",
          "Bihar/ROHTAS/KOCHAS",
          "Jharkhand/KODERMA/KODERMA",
          "Nagaland/KOHIMA/KOHIMA",
          "Assam/KOKRAJHAR/KOKRAJHAR",
          "Assam/KOKRAJHAR/KOKRAJHAR TOWN",
          "Manipur/IMPHAL EAST/KONSAM LEIKAI",
          "Odisha/KORAPUT/KORAPUT",
          "Odisha/JAJPUR/KOREI",
          "Bihar/KATIHAR/KORHA",
          "Assam/NAGAON/KOTHIATOLI",
          "Assam/GOALPARA/KRISHNAI ",
          "Odisha/PURI/KRUSHNAPRASAD",
          "Odisha/GANJAM/KUKUDAKHANDI",
          "Himachal Pradesh/KULLU/KULLU",
          "Tripura/UNAKOTI/KUMARGHAT",
          "Jharkhand/JAMTARA/KUNDAHIT",
          "Bihar/MUZAFFARPUR/KURHANI",
          "Andhra Pradesh/KURNOOL/KURNOOL",
          "Bihar/KATIHAR/KURSELA",
          "Haryana/KURUKSHETRA/KURUKSHETRA",
          "Bihar/DARBHANGA/KUSHESWAR ASTHAN",
          "Bihar/DARBHANGA/KUSHESWAR ASTHAN EAST",
          "Odisha/MAYURBHANJ/KUSUMI",
          "Odisha/PURI/Kanas",
          "Odisha/ANGUL/Kaniha",
          "Odisha/MAYURBHANJ/Kaptipada",
          "Odisha/MAYURBHANJ/Karanjia",
          "Odisha/KALAHANDI/Kesinga",
          "Odisha/GANJAM/Kodala",
          "Bihar/KAIMUR/Kudra",
          "Odisha/JAGATSINGHPUR/Kujanga",
          "Odisha/MAYURBHANJ/Kuliana",
          "Bihar/MADHUBANI/LADANIA",
          "Assam/MORIGAON/LAHORIGHAT",
          "Bihar/MADHUBANI/LAKHANAUR",
          "Assam/LAKHIMPUR/LAKHIMPUR",
          "Assam/CACHAR/LAKHIPUR",
          "Bihar/LAKHISARAI/LAKHISARAI",
          "Assam/HAILAKANDI/LALA",
          "Assam/HOJAI/LANKA MUNICIPALITY",
          "Bihar/JAMUI/LAXMIPUR",
          "Assam/TINSUKIA/LEDO",
          "Jharkhand/LOHARDAGA/LOHARDAGA",
          "Odisha/BALANGIR/LOHISINGHA",
          "Punjab/LUDHIANA/LUDHIANA",
          "Assam/HOJAI/LUMDING",
          "Bihar/AURANGABAD/MADANPUR",
          "Bihar/MADHUBANI/MADHEPUR",
          "Bihar/MADHEPURA/MADHEPURA",
          "Jharkhand/DEOGHAR/MADHUPUR",
          "Bihar/MADHUBANI/MADHWAPUR",
          "Jharkhand/GODDA/MAHAGAMA",
          "Odisha/CUTTACK/MAHANGA",
          "Bihar/SIWAN/MAHARAJGANJ",
          "Haryana/MAHENDRAGARH/MAHENDRAGARH",
          "Jharkhand/PAKUR/MAHESHPUR",
          "Uttar Pradesh/AZAMGARH/MAHRAJGANJ",
          "Uttar Pradesh/MAHARAJGANJ/MAHRAJGANJ",
          "Bihar/VAISHALI/MAHUA",
          "Assam/DIMA HASAO/MAHUR DEVELOPMENT BLOCK",
          "Bihar/SIWAN/MAIRWA",
          "Bihar/W.CHAMPRAN/MAJHAULIA",
          "Assam/MAJULI/MAJULI",
          "Uttar Pradesh/LUCKNOW/MALIHABAD",
          "Assam/NALBARI/MALIKUCHI",
          "Telengana/MANCHERIAL/MANCHERIAL",
          "Assam/DIBRUGARH/MANCOTTA ROAD",
          "Assam/DARRANG/MANGALDAI",
          "Bihar/DARBHANGA/MANIGACHHI",
          "Uttar Pradesh/KAUSHAMBI/MANJHANPUR",
          "Jharkhand/PALAMU/MANOHARPUR",
          "Bihar/GAYA/MANPUR",
          "Bihar/KATIHAR/MANSAHI",
          "Assam/TINSUKIA/MARGARITA HIGH SCHOOL",
          "Assam/JORHAT/MARIANI",
          "Odisha/KENDRAPARA/MARSHAGHAI",
          "Bihar/MUZAFFARPUR/MARWAN",
          "Bihar/PATNA/MASAURHI",
          "Tripura/GOMATI/MATABARI",
          "Uttar Pradesh/PRAYAGRAJ/MAU AIMA",
          "Assam/MORIGAON/MAYONG",
          "Jharkhand/CHATRA/MAYUR HAND",
          "Jharkhand/GODDA/MEHERMA",
          "Bihar/MUZAFFARPUR/MINAPUR",
          "Uttar Pradesh/MAHARAJGANJ/MITHAURA",
          "Punjab/MOGA/MOGA",
          "Punjab/MOHALI/MOHALI",
          "Assam/DIBRUGARH/MORAN ",
          "Assam/MORIGAON/MORIGAON",
          "Assam/MORIGAON/MORIGAON MUNICIPALITY",
          "Odisha/MAYURBHANJ/MORODA",
          "Bihar/MUZAFFARPUR/MOTIPUR",
          "Punjab/MUKATSAR/MUKATSAR",
          "Bihar/MUNGER/MUNGER SADAR",
          "Bihar/MUZAFFARPUR/MURAUL",
          "Bihar/MUZAFFARPUR/MUSHAHARI",
          "Bihar/E.CHAMPRAN/Madhuban",
          "Jharkhand/DUMKA/Masaliya",
          "Bihar/E.CHAMPRAN/Mehsi",
          "Bihar/KAIMUR/Mohania",
          "Bihar/E.CHAMPRAN/Motihari",
          "Odisha/NABRANGPUR/NABRANGPUR",
          "Assam/NAGAON/NAGAON MUNCIPALITY",
          "Uttar Pradesh/GHAZIABAD/NAGAR",
          "Telengana/NAGARKURNOOL/NAGARKURNOOL",
          "Assam/DIBRUGARH/NAHARKATIA ",
          "Assam/NALBARI/NALBARI ",
          "Assam/NALBARI/NALBARI TOWN",
          "Assam/DARRANG/NAMKHOLA",
          "Jharkhand/RANCHI/NAMKUM",
          "Bihar/SITAMARHI/NANPUR",
          "Jharkhand/JAMTARA/NARAYANPUR",
          "Bihar/ROHTAS/NASRIGANJ",
          "Uttar Pradesh/SIDDHARTHNAGAR/NAUGARH",
          "Bihar/NAWADA/NAWADA",
          "Bihar/BUXAR/NAWANAGAR",
          "Assam/DHUBRI/NAYA HAT",
          "Odisha/NAYAGARH/NAYAGARH",
          "Assam/SIVASAGAR/NAZIRA",
          "Assam/SIVASAGAR/NAZIRA BAZAR",
          "Odisha/CUTTACK/NIALI",
          "Uttar Pradesh/MAHARAJGANJ/NICHLAUL",
          "Odisha/BALASORE/NILGIRI",
          "Arunachal Pradesh/PAPUM PARE/NIRJULI",
          "Jharkhand/DEOGHAR/NIRSA-CUM-CHIRKUNDA",
          "Uttar Pradesh/CHANDAULI/NIYAMATABAD",
          "Bihar/ROHTAS/NOKHA",
          "Assam/KAMRUP RURAL/NORTH GUWAHATI",
          "Assam/LAKHIMPUR/NORTH LAKHIMPUR",
          "Odisha/NAYAGARH/NUAGAON",
          "Arunachal Pradesh/PAPUM PARE/Naharlagun",
          "Odisha/CUTTACK/Narasinghpur",
          "Odisha/PURI/Nimapara",
          "Odisha/CUTTACK/Nischintakoili",
          "Bihar/AURANGABAD/OBRA",
          "Odisha/DHENKANAL/ODAPADA",
          "Tripura/WEST TRIPURA/OLD AGARTALA",
          "Assam/UDALGURI/ORANG",
          "Odisha/BALASORE/OUPADA",
          "Odisha/NAYAGARH/Odagaon",
          "Assam/NAGAON/PACHIM KALIABOR",
          "Assam/NAGAON/PACHIM KALIABOR DEVELOPMENT BLOCK",
          "Bihar/SIWAN/PACHRUKHI",
          "Uttar Pradesh/KUSHINAGAR/PADRAUNA",
          "Bihar/NAWADA/PAKARIBARAWAN",
          "Jharkhand/PAKUR/PAKAUR",
          "Jharkhand/PAKUR/PAKURIA",
          "Assam/KAMRUP METROPOLITAN/PALASHBARI",
          "Assam/KAMRUP RURAL/PALASHBARI",
          "Odisha/ANGUL/PALHADA",
          "Uttar Pradesh/AZAMGARH/PALHANI",
          "Jharkhand/DEOGHAR/PALOJORI",
          "Haryana/PALWAL/PALWAL",
          "Haryana/PANCHKULLA/PANCHKULLA",
          "Bihar/MADHUBANI/PANDAUL",
          "Haryana/PANIPAT/PANIPAT",
          "Tripura/NORTH TRIPURA/PANISAGAR",
          "Bihar/SITAMARHI/PARSAUNI",
          "Uttar Pradesh/MAHARAJGANJ/PARTAWAL",
          "Bihar/VAISHALI/PATEPUR",
          "Jharkhand/GODDA/PATHARGAMA",
          "Assam/BARPETA/PATHSALA",
          "Assam/BARPETA/PATHSALA TOWN",
          "Punjab/PATIALA/PATIALA",
          "Bihar/PATNA/PATNA SADAR",
          "Odisha/BALANGIR/PATNAGARH",
          "Odisha/KENDRAPARA/PATTAMUNDAI",
          "Uttar Pradesh/MAHARAJGANJ/PHARENDA",
          "Bihar/MADHUBANI/PHULPARAS",
          "Uttar Pradesh/PRAYAGRAJ/PHULPUR",
          "Uttar Pradesh/VARANASI/PINDARA",
          "Uttar Pradesh/GORAKHPUR/PIPRAULI",
          "Bihar/BHOJPUR/PIRO",
          "Jharkhand/GODDA/POREYAHAT",
          "Bihar/KISHANGANJ/POTHIA",
          "Tripura/WEST TRIPURA/PRAGATI ROAD",
          "Uttar Pradesh/PRATAPGARH(UP)/PRATAPGARH(UP)",
          "Odisha/PURI/PURI MUNICIPALITY",
          "Odisha/PURI/PURI SADAR",
          "Bihar/PURNIA/PURNIA",
          "Bihar/PURNIA WEST/PURNIA WEST",
          "Odisha/GANJAM/PURUSOTTAMPUR",
          "Bihar/SAMASTIPUR/PUSA",
          "Odisha/ANGUL/Pallahara",
          "Odisha/GAJAPATI/Paralakhemundi",
          "Bihar/KHAGARIA/Parbatta",
          "Odisha/PURI/Pipili",
          "Odisha/GANJAM/Polsara",
          "Bihar/AURANGABAD/RAFIGANJ",
          "Bihar/SIWAN/RAGHUNATHPUR",
          "Bihar/MADHUBANI/RAHIKA",
          "Odisha/MAYURBHANJ/RAIRANGPUR",
          "Bihar/NAWADA/RAJAULI",
          "Jharkhand/DEOGHAR/RAJGANJ",
          "Bihar/NALANDA/RAJGIR",
          "Odisha/KENDRAPARA/RAJKANIKA",
          "Odisha/KENDRAPARA/RAJNAGAR",
          "Jharkhand/RAMGARH/RAMGARH",
          "Bihar/LAKHISARAI/RAMGARH CHOWK",
          "Assam/KARIMGANJ/RAMKRISHNA NAGAR",
          "Jharkhand/RANCHI/RANCHI",
          "Assam/SONITPUR/RANGAPARA",
          "Odisha/GANJAM/RANGEILUNDA",
          "Uttar Pradesh/AZAMGARH/RANI KI SARAI",
          "Bihar/ARARIA/RANIGANJ",
          "Odisha/MAYURBHANJ/RARUAN",
          "Odisha/JAJPUR/RASULPUR",
          "Jharkhand/RANCHI/RATU",
          "Odisha/BALASORE/REMUNA",
          "Meghalaya/RI-BHOI DISTRICT/RI-BHOI DISTRICT",
          "Bihar/SITAMARHI/RIGA",
          "Assam/NAGAON/ROHA",
          "Haryana/ROHTAK/ROHTAK",
          "Bihar/ROHTAS/ROHTAS",
          "Bihar/SAMASTIPUR/ROSERA",
          "Assam/UDALGURI/ROWTA",
          "Uttar Pradesh/BASTI/RUDHAULI",
          "Bihar/SITAMARHI/RUNNISAIDPUR",
          "Assam/NAGAON/RUPAHI ",
          "Jharkhand/SAHEBGANJ/Rajmahal",
          "Bihar/KAIMUR/Ramgarh",
          "Jharkhand/DUMKA/Raneshwar",
          "Telengana/RANGAREDDY\r\n/Rangareddy",
          "Odisha/NAYAGARH/Ranpur",
          "Bihar/E.CHAMPRAN/Raxaul",
          "Odisha/GAJAPATI/Rayagada",
          "Bihar/BHAGALPUR/SABOUR",
          "Tripura/SOUTH TRIPURA/SABRUM",
          "Odisha/BALASORE/SADAR",
          "Assam/DHUBRI/SAGOLIA",
          "Odisha/KEONJHAR/SAHARPADA",
          "Bihar/MUZAFFARPUR/SAHEBGANJ",
          "Jharkhand/SAHEBGANJ/SAHEBGANJ",
          "Uttar Pradesh/GORAKHPUR/SAHJANWA",
          "Bihar/MUZAFFARPUR/SAKRA",
          "Uttar Pradesh/DEORIA/SALEMPUR",
          "Odisha/CUTTACK/SALEPUR",
          "Bihar/SAHARSA/SALKHUA",
          "Bihar/SAMASTIPUR/SAMASTIPUR",
          "Odisha/SAMBALPUR/SAMBALPUR",
          "Haryana/ROHTAK/SAMPLA",
          "Punjab/SANGRUR/SANGRUR",
          "Tripura/SOUTH TRIPURA/SANTIR BAZAR",
          "Tripura/SOUTH TRIPURA/SANTIRBAZAR",
          "Jharkhand/SARAIKELA KHARSAWAN/SARAIKELA KHARSAWAN",
          "Uttar Pradesh/GORAKHPUR/SARDAR NAGAR",
          "Uttar Pradesh/LUCKNOW/SAROJINI NAGAR",
          "Assam/GOLAGHAT/SARUPATHAR",
          "Bihar/ROHTAS/SASARAM",
          "Bihar/SASARAM/SASARAM",
          "Bihar/SAHARSA/SATTAR KATIYA",
          "Bihar/SAHARSA/SAUR BAZAR",
          "Assam/JORHAT/SELENGHAT",
          "Odisha/GANJAM/SERAGAD",
          "Uttar Pradesh/VARANASI/SEWAPURI.",
          "Uttar Pradesh/CHANDAULI/SHAHABGANJ",
          "Bihar/BHOJPUR/SHAHPUR",
          "Bihar/MADHEPURA/SHANKARPUR",
          "Bihar/SHAOHAR/SHAOHAR",
          "Bihar/SITAMARHI/SHAOHAR",
          "Jammu And Kashmir/SHOPIAN/SHOPIAN",
          "Jammu And Kashmir/SHRINAGAR/SHRINAGAR",
          "Assam/SIVASAGAR/SIBSAGAR TOWN",
          "Assam/CHIRANG/SIDLI-CHIRANG",
          "Assam/DHEMAJI/SILAPATHAR",
          "Assam/CACHAR/SILCHAR",
          "Jharkhand/RANCHI/SILLI",
          "Jharkhand/CHATRA/SIMARIA",
          "Bihar/SAMASTIPUR/SINGHIA",
          "Bihar/DARBHANGA/SINGHWARA",
          "Tripura/SIPAHIJALA/SIPAHIJALA",
          "Bihar/NAWADA/SIRDALA",
          "Haryana/SIRSA/SIRSA",
          "Uttar Pradesh/MAHARAJGANJ/SISWA.",
          "Assam/SIVASAGAR/SIVASAGAR",
          "Bihar/SIWAN/SIWAN",
          "Assam/KAMRUP METROPOLITAN/SIX MILE",
          "Himachal Pradesh/SOLAN/SOLAN",
          "Assam/CACHAR/SONAI",
          "Assam/SIVASAGAR/SONARI TOWN",
          "Bihar/SAHARSA/SONBARSA",
          "Haryana/SONEPAT/SONEPAT",
          "Assam/BARPETA/SORBHOG TOWN",
          "Odisha/BALASORE/SORO",
          "Bihar/SAHARSA/SOUR BAZAR",
          "Meghalaya/SOUTH GARO HILLS/SOUTH GARO HILLS",
          "Assam/MANKACHAR/SOUTH SALAMARA-MANKACHAR",
          "Tripura/SOUTH TRIPURA/SOUTH TRIPURA",
          "Delhi/SOUTH WEST DELHI/SOUTH WEST DELHI",
          "Odisha/SUBARNAPUR/SUBARNAPUR",
          "Odisha/JAJPUR/SUKINDA",
          "Odisha/MAYURBHANJ/SULIAPADA",
          "Bihar/SUPAUL/SUPAUL",
          "Uttar Pradesh/SANT RAVIDAS NAGAR/SURIYAWAN.",
          "Bihar/SITAMARHI/SURSAND",
          "Bihar/LAKHISARAI/SURYAGARHA",
          "Telengana/SURYAPET/SURYAPET",
          "Uttar Pradesh/GHAZIPUR/Saidpur",
          "Odisha/PURI/Satyabadi",
          "Assam/KOKRAJHAR/Simaltapu",
          "Odisha/GANJAM/Surada",
          "Odisha/ANGUL/TALCHER",
          "Uttar Pradesh/KUSHINAGAR/TAMKUHI RAJ.",
          "Assam/UDALGURI/TANGLA",
          "Uttar Pradesh/DEORIA/TARKULWA.",
          "Arunachal Pradesh/TAWANG/TAWANG",
          "Odisha/KEONJHAR/TELKOI",
          "Assam/SONITPUR/TEZPUR",
          "Odisha/MAYURBHANJ/THAKURMUNDA",
          "Manipur/IMPHAL WEST/THANGAL BAZAR",
          "Bihar/GOPALGANJ/THAWE",
          "Odisha/CUTTACK/TIGIRIA",
          "Odisha/BHADRAK/TIHIDI",
          "Assam/NALBARI/TIHU TOWN",
          "Assam/GOALPARA/TIKRIKILLA",
          "Assam/TINSUKIA/TINSUKIA",
          "Assam/JORHAT/TITABOR",
          "Bihar/SUPAUL/TRIVENIGANJ",
          "Odisha/CUTTACK/Tangi-Choudwar",
          "Odisha/DEOGARH/Tileibani",
          "Tripura/GOMATI/UDAIPUR",
          "Odisha/MAYURBHANJ/UDALA",
          "Assam/UDALGURI/UDALGURI",
          "Assam/CACHAR/UDHARBOND",
          "Bihar/BHOJPUR/UDWANTNAGAR",
          "Bihar/SAMASTIPUR/UJIYARPUR",
          "Himachal Pradesh/UNA/UNA",
          "Tripura/UNAKOTI/UNOKOTI",
          "Bihar/VAISHALI/VAISHALI",
          "Uttar Pradesh/GHAZIPUR/Virno",
          "Odisha/JAJPUR/Vyasanagar Muncipality",
          "Bihar/W.CHAMPRAN/W.CHAMPRAN",
          "Telengana/WARANGAL/WARANGAL",
          "Bihar/SAMASTIPUR/WARISNAGAR",
          "Delhi/WEST DELHI/WEST DELHI",
          "Meghalaya/WEST GARO HILL/WEST GARO HILL",
          "Assam/JORHAT/WEST JORHAT ",
          "Tripura/WEST TRIPURA/WEST TRIPURA",
          "Haryana/YAMUNA NAGAR/YAMUNA NAGAR",
          "Uttar Pradesh/GHAZIPUR/Zamania",
          "Uttar Pradesh/AGRA/ FATEHABAD",
          "Uttar Pradesh/AGRA",
          "Mizoram/AIZAWAL",
          "Haryana/AMBALA",
          "Punjab/AMRITSAR",
          "Odisha/ANGUL",
          "Bihar/ARARIA",
          "Bihar/ARWAL",
          "Bihar/AURANGABAD",
          "Uttar Pradesh/AZAMGARH",
          "Assam/BAKSA",
          "Odisha/BALANGIR",
          "Odisha/BALASORE",
          "Jammu And Kashmir/BARAMULLA",
          "Assam/BARPETA",
          "Uttar Pradesh/BASTI",
          "Punjab/BATHINDA",
          "Bihar/BEGUSARAI",
          "Odisha/BHADRAK",
          "Bihar/BHAGALPUR",
          "Haryana/BHIWANI",
          "Bihar/BHOJPUR",
          "Odisha/BHUBANESWAR",
          "Assam/BISWANATH",
          "Jharkhand/BOKARO",
          "Assam/BONGAIGAON",
          "Odisha/BOUDH",
          "Bihar/BUXAR",
          "Bihar/Bodhgaya",
          "Assam/CACHAR",
          "Uttar Pradesh/CHANDAULI",
          "Bihar/CHAPRA",
          "Assam/CHARAIDEO",
          "Haryana/CHARKHI DADRI",
          "Jharkhand/CHATRA",
          "Assam/CHIRANG",
          "Andhra Pradesh/CHITTOR",
          "Odisha/CUTTACK",
          "Bihar/DARBHANGA",
          "Assam/DARRANG",
          "Odisha/DEOGARH",
          "Jharkhand/DEOGHAR",
          "Uttar Pradesh/DEORIA",
          "Tripura/DHALAI",
          "Jharkhand/DHANBAD",
          "Assam/DHEMAJI",
          "Odisha/DHENKANAL",
          "Assam/DHUBRI",
          "Assam/DIBRUGARH",
          "Assam/DIMA HASAO",
          "Nagaland/DIMAPUR",
          "Jharkhand/DUMKA",
          "Bihar/E.CHAMPRAN",
          "Meghalaya/EAST KHASI HILL",
          "Uttar Pradesh/ETAWAH",
          "Haryana/FARIDABAD",
          "Punjab/FARIDKOT",
          "Haryana/FATEHABAD",
          "Odisha/GAJAPATI",
          "Jammu And Kashmir/GANDERBAL",
          "Odisha/GANJAM",
          "Uttar Pradesh/GAUTAM BUDH NAGAR",
          "Bihar/GAYA",
          "Uttar Pradesh/GHAZIABAD",
          "Uttar Pradesh/GHAZIPUR",
          "Assam/GOALPARA",
          "Jharkhand/GODDA",
          "Assam/GOLAGHAT",
          "Tripura/GOMATI",
          "Bihar/GOPALGANJ",
          "Uttar Pradesh/GORAKHPUR",
          "Jharkhand/GUMLA",
          "Haryana/GURGAON",
          "Assam/HAILAKANDI",
          "Uttar Pradesh/HARDOI",
          "Jharkhand/HAZARIBAGH",
          "Haryana/HISAR",
          "Assam/HOJAI",
          "Telengana/HYDERABAD",
          "Manipur/IMPHAL EAST",
          "Manipur/IMPHAL WEST",
          "Odisha/JAGATSINGHPUR",
          "Telengana/JAGTIAL",
          "Rajasthan/JAIPUR",
          "Odisha/JAJPUR",
          "Punjab/JALANDHAR",
          "Jammu And Kashmir/JAMMU ",
          "Jharkhand/JAMSHEDPUR(EAST SINGHBHUM)",
          "Jharkhand/JAMTARA",
          "Bihar/JAMUI",
          "Uttar Pradesh/JAUNPUR",
          "Bihar/JEHANABAD",
          "Haryana/JHAJJAR",
          "Haryana/JIND",
          "Assam/JORHAT",
          "Bihar/KAIMUR",
          "Haryana/KAITHAL",
          "Odisha/KALAHANDI",
          "Assam/KAMRUP METROPOLITAN",
          "Assam/KAMRUP RURAL",
          "Himachal Pradesh/KANGRA",
          "Uttar Pradesh/KANPUR- NAGAR",
          "Assam/KARBI ANGLONG",
          "Assam/KARIMGANJ",
          "Telengana/KARIMNAGAR",
          "Haryana/KARNAL",
          "Bihar/KATIHAR",
          "Uttar Pradesh/KAUSHAMBI",
          "Odisha/KENDRAPARA",
          "Odisha/KEONJHAR",
          "Bihar/KHAGARIA",
          "Odisha/KHORDHA",
          "Tripura/KHOWAI",
          "Bihar/KISHANGANJ",
          "Jharkhand/KODERMA",
          "Nagaland/KOHIMA",
          "Assam/KOKRAJHAR",
          "Odisha/KORAPUT",
          "Himachal Pradesh/KULLU",
          "Andhra Pradesh/KURNOOL",
          "Haryana/KURUKSHETRA",
          "Uttar Pradesh/KUSHINAGAR",
          "Assam/LAKHIMPUR",
          "Bihar/LAKHISARAI",
          "Jharkhand/LOHARDAGA",
          "Uttar Pradesh/LUCKNOW",
          "Punjab/LUDHIANA",
          "Bihar/MADHEPURA",
          "Bihar/MADHUBANI",
          "Uttar Pradesh/MAHARAJGANJ",
          "Haryana/MAHENDRAGARH",
          "Assam/MAJULI",
          "Telengana/MANCHERIAL",
          "Assam/MANKACHAR",
          "Odisha/MAYURBHANJ",
          "Punjab/MOGA",
          "Punjab/MOHALI",
          "Assam/MORIGAON",
          "Punjab/MUKATSAR",
          "Bihar/MUNGER",
          "Bihar/MUZAFFARPUR",
          "Odisha/NABRANGPUR",
          "Assam/NAGAON",
          "Telengana/NAGARKURNOOL",
          "Bihar/NALANDA",
          "Assam/NALBARI",
          "Bihar/NAWADA",
          "Odisha/NAYAGARH",
          "Tripura/NORTH TRIPURA",
          "Jharkhand/PAKUR",
          "Jharkhand/PALAMU",
          "Haryana/PALWAL",
          "Haryana/PANCHKULLA",
          "Haryana/PANIPAT",
          "Arunachal Pradesh/PAPUM PARE",
          "Punjab/PATIALA",
          "Bihar/PATNA",
          "Uttar Pradesh/PRATAPGARH(UP)",
          "Uttar Pradesh/PRAYAGRAJ",
          "Odisha/PURI",
          "Bihar/PURNIA",
          "Bihar/PURNIA WEST",
          "Jharkhand/RAMGARH",
          "Jharkhand/RANCHI",
          "Telengana/RANGAREDDY\r\n",
          "Meghalaya/RI-BHOI DISTRICT",
          "Haryana/ROHTAK",
          "Bihar/ROHTAS",
          "Odisha/ROI District A1",
          "Bihar/SAHARSA",
          "Jharkhand/SAHEBGANJ",
          "Bihar/SAMASTIPUR",
          "Odisha/SAMBALPUR",
          "Punjab/SANGRUR",
          "Uttar Pradesh/SANT RAVIDAS NAGAR",
          "Jharkhand/SARAIKELA KHARSAWAN",
          "Bihar/SASARAM",
          "Bihar/SHAEIKHPURA",
          "Bihar/SHAOHAR",
          "Jammu And Kashmir/SHOPIAN",
          "Jammu And Kashmir/SHRINAGAR",
          "Uttar Pradesh/SIDDHARTHNAGAR",
          "Tripura/SIPAHIJALA",
          "Haryana/SIRSA",
          "Bihar/SITAMARHI",
          "Assam/SIVASAGAR",
          "Bihar/SIWAN",
          "Himachal Pradesh/SOLAN",
          "Haryana/SONEPAT",
          "Assam/SONITPUR",
          "Meghalaya/SOUTH GARO HILLS",
          "Tripura/SOUTH TRIPURA",
          "Delhi/SOUTH WEST DELHI",
          "Odisha/SUBARNAPUR",
          "Bihar/SUPAUL",
          "Telengana/SURYAPET",
          "Arunachal Pradesh/TAWANG",
          "Assam/TINSUKIA",
          "Assam/UDALGURI",
          "Himachal Pradesh/UNA",
          "Tripura/UNAKOTI",
          "Bihar/VAISHALI",
          "Uttar Pradesh/VARANASI",
          "Bihar/W.CHAMPRAN",
          "Telengana/WARANGAL",
          "Delhi/WEST DELHI",
          "Meghalaya/WEST GARO HILL",
          "Arunachal Pradesh/WEST KAMENG",
          "Tripura/WEST TRIPURA",
          "Haryana/YAMUNA NAGAR",
          "Andhra Pradesh",
          "Arunachal Pradesh",
          "Assam",
          "Bihar",
          "Delhi",
          "Haryana",
          "Himachal Pradesh",
          "Jammu And Kashmir",
          "Jharkhand",
          "Manipur",
          "Meghalaya",
          "Mizoram",
          "Nagaland",
          "Odisha",
          "Punjab",
          "Rajasthan",
          "Telengana",
          "Tripura",
          "Uttar Pradesh"
         ],
         "labels": [
          "AALI",
          "ABHAYAPURI",
          "ADABARI",
          "ADITYAPUR",
          "AGARTALA",
          "AGOMONI",
          "AIZAWAL",
          "AKBARPUR",
          "AKORHIGOLA",
          "AMARPUR",
          "AMBALA",
          "AMGURI",
          "AMRITSAR",
          "ANANDAPUR",
          "ANDAR",
          "ANDHARATHARI",
          "ANGUL",
          "ANGUL SADAR",
          "ARA SADAR",
          "ARARIA",
          "ARWAL",
          "ASKA",
          "ATHAGARH",
          "AURAI",
          "AURANGABAD",
          "AZAMATGARH",
          "AZARA",
          "Adapur",
          "Areraj",
          "Astarang",
          "Ateli Mandi",
          "Aul",
          "BABUBARHI",
          "BADAMBA",
          "BADARPUR",
          "BADCHANA",
          "BAGHMARA",
          "BAGHRAGODA",
          "BAHADURPUR",
          "BAHADURPUR",
          "BAHALADA",
          "BAHARI HAAT",
          "BAHARIYA",
          "BAHERI",
          "BAIKHORA",
          "BAIRGANIA",
          "BAISI",
          "BAITALPUR",
          "BAJPATTI",
          "BAKSHI KA TALAB",
          "BALANGIR",
          "BALASORE",
          "BALIANTA",
          "BALIAPAL",
          "BALIAPATNA",
          "BALIPARA",
          "BALIPARA",
          "BANAPARA",
          "BANARPAL",
          "BANGIRIPOSI",
          "BANKI",
          "BANMA ITAHRI",
          "BANSGAON",
          "BANSKANDI",
          "BANSPAL",
          "BARAGAON",
          "BARAHIA",
          "BARAMA TOWN",
          "BARAMULLA",
          "BARANGA",
          "BARAUNI",
          "BARCODE",
          "BARH",
          "BARHANI",
          "BARHARA",
          "BARHARIA",
          "BARHAT",
          "BARKAGAON",
          "BARKHETRI",
          "BARKOT",
          "BARMASIA",
          "BARPETA",
          "BARPETA COLONI",
          "BARPETA ROAD",
          "BARPETA TOWN",
          "BARSOI",
          "BARUN",
          "BASHANT RAI",
          "BASOPATTI",
          "BASTA",
          "BASTI",
          "BASUDEVPUR",
          "BATHINDA",
          "BATHNAHA",
          "BBSR TOWN",
          "BEGUNIAPADA",
          "BEGUSARAI",
          "BELONIA",
          "BELSAND",
          "BENIPATTI",
          "BENIPUR",
          "BERPETA ",
          "BETANATI",
          "BETTIAH",
          "BEZERA",
          "BHADOHI",
          "BHADRAK",
          "BHADRAK",
          "BHAGALPUR",
          "BHALUANI",
          "BHANJANAGAR",
          "BHARTHANA",
          "BHATNI",
          "BHATPAR RANI",
          "BHAWANIPUR",
          "BHIWANI",
          "BHOGRAI",
          "BHUBAN",
          "BIBHUTIPUR",
          "BIDUPUR",
          "BIHARSARIF",
          "BIHDIYA JAJIKONA",
          "BIHIYA",
          "BIHTA",
          "BIJNI",
          "BIKRAMGANJ",
          "BILAGRAM",
          "BILISHIPARA",
          "BINAKANDI",
          "BINJHARPUR",
          "BIRAUL",
          "BIRDPUR",
          "BIRMAHARAJPUR",
          "BISHALGARH",
          "BISHALGARH",
          "BISHNUPUR",
          "BISOI",
          "BISWANATH",
          "BITHAN",
          "BOCHAHAN",
          "BODH GAYA",
          "BOKAJAN",
          "BOKAKHAT",
          "BOKO",
          "BOKOLIA",
          "BOMDILA",
          "BONGAIGAON",
          "BONGAIGAON TOWN",
          "BONTH",
          "BORDHOWALI",
          "BORKHOLA",
          "BORPATHAR",
          "BOUDH",
          "BRAHMAPUR",
          "BRIJMANGANJ",
          "BUGUDA",
          "BUNDU",
          "BUXAR",
          "Balikuda",
          "Banapur",
          "Banjariya",
          "Barbil",
          "Baripada",
          "Barwala",
          "Begunia",
          "Bellaguntha",
          "Berhampur",
          "Bhabhua",
          "Bhubaneswar",
          "Bhubaneswar",
          "Biridi",
          "Bodhgaya",
          "Brahmagiri",
          "CENTRAL JORHAT",
          "CHABUA ",
          "CHAHANIYA",
          "CHAKA",
          "CHAKULIA",
          "CHAMPUA",
          "CHANDABALI",
          "CHANDANKIYARI",
          "CHANDAULI",
          "CHANDAULI",
          "CHANDIL",
          "CHANHO",
          "CHANNAN",
          "CHANPATIA",
          "CHAPAR",
          "CHAPRA",
          "CHARAIDEO",
          "CHARGANWA",
          "CHAS",
          "CHATRA",
          "CHAYGAON",
          "CHEHRAKALA",
          "CHHATAPUR",
          "CHHATRAPUR",
          "CHIMGMEIRONG",
          "CHINHAT",
          "CHIRAI GAON",
          "CHIRANG",
          "CHITTOR",
          "CHUMKEDIMA",
          "CUTTACK SADAR",
          "Chainpur",
          "Chakia",
          "Chand",
          "Chhauradano",
          "Chhendipada",
          "DALSINGSARAI",
          "DANAGADI",
          "DANAPUR",
          "DARBHANGA",
          "DARRANG",
          "DARU",
          "DASARATHAPUR",
          "DASRATHPUR",
          "DAUDNAGAR",
          "DEHRI",
          "DELANG",
          "DEO",
          "DEOGARH",
          "DEORIA",
          "DERABISH",
          "DERAGAON",
          "DERGAON",
          "DEURIPARA",
          "DHALPUKHURI DEVELOPMENT BLOCK",
          "DHAMNAGAR",
          "DHANBAD",
          "DHANOOPUR",
          "DHARAMSALA",
          "DHARMANAGAR",
          "DHARMASALA",
          "DHEKIAJULI",
          "DHEMAJI",
          "DHENKANAL",
          "DHENKANAL SADAR",
          "DHUBRI",
          "DHUBRI TOWN",
          "DIBRUGARH TOWN",
          "DIGAPAHANDI",
          "DIGH",
          "DIMA HASAO(NORTH CACHAR H",
          "DIMAPUR",
          "DIMAPUR SADAR ",
          "DIMORIA",
          "DIMOW BAZAR",
          "DINARA",
          "DIPHU",
          "DOBOKA",
          "DOIMUKH",
          "DOMCHANCH",
          "DULIAJAN",
          "DUMARI",
          "DUMKA",
          "DUMRA",
          "DUMRA",
          "DUMRAON",
          "Dabwali",
          "Daspalla",
          "Deokali",
          "Dhaka",
          "Dholai",
          "EAST JORHAT",
          "EAST KHASI HILL",
          "EKANGARSARAI",
          "Erasama",
          "FAKIRAGRAM",
          "FARIDABAD",
          "FARIDKOT",
          "FATASIL",
          "FATEHABAD",
          "FORBESGANJ",
          "Fazil Nagar",
          "GABHORU",
          "GAIGHAT",
          "GAJAPATI",
          "GAMHARIYA",
          "GANDERBAL",
          "GANESHSURI",
          "GANJAM",
          "GARADPUR",
          "GAURADIH",
          "GAURIPUR ",
          "GAUTAM BUDH NAGAR",
          "GAYA SADAR",
          "GHASIPURA",
          "GHAT KUSUMBA",
          "GHATAGAON",
          "GHOGRACHWK",
          "GHOSHI",
          "GIRIYAK",
          "GOALPARA",
          "GOALPARA TOWN",
          "GODDA",
          "GOGAMUKH",
          "GOH",
          "GOLA",
          "GOLAGHAT",
          "GOLAKGANJ TOWN",
          "GOMATI",
          "GONDIA",
          "GOPALGANJ",
          "GOSAINGANJ",
          "GOSSAIGAON",
          "GOSSIGAON TOWN",
          "GOVINDPUR",
          "GT ROAD",
          "GUDBELA",
          "GUMLA",
          "GURARU",
          "GURGAON",
          "GUWAHATI",
          "GYANPUR",
          "Gagaha ",
          "Ghazipur",
          "Gop",
          "Gopabandhunagar",
          "HAFLONG",
          "HAIBARGAON",
          "HAILAKANDI",
          "HAILKANDI ",
          "HAJIPUR",
          "HAJO",
          "HARHUA",
          "HARICHANDANPUR",
          "HARLAKHI",
          "HARMOTI",
          "HASPURA",
          "HATA",
          "HAYAGHAT",
          "HAZARIBAG",
          "HINDOL",
          "HINJILICUT",
          "HIRANPUR",
          "HISAR",
          "HISUA",
          "HOJAI",
          "HOJAI MUNICIPALITY",
          "HRISHYAMUKH",
          "HULASGUNJ",
          "HUSSAINGANJ",
          "HYDERABAD",
          "HYDERABAD",
          "HYDERABAD - 1",
          "Hansi",
          "ISLAMPUR",
          "ITANGAR",
          "ITKHORI",
          "JAGATSINGHPUR",
          "JAGDISHPUR",
          "JAGDISHPUR",
          "JAGIROAD",
          "JAGTIAL",
          "JAINAGAR",
          "JAIPUR",
          "JAJPUR",
          "JALALGARH",
          "JALANDHAR",
          "JALE",
          "JALESWAR",
          "JALUKBARI",
          "JALUKBARI",
          "JAMALPUR",
          "JAMMU",
          "JAMPUIJALA",
          "JAMSHEDPUR(EAST SINGHBHUM",
          "JAMTARA",
          "JAMUGURI",
          "JAMUI",
          "JANDAHA",
          "JARIDIH",
          "JASWANTNAGAR",
          "JAUNPUR",
          "JEHANABAD",
          "JHAJHA",
          "JHAJJAR",
          "JHANJHARPUR",
          "JHUMPURA",
          "JIND",
          "JOGIGHOPA",
          "JONAI",
          "JOYSAGAR",
          "Jakhania",
          "Jatni",
          "Jeypore",
          "Jhaju kala",
          "Jogbani",
          "KABISURYA NAGAR",
          "KAHRA",
          "KAILASAHAR",
          "KAIMUR",
          "KAITHAL",
          "KAKATPUR",
          "KAKORI",
          "KAKRABON",
          "KALAHANDI",
          "KALER",
          "KALGACHIA",
          "KALIAPANI",
          "KALUAHI",
          "KAMAKHYANAGAR",
          "KAMRUP",
          "KAMRUP (M)",
          "KAMRUP (M)",
          "KAMRUP METROPOLITAN",
          "KANGRA",
          "KANPUR- NAGAR",
          "KANTAPADA",
          "KANTI",
          "KAPILI",
          "KARBOOK",
          "KARIA",
          "KARIMGANJ",
          "KARIMNAGAR",
          "KARNAL",
          "KARON",
          "KARPI",
          "KASHI VIDYA PEETH",
          "KASMAR",
          "KASYA",
          "KATAMDAG",
          "KATARA",
          "KATIHAR",
          "KATKAMSANDI",
          "KATLICHERRA",
          "KENDRAPARA",
          "KEONJHAR",
          "KEONJHAR SADAR",
          "KEOTI",
          "KHAGARI",
          "KHAIRA",
          "KHAIRA",
          "KHAJNI",
          "KHALIKOTE",
          "KHANDAPADA",
          "KHARUPATIA",
          "KHIZAR SARAI",
          "KHORABAR",
          "KHORDHA",
          "KHORDHA",
          "KHOWAI",
          "KHUNTA",
          "KHUTAUNA",
          "KISHANGANJ",
          "KISHANNAGAR",
          "KOCHAS",
          "KODERMA",
          "KOHIMA",
          "KOKRAJHAR",
          "KOKRAJHAR TOWN",
          "KONSAM LEIKAI",
          "KORAPUT",
          "KOREI",
          "KORHA",
          "KOTHIATOLI",
          "KRISHNAI ",
          "KRUSHNAPRASAD",
          "KUKUDAKHANDI",
          "KULLU",
          "KUMARGHAT",
          "KUNDAHIT",
          "KURHANI",
          "KURNOOL",
          "KURSELA",
          "KURUKSHETRA",
          "KUSHESWAR ASTHAN",
          "KUSHESWAR ASTHAN EAST",
          "KUSUMI",
          "Kanas",
          "Kaniha",
          "Kaptipada",
          "Karanjia",
          "Kesinga",
          "Kodala",
          "Kudra",
          "Kujanga",
          "Kuliana",
          "LADANIA",
          "LAHORIGHAT",
          "LAKHANAUR",
          "LAKHIMPUR",
          "LAKHIPUR",
          "LAKHISARAI",
          "LALA",
          "LANKA MUNICIPALITY",
          "LAXMIPUR",
          "LEDO",
          "LOHARDAGA",
          "LOHISINGHA",
          "LUDHIANA",
          "LUMDING",
          "MADANPUR",
          "MADHEPUR",
          "MADHEPURA",
          "MADHUPUR",
          "MADHWAPUR",
          "MAHAGAMA",
          "MAHANGA",
          "MAHARAJGANJ",
          "MAHENDRAGARH",
          "MAHESHPUR",
          "MAHRAJGANJ",
          "MAHRAJGANJ",
          "MAHUA",
          "MAHUR DEVELOPMENT BLOCK",
          "MAIRWA",
          "MAJHAULIA",
          "MAJULI",
          "MALIHABAD",
          "MALIKUCHI",
          "MANCHERIAL",
          "MANCOTTA ROAD",
          "MANGALDAI",
          "MANIGACHHI",
          "MANJHANPUR",
          "MANOHARPUR",
          "MANPUR",
          "MANSAHI",
          "MARGARITA HIGH SCHOOL",
          "MARIANI",
          "MARSHAGHAI",
          "MARWAN",
          "MASAURHI",
          "MATABARI",
          "MAU AIMA",
          "MAYONG",
          "MAYUR HAND",
          "MEHERMA",
          "MINAPUR",
          "MITHAURA",
          "MOGA",
          "MOHALI",
          "MORAN ",
          "MORIGAON",
          "MORIGAON MUNICIPALITY",
          "MORODA",
          "MOTIPUR",
          "MUKATSAR",
          "MUNGER SADAR",
          "MURAUL",
          "MUSHAHARI",
          "Madhuban",
          "Masaliya",
          "Mehsi",
          "Mohania",
          "Motihari",
          "NABRANGPUR",
          "NAGAON MUNCIPALITY",
          "NAGAR",
          "NAGARKURNOOL",
          "NAHARKATIA ",
          "NALBARI ",
          "NALBARI TOWN",
          "NAMKHOLA",
          "NAMKUM",
          "NANPUR",
          "NARAYANPUR",
          "NASRIGANJ",
          "NAUGARH",
          "NAWADA",
          "NAWANAGAR",
          "NAYA HAT",
          "NAYAGARH",
          "NAZIRA",
          "NAZIRA BAZAR",
          "NIALI",
          "NICHLAUL",
          "NILGIRI",
          "NIRJULI",
          "NIRSA-CUM-CHIRKUNDA",
          "NIYAMATABAD",
          "NOKHA",
          "NORTH GUWAHATI",
          "NORTH LAKHIMPUR",
          "NUAGAON",
          "Naharlagun",
          "Narasinghpur",
          "Nimapara",
          "Nischintakoili",
          "OBRA",
          "ODAPADA",
          "OLD AGARTALA",
          "ORANG",
          "OUPADA",
          "Odagaon",
          "PACHIM KALIABOR",
          "PACHIM KALIABOR DEVELOPMENT BLOCK",
          "PACHRUKHI",
          "PADRAUNA",
          "PAKARIBARAWAN",
          "PAKAUR",
          "PAKURIA",
          "PALASHBARI",
          "PALASHBARI",
          "PALHADA",
          "PALHANI",
          "PALOJORI",
          "PALWAL",
          "PANCHKULLA",
          "PANDAUL",
          "PANIPAT",
          "PANISAGAR",
          "PARSAUNI",
          "PARTAWAL",
          "PATEPUR",
          "PATHARGAMA",
          "PATHSALA",
          "PATHSALA TOWN",
          "PATIALA",
          "PATNA SADAR",
          "PATNAGARH",
          "PATTAMUNDAI",
          "PHARENDA",
          "PHULPARAS",
          "PHULPUR",
          "PINDARA",
          "PIPRAULI",
          "PIRO",
          "POREYAHAT",
          "POTHIA",
          "PRAGATI ROAD",
          "PRATAPGARH(UP)",
          "PURI MUNICIPALITY",
          "PURI SADAR",
          "PURNIA",
          "PURNIA WEST",
          "PURUSOTTAMPUR",
          "PUSA",
          "Pallahara",
          "Paralakhemundi",
          "Parbatta",
          "Pipili",
          "Polsara",
          "RAFIGANJ",
          "RAGHUNATHPUR",
          "RAHIKA",
          "RAIRANGPUR",
          "RAJAULI",
          "RAJGANJ",
          "RAJGIR",
          "RAJKANIKA",
          "RAJNAGAR",
          "RAMGARH",
          "RAMGARH CHOWK",
          "RAMKRISHNA NAGAR",
          "RANCHI",
          "RANGAPARA",
          "RANGEILUNDA",
          "RANI KI SARAI",
          "RANIGANJ",
          "RARUAN",
          "RASULPUR",
          "RATU",
          "REMUNA",
          "RI-BHOI DISTRICT",
          "RIGA",
          "ROHA",
          "ROHTAK",
          "ROHTAS",
          "ROSERA",
          "ROWTA",
          "RUDHAULI",
          "RUNNISAIDPUR",
          "RUPAHI ",
          "Rajmahal",
          "Ramgarh",
          "Raneshwar",
          "Rangareddy",
          "Ranpur",
          "Raxaul",
          "Rayagada",
          "SABOUR",
          "SABRUM",
          "SADAR",
          "SAGOLIA",
          "SAHARPADA",
          "SAHEBGANJ",
          "SAHEBGANJ",
          "SAHJANWA",
          "SAKRA",
          "SALEMPUR",
          "SALEPUR",
          "SALKHUA",
          "SAMASTIPUR",
          "SAMBALPUR",
          "SAMPLA",
          "SANGRUR",
          "SANTIR BAZAR",
          "SANTIRBAZAR",
          "SARAIKELA KHARSAWAN",
          "SARDAR NAGAR",
          "SAROJINI NAGAR",
          "SARUPATHAR",
          "SASARAM",
          "SASARAM",
          "SATTAR KATIYA",
          "SAUR BAZAR",
          "SELENGHAT",
          "SERAGAD",
          "SEWAPURI.",
          "SHAHABGANJ",
          "SHAHPUR",
          "SHANKARPUR",
          "SHAOHAR",
          "SHAOHAR",
          "SHOPIAN",
          "SHRINAGAR",
          "SIBSAGAR TOWN",
          "SIDLI-CHIRANG",
          "SILAPATHAR",
          "SILCHAR",
          "SILLI",
          "SIMARIA",
          "SINGHIA",
          "SINGHWARA",
          "SIPAHIJALA",
          "SIRDALA",
          "SIRSA",
          "SISWA.",
          "SIVASAGAR",
          "SIWAN",
          "SIX MILE",
          "SOLAN",
          "SONAI",
          "SONARI TOWN",
          "SONBARSA",
          "SONEPAT",
          "SORBHOG TOWN",
          "SORO",
          "SOUR BAZAR",
          "SOUTH GARO HILLS",
          "SOUTH SALAMARA-MANKACHAR",
          "SOUTH TRIPURA",
          "SOUTH WEST DELHI",
          "SUBARNAPUR",
          "SUKINDA",
          "SULIAPADA",
          "SUPAUL",
          "SURIYAWAN.",
          "SURSAND",
          "SURYAGARHA",
          "SURYAPET",
          "Saidpur",
          "Satyabadi",
          "Simaltapu",
          "Surada",
          "TALCHER",
          "TAMKUHI RAJ.",
          "TANGLA",
          "TARKULWA.",
          "TAWANG",
          "TELKOI",
          "TEZPUR",
          "THAKURMUNDA",
          "THANGAL BAZAR",
          "THAWE",
          "TIGIRIA",
          "TIHIDI",
          "TIHU TOWN",
          "TIKRIKILLA",
          "TINSUKIA",
          "TITABOR",
          "TRIVENIGANJ",
          "Tangi-Choudwar",
          "Tileibani",
          "UDAIPUR",
          "UDALA",
          "UDALGURI",
          "UDHARBOND",
          "UDWANTNAGAR",
          "UJIYARPUR",
          "UNA",
          "UNOKOTI",
          "VAISHALI",
          "Virno",
          "Vyasanagar Muncipality",
          "W.CHAMPRAN",
          "WARANGAL",
          "WARISNAGAR",
          "WEST DELHI",
          "WEST GARO HILL",
          "WEST JORHAT ",
          "WEST TRIPURA",
          "YAMUNA NAGAR",
          "Zamania",
          " FATEHABAD",
          "AGRA",
          "AIZAWAL",
          "AMBALA",
          "AMRITSAR",
          "ANGUL",
          "ARARIA",
          "ARWAL",
          "AURANGABAD",
          "AZAMGARH",
          "BAKSA",
          "BALANGIR",
          "BALASORE",
          "BARAMULLA",
          "BARPETA",
          "BASTI",
          "BATHINDA",
          "BEGUSARAI",
          "BHADRAK",
          "BHAGALPUR",
          "BHIWANI",
          "BHOJPUR",
          "BHUBANESWAR",
          "BISWANATH",
          "BOKARO",
          "BONGAIGAON",
          "BOUDH",
          "BUXAR",
          "Bodhgaya",
          "CACHAR",
          "CHANDAULI",
          "CHAPRA",
          "CHARAIDEO",
          "CHARKHI DADRI",
          "CHATRA",
          "CHIRANG",
          "CHITTOR",
          "CUTTACK",
          "DARBHANGA",
          "DARRANG",
          "DEOGARH",
          "DEOGHAR",
          "DEORIA",
          "DHALAI",
          "DHANBAD",
          "DHEMAJI",
          "DHENKANAL",
          "DHUBRI",
          "DIBRUGARH",
          "DIMA HASAO",
          "DIMAPUR",
          "DUMKA",
          "E.CHAMPRAN",
          "EAST KHASI HILL",
          "ETAWAH",
          "FARIDABAD",
          "FARIDKOT",
          "FATEHABAD",
          "GAJAPATI",
          "GANDERBAL",
          "GANJAM",
          "GAUTAM BUDH NAGAR",
          "GAYA",
          "GHAZIABAD",
          "GHAZIPUR",
          "GOALPARA",
          "GODDA",
          "GOLAGHAT",
          "GOMATI",
          "GOPALGANJ",
          "GORAKHPUR",
          "GUMLA",
          "GURGAON",
          "HAILAKANDI",
          "HARDOI",
          "HAZARIBAGH",
          "HISAR",
          "HOJAI",
          "HYDERABAD",
          "IMPHAL EAST",
          "IMPHAL WEST",
          "JAGATSINGHPUR",
          "JAGTIAL",
          "JAIPUR",
          "JAJPUR",
          "JALANDHAR",
          "JAMMU ",
          "JAMSHEDPUR(EAST SINGHBHUM)",
          "JAMTARA",
          "JAMUI",
          "JAUNPUR",
          "JEHANABAD",
          "JHAJJAR",
          "JIND",
          "JORHAT",
          "KAIMUR",
          "KAITHAL",
          "KALAHANDI",
          "KAMRUP METROPOLITAN",
          "KAMRUP RURAL",
          "KANGRA",
          "KANPUR- NAGAR",
          "KARBI ANGLONG",
          "KARIMGANJ",
          "KARIMNAGAR",
          "KARNAL",
          "KATIHAR",
          "KAUSHAMBI",
          "KENDRAPARA",
          "KEONJHAR",
          "KHAGARIA",
          "KHORDHA",
          "KHOWAI",
          "KISHANGANJ",
          "KODERMA",
          "KOHIMA",
          "KOKRAJHAR",
          "KORAPUT",
          "KULLU",
          "KURNOOL",
          "KURUKSHETRA",
          "KUSHINAGAR",
          "LAKHIMPUR",
          "LAKHISARAI",
          "LOHARDAGA",
          "LUCKNOW",
          "LUDHIANA",
          "MADHEPURA",
          "MADHUBANI",
          "MAHARAJGANJ",
          "MAHENDRAGARH",
          "MAJULI",
          "MANCHERIAL",
          "MANKACHAR",
          "MAYURBHANJ",
          "MOGA",
          "MOHALI",
          "MORIGAON",
          "MUKATSAR",
          "MUNGER",
          "MUZAFFARPUR",
          "NABRANGPUR",
          "NAGAON",
          "NAGARKURNOOL",
          "NALANDA",
          "NALBARI",
          "NAWADA",
          "NAYAGARH",
          "NORTH TRIPURA",
          "PAKUR",
          "PALAMU",
          "PALWAL",
          "PANCHKULLA",
          "PANIPAT",
          "PAPUM PARE",
          "PATIALA",
          "PATNA",
          "PRATAPGARH(UP)",
          "PRAYAGRAJ",
          "PURI",
          "PURNIA",
          "PURNIA WEST",
          "RAMGARH",
          "RANCHI",
          "RANGAREDDY\r\n",
          "RI-BHOI DISTRICT",
          "ROHTAK",
          "ROHTAS",
          "ROI District A1",
          "SAHARSA",
          "SAHEBGANJ",
          "SAMASTIPUR",
          "SAMBALPUR",
          "SANGRUR",
          "SANT RAVIDAS NAGAR",
          "SARAIKELA KHARSAWAN",
          "SASARAM",
          "SHAEIKHPURA",
          "SHAOHAR",
          "SHOPIAN",
          "SHRINAGAR",
          "SIDDHARTHNAGAR",
          "SIPAHIJALA",
          "SIRSA",
          "SITAMARHI",
          "SIVASAGAR",
          "SIWAN",
          "SOLAN",
          "SONEPAT",
          "SONITPUR",
          "SOUTH GARO HILLS",
          "SOUTH TRIPURA",
          "SOUTH WEST DELHI",
          "SUBARNAPUR",
          "SUPAUL",
          "SURYAPET",
          "TAWANG",
          "TINSUKIA",
          "UDALGURI",
          "UNA",
          "UNAKOTI",
          "VAISHALI",
          "VARANASI",
          "W.CHAMPRAN",
          "WARANGAL",
          "WEST DELHI",
          "WEST GARO HILL",
          "WEST KAMENG",
          "WEST TRIPURA",
          "YAMUNA NAGAR",
          "Andhra Pradesh",
          "Arunachal Pradesh",
          "Assam",
          "Bihar",
          "Delhi",
          "Haryana",
          "Himachal Pradesh",
          "Jammu And Kashmir",
          "Jharkhand",
          "Manipur",
          "Meghalaya",
          "Mizoram",
          "Nagaland",
          "Odisha",
          "Punjab",
          "Rajasthan",
          "Telengana",
          "Tripura",
          "Uttar Pradesh"
         ],
         "marker": {
          "coloraxis": "coloraxis",
          "colors": [
           12.103524229074887,
           13.595920029279892,
           18.963944847605223,
           25.63629596667972,
           13.821558185984454,
           20.803076092822447,
           34.46254193128155,
           6.284848585690517,
           12.70583333333333,
           3.538376951151039,
           25.01500099940036,
           6.769762186115214,
           8.280687224669604,
           13.334382756368388,
           9.205384003635539,
           6.653698735887291,
           8.740336595905347,
           10.76111080153856,
           15.848997592603013,
           31.91385021146214,
           9.861457829660843,
           9.427636082890787,
           17.72810099788328,
           7.393487861871997,
           15.406915570250094,
           7.008640629312724,
           17.525906903729993,
           9.067186408542062,
           6.630667172100076,
           13.051801696020874,
           16.384801488833745,
           11.783492117888965,
           5.966527085270008,
           6.948996763754044,
           15.34149812551731,
           27.063212501452302,
           29.71832047537014,
           20.657193763919825,
           13.358897666394258,
           11.86492159559835,
           18.683530120579526,
           11.399234313592629,
           4.58631419939577,
           7.966880482006722,
           7.009407813299471,
           9.25773093432672,
           29.831830372108616,
           5.9951790497069055,
           8.574682759074605,
           19.694053589845566,
           19.24154408709873,
           24.240818830011342,
           6.05,
           9.583880285524167,
           5.86,
           31.98,
           13.321268433839347,
           10.24877836860437,
           7.171552797089228,
           7.449695589488173,
           13.987640983987003,
           6.892207356901393,
           6.518492985916276,
           3.915994571539356,
           6.180000000000001,
           28.17,
           9.915,
           15.849122193436957,
           55.03295484080572,
           9.578806935399534,
           6.7715393103843615,
           12.3,
           7.86785178738787,
           18.650468700010666,
           9.689063674549605,
           6.03,
           11.471351418410388,
           5.831394942004183,
           6,
           6.804799930465757,
           21.99214271496816,
           19.941412939330398,
           22.021864142538977,
           22.27568442724418,
           11.512030958748685,
           11.440285173023488,
           10.474835759244689,
           11.950005578800557,
           8.39874241617882,
           11.084274838974043,
           13.12151974679361,
           15.454845645344273,
           23.127188110448238,
           7.734683333333333,
           16.602814713557848,
           9.291049118098398,
           18.662204701557513,
           13.420365590659342,
           9.105405598400457,
           13.551097686693334,
           8.607245126387465,
           13.299569606056359,
           9.91953182415578,
           15.784047957145097,
           5.622563629656954,
           12.009999999999998,
           13.67696480736733,
           17.702575412089377,
           6.016525970248483,
           5.017,
           20.703827393890908,
           24.82,
           5.7769125326118465,
           5.98734996102884,
           8.630181283377837,
           25.508840268456378,
           23.298197990585155,
           9.391032594244813,
           11.96694480604009,
           6.874327411827977,
           18.948605037707406,
           7.512762487257901,
           5.95287904241915,
           8.040561774461029,
           10.13876682910713,
           26.198266626523,
           12.15,
           22.806744026486896,
           12.832648770414869,
           8.869820566357822,
           9.677100268576545,
           32.50077219572867,
           30.02,
           3.7621537056728287,
           5.499595196658545,
           28.303348314606747,
           9.274343624747011,
           23.032360790135115,
           14.710922036159623,
           12.934637927132835,
           5.541022727272727,
           15.412694646476696,
           11.55762275241577,
           14.374115203544726,
           11.982685165866892,
           11.935406401876989,
           14.506383305234952,
           19.999459979168336,
           15.899117453657318,
           11.528109578745834,
           10.04,
           9.657243475452196,
           9.162417893340187,
           21.75530178891744,
           7.989717851639377,
           5.824911154985192,
           10.01,
           15.088607003655005,
           16.938992365640328,
           8.52813200498132,
           12.592924715752293,
           12.04726162162162,
           16.01548770411602,
           13.95,
           16.633166636136043,
           14.943867806987399,
           31.767193770126326,
           15.972577235659314,
           17.322803826402804,
           14.99377337933539,
           7.813567480280727,
           13.083184550659015,
           9.258037199124727,
           9.469515368494584,
           14.86729724702381,
           5.95,
           17.722530100120462,
           5.285714285714286,
           15.357610441003004,
           10.389288098937554,
           22.760522783413855,
           22.89853129445235,
           16.082589879468,
           5.256944045911047,
           10.084214786832163,
           9.98,
           10.073377466581793,
           10.721383145363408,
           16.443483315298458,
           11.384551886792451,
           6.574112012423182,
           21.780140024239927,
           19.64,
           10.98366856303909,
           9.077516446969145,
           12.28,
           22.553916140253733,
           46.60856281221092,
           31.298870991653853,
           12.106882686461386,
           9.87933144226537,
           12.419999999999998,
           39.05069946276203,
           15.849906538187717,
           7.886388888888889,
           11.74591780020477,
           7.861371769383698,
           12.054933011525959,
           4.612461806951795,
           6.010000000000001,
           12.38018922589407,
           6.000004166666666,
           29.20173938926905,
           11.271094724900738,
           8.763924794359578,
           7.33762886597938,
           8.921103734439834,
           19.960513322974887,
           13.457346559407059,
           7.670087109521474,
           6.378304439190964,
           7.732434251477075,
           5.937556308672519,
           16.825309789784093,
           14.910722257317332,
           13.197980394023032,
           37.20592072339471,
           12.480700713481037,
           17.03886926889715,
           20.762680714857296,
           12.020000000000001,
           6.05,
           8.387320945059823,
           22.840081104528384,
           15.487180802282532,
           17.066204789199336,
           10.888344176058638,
           8.531435256948862,
           22.54090914136649,
           22.111945177439644,
           22.692610489449418,
           5.5661695643551266,
           20.16057820607858,
           12.033540166204986,
           18.89,
           24.990000000000002,
           10.689704956074923,
           11.39046258102534,
           6.230924065889915,
           12.745376048429954,
           12.005251978342356,
           12.06,
           6.444810336799628,
           26.609083062119716,
           20.340426431975107,
           22.84872731393245,
           11.326357168058333,
           9.456866897088286,
           15.282673099625312,
           16.630231621349445,
           17.772014324082367,
           5.575360593450335,
           15.456464976904938,
           3.678843953185955,
           11.46036966271426,
           20.72946081156198,
           9.981,
           10.061082937136822,
           11.476297260940497,
           29.288337144338893,
           12.020000000000001,
           7.191153626499144,
           23.209105635648758,
           10.003028413028412,
           6.096888512889928,
           10.607307790549172,
           8.050861353555586,
           35.38075987603467,
           13.92,
           11.994643006263047,
           3.26,
           12.428427201287448,
           7.38,
           44.2850127018391,
           22.187885833066833,
           33.21913562311923,
           20.33097311961024,
           14.442465663264041,
           21.80657768549043,
           9.22560985841636,
           21.26521605058745,
           7.156538398091141,
           12.087644483231397,
           11.628709623149392,
           24.23888672926961,
           11.30456562278953,
           10.409220912352637,
           27.853678559325775,
           10.738884705882352,
           14.88928275334945,
           23.719505212156804,
           5.920703243298299,
           9.565120418848167,
           13.208304782639903,
           13.673951111222598,
           16.841086241646337,
           24.008087666757426,
           6.023990863787376,
           31.830454315149467,
           3.05,
           23.366165494862088,
           4.967531454453951,
           31.754465935513075,
           8.088935298257233,
           11.295241394725076,
           5.3736989623702955,
           18.220778126220754,
           10.371641911468073,
           27.7371901126863,
           8.993989120580235,
           12.625725356310628,
           6.063693199004164,
           5.538371193813438,
           19.59072269403286,
           10.747362918780494,
           18.723123689727466,
           11.404533187146832,
           8.403516940555894,
           30.69644266131729,
           12.226887996804473,
           6.0114615277623225,
           7.22438147380882,
           21.664879525955314,
           6.0920794484569925,
           8.749198458574183,
           17.296657265645983,
           34.383263007614204,
           8.06833287988029,
           18.510036164496796,
           22.601099705969055,
           4.808670673470298,
           5.027179843394796,
           11.763871811292558,
           28.580304333712053,
           23.07887918176007,
           3,
           18.588357653791128,
           12.233647478195612,
           18.317233935109204,
           6.045000000000001,
           10.065764654263177,
           6.423125552608312,
           7.969441515885455,
           20.32744179249878,
           19.79610642097573,
           7.609204731248722,
           41.724818755846584,
           12.910894146268019,
           6.388292873923258,
           12.961556864595464,
           8.750252647503784,
           20.34178026695645,
           11.139200561009817,
           14.539152725382245,
           9.278585142597777,
           22.065375010135405,
           4.739127916079536,
           20.43208693390706,
           9.09908984830805,
           10.045150115473442,
           23.459755637329824,
           6.145,
           19.762299818016384,
           20.673495702005727,
           10.001,
           18.617733795451784,
           17.43050411614634,
           48.59297699811328,
           9.520555198218814,
           11.806477615616725,
           28.473616159518127,
           14.985157467637015,
           14.035401284675656,
           15.99342070727192,
           17.365686718672247,
           13.864712940742109,
           33.9216081028773,
           26.741250832162144,
           20.98495844875346,
           9.199297352640047,
           12.73018385106048,
           11.06876084854607,
           13.286787612414448,
           26.99084467907752,
           13.981741653418124,
           23.921325201717544,
           3.54681454391015,
           22.67010755097468,
           6.850776047705812,
           13.479801010255624,
           2.419422936692078,
           12.615278281541025,
           9.032910238242849,
           13.364841975646463,
           16.829950552422158,
           13.147681017612527,
           18.315394602628743,
           14.62,
           51.97548172992056,
           5.409315167591029,
           8.42100128653053,
           11.999032190853214,
           3.524,
           6.023066427289049,
           6.441100096776289,
           28.046252702702702,
           23.53664985078869,
           7.061327548806941,
           16.568832186046517,
           18.022493813701516,
           5.94,
           6.623938496793522,
           11.714874241110149,
           5.205,
           20.48026766912789,
           5.4813569684447785,
           7.940482721956405,
           13.723997966774895,
           25.534095850131905,
           17.16122406786911,
           13.722646978769731,
           29.74813367376584,
           6.215879481200816,
           15.205019703356419,
           6.831550121732488,
           8.405520171566454,
           16.49032754407977,
           9.999929086061158,
           8.004287227816684,
           26.988799901871804,
           34.53464077205001,
           17.404204509856413,
           4.508771232748644,
           7.7503060795386265,
           11.70064896135212,
           26.473493528985685,
           21.29483048111075,
           7.745097231377721,
           12.062,
           41.76,
           18.216527595388122,
           10.06,
           21.787164052049132,
           24.969999999999995,
           20.866612218671264,
           9.760567845904452,
           11.114402897873337,
           10,
           10.278922902494331,
           7.690690540279025,
           15.51,
           13.60208741867608,
           21.938968973395234,
           8.06452900759129,
           17.6,
           5.05,
           25.94845220168834,
           6.247157616530513,
           6.004999999999999,
           6.205938665906227,
           17.65382796197542,
           7.88430906576135,
           6.801290170916531,
           8.21,
           25.895996428848694,
           5.647992831541219,
           12.356084097682153,
           13.23027699579558,
           7.29923755080558,
           10.43,
           12.020000000000001,
           8.487361415596617,
           25.445089423461518,
           6.660194555904999,
           17.100662660683327,
           6.15645194639946,
           11.723230649552704,
           9.187271497211023,
           12.449999999999998,
           11.95,
           24.21312026058632,
           14.875324390099129,
           11.85639709649872,
           6.43994704497908,
           8.35079163716466,
           16.2338243634361,
           14.494628373973141,
           11.177993369208705,
           11.634975537832585,
           8.506477644426976,
           11.114191550794015,
           22.809679117147706,
           20.275256951950475,
           6.870212265407896,
           11.374372660378166,
           8.476301790388566,
           10.620620506999623,
           21.196854062785306,
           7.116268446943078,
           12.1,
           25,
           9.455461558241195,
           20.432704198663608,
           22.558394366197184,
           22.069395681483762,
           6.06,
           5.03,
           25.01500099940036,
           12.307936212369079,
           6.600212121212121,
           10.501107986501685,
           3.1936254335260115,
           17.778905518169587,
           9.488368857859335,
           7.54,
           3.3842039264939188,
           31.870012550988392,
           13.5545104589803,
           6.037502028985508,
           13.01,
           5.407828397873957,
           5.392010992191504,
           8.269409808811305,
           23.134125420470927,
           12.010033305578684,
           12.04029900332226,
           12.584050397363828,
           7.311649841361407,
           6.746189589934478,
           23.95,
           13.6149170941948,
           4.718710945373917,
           15.569761897981499,
           5.04,
           9.882901314571377,
           6.006142571618921,
           20.01862831235981,
           34.66671981135534,
           28.885228217104206,
           15.80104381569213,
           61.882741592592055,
           11.855,
           10.652633248730965,
           13.019948733882243,
           8.569318200854344,
           8.721025721784777,
           12.958320695581838,
           8.779070686613967,
           18.763639069264073,
           6.645316240393094,
           7.540686604839272,
           13.264971694165705,
           15.641477675101477,
           18.98912486439014,
           21.241830897321528,
           11.449789288849866,
           11.16745816372682,
           10.215813060782326,
           7.354093946815955,
           8.029621160409556,
           19.41986108563329,
           8.045003107520198,
           9.811700945440219,
           19.550703416380728,
           14.818333987441129,
           72.04028360297596,
           23.13982172800283,
           11.323656033905866,
           6.6,
           9.687835445253071,
           6.789205050268877,
           33.64912378276798,
           5.952484293925742,
           3.083701533717439,
           3.18,
           4.029608139926,
           19.117288955310627,
           12.817097543352599,
           11.131118628777626,
           6.255440467997246,
           5.837295796679056,
           8.520697751788674,
           21.606290132478435,
           17.11527747658945,
           8.471188299817184,
           13.881737726400525,
           9.466396468565815,
           9.053061027423714,
           10.758460213931647,
           23.259628659620244,
           10.96,
           6.244201124046567,
           26.02289767513001,
           12.915805870013214,
           6.010000000000001,
           5.688767431912162,
           7.316154562383613,
           8.349510768412657,
           17.74050342902884,
           12.050377822777023,
           11.339362920544023,
           24.719052909961754,
           30.00500749875021,
           16.26326855429209,
           5.558171102805148,
           7.342275024061599,
           5.177363989637305,
           17.143576523334012,
           6.835451572327044,
           11.647517908734713,
           11.400103224705683,
           24.969999999999995,
           9.171362968857382,
           10.077420149802716,
           12.03962770838328,
           14.233833110502749,
           24.556347388511455,
           15.7974868250584,
           20.779627626659348,
           6.455,
           8.450451004510045,
           8.014555786208264,
           8.42,
           8.41735326663017,
           17.063471357166655,
           22.93823061228079,
           10.19,
           17.326099104805014,
           18.261498153793887,
           6.012525987525987,
           18.14811629710032,
           16.6086071176697,
           10.975289672544083,
           10.626875324675323,
           11.217323874755383,
           10.189954271461236,
           6.384857030943987,
           16.028865855987462,
           11.969686684073105,
           5.962146059235565,
           9.40180461632796,
           21.094260761072984,
           11.161279861203788,
           8.457232419634359,
           9.840021559923906,
           11.409868560155797,
           22.98451148775895,
           11.001102794312404,
           19.965987550065144,
           24.07324100912506,
           12.334002280921196,
           8.896509403857275,
           6.945390668915122,
           6.02,
           6.05,
           11.965102381947345,
           10.06,
           9.936995515695067,
           8.096361301369864,
           20.308817733990146,
           6.602322924600153,
           5.040350877192982,
           7.6046621721268295,
           6.235000000000001,
           7.821640811503116,
           10.499192351534388,
           23.873573979801304,
           7.15,
           5.081272965879265,
           31.046730311505165,
           5.587287610619468,
           11.363461557884106,
           5.678808434156835,
           11.700127364385718,
           12.154001673607599,
           13.367975866448921,
           3.050524590163934,
           23.767348251255395,
           11.357032800545415,
           10.478958096731787,
           11.14543888949852,
           25.01,
           10.075,
           17.822112192404735,
           11.505936548385039,
           17.08172391402682,
           26.130191369173424,
           10.846770712269633,
           6.503526275215214,
           5.057,
           11.088850574712644,
           6.004,
           4.434619991738951,
           10.219830884865047,
           31.97,
           9.779889250814332,
           23.75022215810733,
           11.989999999999998,
           42.50360626899088,
           12.092897158138062,
           16.814622351023363,
           22.753489421781072,
           13.41066352943152,
           13.833004369335208,
           5.039,
           21.44834097219162,
           9.99,
           4.531422097124628,
           8.658047332594586,
           32.44654804270462,
           5.791572420376639,
           28.934332679367056,
           12.656226483120289,
           11.843454545454545,
           29.278656485355647,
           4.820514230271669,
           11.970417710944028,
           11.260989187865215,
           31.134640202850402,
           17.438483559098376,
           12.28852821776795,
           15.14,
           24.48,
           15.188036619426914,
           8.751264530747477,
           33.7896708060363,
           3.073701415523855,
           17.610184774575018,
           7.876563217488571,
           11.498788962353256,
           10.26,
           6.215325824617859,
           12.608538082153173,
           9.5586707530648,
           12.009,
           10.684506828528075,
           20.084308273987574,
           8.67540764113935,
           9.790064207557334,
           5.923452780054837,
           12.318928845300077,
           6.819607093414201,
           10.11,
           24.96,
           21.346494500815087,
           29.6365545549225,
           18.14572885092312,
           9.309115144847818,
           16.225504829323896,
           10.013881481288575,
           21.501074426282862,
           10.043640889478922,
           23.575400173321178,
           4.755433429238122,
           7.050332699619772,
           9.90463221724229,
           5.284523795939713,
           13.590775084534773,
           50.0530187196562,
           15.788807765804677,
           6.3525005910365095,
           13.347518224639714,
           9.167226519337017,
           11.851190982560615,
           3.135109856153436,
           7.98847503036365,
           7.897985335395544,
           6.450845199547459,
           13.994458487584525,
           26.599909933513448,
           7.547616303291211,
           44.65582961504267,
           29.980000000000004,
           11.817692934886214,
           11.837836259434896,
           23.209453424816843,
           13.432667049039289,
           40.01706829394963,
           40.01706829394963,
           34.46254193128155,
           25.01500099940036,
           8.280687224669604,
           9.383630631141193,
           31.45395673782512,
           11.561947795509873,
           20.441980960680826,
           7.975062798617781,
           18.693684577379614,
           21.292527524995343,
           19.373706369254897,
           55.03295484080572,
           17.905424265655874,
           6.02,
           23.127188110448238,
           11.195843546964705,
           13.3884988304282,
           43.87023586569053,
           25.508840268456378,
           14.447830004983645,
           21.54375754584975,
           22.991139291400636,
           22.071353028993478,
           27.108535881650692,
           9.162417893340187,
           15.19358416066145,
           13.047611284403429,
           11.966555979927682,
           13.087906087707394,
           16.443483315298458,
           11.384551886792451,
           26.741250832162144,
           12.163040795345685,
           10.9674660538411,
           12.419999999999998,
           13.683692887680904,
           25.32691050926137,
           15.92141467047288,
           6.97426916493107,
           21.676664426642144,
           6.022116928838594,
           3.678843953185955,
           29.169105894426266,
           17.991128967103993,
           9.839749184543905,
           22.070876525808277,
           21.960106360328183,
           10.756838407494147,
           33.775773359268065,
           22.47137103647526,
           27.262396078077778,
           20.72946081156198,
           22.39680843938379,
           29.288337144338893,
           12.020000000000001,
           23.209105635648758,
           27.389705154834104,
           11.994643006263047,
           18.350369752255236,
           33.21913562311923,
           17.51785222794745,
           61.882741592592055,
           16.77937968376856,
           22.442175064576716,
           11.312100007681078,
           13.999702198810459,
           10.133731170098903,
           12.249193606581034,
           21.985680548015246,
           23.366165494862088,
           31.754465935513075,
           6.474316065028593,
           12.15,
           15.9031935158683,
           32.43841470073504,
           18.780250906135365,
           28.580304333712053,
           23.577419297936142,
           44.81776157700377,
           12.061076671070143,
           19.79610642097573,
           41.724818755846584,
           17.490492688881385,
           12.961556864595464,
           22.065375010135405,
           22.380076447434632,
           19.683103448275862,
           18.936031047122377,
           10.001,
           17.498970073286785,
           48.59297699811328,
           28.473616159518127,
           10.96411024168021,
           15.157079891464226,
           26.99084467907752,
           25.065902905904057,
           17.79066417231267,
           13.436929388953274,
           14.62,
           51.97548172992056,
           13.076859490958038,
           8.610566758270496,
           28.046252702702702,
           23.53664985078869,
           19.81540679591101,
           5.03,
           15.030202542877776,
           22.299674263310806,
           29.54933929994687,
           17.078392474700593,
           4.508771232748644,
           26.46249799008,
           9.160640933140932,
           41.76,
           18.420909546309122,
           33.05349541711977,
           15.51,
           17.6,
           25.94845220168834,
           6.099055948840592,
           58.075708082049175,
           15.63491024997979,
           11.95,
           23.610999572005934,
           14.875324390099129,
           16.61724886345016,
           11.896635581578037,
           9.385681977502598,
           21.7154859839414,
           12.1,
           20.432704198663608,
           15.188036619426914,
           24.56609963302181,
           8.269409808811305,
           23.134125420470927,
           13.546967106602162,
           23.95,
           13.05403399723091,
           12.809028147687687,
           28.885228217104206,
           15.396045358724837,
           11.855,
           18.01784372357104,
           15.953116238737056,
           12.331177113318237,
           20.731123295677612,
           9.763714473100277,
           20.288824128147386,
           25.01500099940036,
           23.259628659620244,
           10.96,
           26.02289767513001,
           18.621657067448027,
           11.339362920544023,
           24.051913887003593,
           10.077420149802716,
           18.825266014192444,
           11.338451070869151,
           23.467937418702128,
           15.7974868250584,
           10.973456464379947,
           14.564874822179132,
           21.662568640208203,
           22.98451148775895,
           23.957428037757246,
           16.263037987434977,
           17.702575412089377,
           12.0041858354735,
           31.007544424275498,
           16.877949133007192,
           3.050524590163934,
           11.357032800545415,
           15.634051327594845,
           18.647220043572986,
           26.130191369173424,
           21.80657768549043,
           12.778435044943029,
           11.989999999999998,
           42.50360626899088,
           20.062761903537904,
           4.253597118894567,
           30.416613674550856,
           12.477433150730404,
           18.85960909302179,
           12.624203553903959,
           29.278656485355647,
           31.134640202850402,
           19.9091161716725,
           24.48,
           10.539185613316597,
           33.7896708060363,
           15.281906596640557,
           11.244051431344008,
           9.5586707530648,
           10.11,
           21.89943105787859,
           14.420484402883861,
           11.851190982560615,
           12.134312195949546,
           13.407966095267447,
           17.84466391599131,
           14.701903434186592,
           26.599909933513448,
           44.65582961504267,
           29.980000000000004,
           11.935406401876989,
           13.139389858068446,
           23.209453424816843,
           15.456908727514989,
           18.1184967062607,
           20.103699075941723,
           20.141482314376113,
           40.986476091418886,
           29.17255535246241,
           27.031874808610286,
           36.48893192624377,
           23.22320499049416,
           38.82378482981768,
           23.308857892502996,
           34.46254193128155,
           35.62226671097082,
           16.71754074070964,
           15.590130826643092,
           41.724818755846584,
           25.598925424042726,
           10.786600580109793,
           21.131522075472816
          ]
         },
         "name": "",
         "parents": [
          "Odisha/KENDRAPARA",
          "Assam/BONGAIGAON",
          "Assam/KAMRUP METROPOLITAN",
          "Jharkhand/JAMSHEDPUR(EAST SINGHBHUM)",
          "Tripura/WEST TRIPURA",
          "Assam/DHUBRI",
          "Mizoram/AIZAWAL",
          "Bihar/NAWADA",
          "Bihar/ROHTAS",
          "Tripura/GOMATI",
          "Haryana/AMBALA",
          "Assam/SIVASAGAR",
          "Punjab/AMRITSAR",
          "Odisha/KEONJHAR",
          "Bihar/SIWAN",
          "Bihar/MADHUBANI",
          "Odisha/ANGUL",
          "Odisha/ANGUL",
          "Bihar/BHOJPUR",
          "Bihar/ARARIA",
          "Bihar/ARWAL",
          "Odisha/GANJAM",
          "Odisha/CUTTACK",
          "Bihar/MUZAFFARPUR",
          "Bihar/AURANGABAD",
          "Uttar Pradesh/AZAMGARH",
          "Assam/KAMRUP RURAL",
          "Bihar/E.CHAMPRAN",
          "Bihar/E.CHAMPRAN",
          "Odisha/PURI",
          "Haryana/MAHENDRAGARH",
          "Odisha/KENDRAPARA",
          "Bihar/MADHUBANI",
          "Odisha/CUTTACK",
          "Assam/KARIMGANJ",
          "Odisha/JAJPUR",
          "Jharkhand/DEOGHAR",
          "Jharkhand/JAMSHEDPUR(EAST SINGHBHUM)",
          "Bihar/DARBHANGA",
          "Uttar Pradesh/PRAYAGRAJ",
          "Odisha/MAYURBHANJ",
          "Assam/BARPETA",
          "Uttar Pradesh/PRAYAGRAJ",
          "Bihar/DARBHANGA",
          "Tripura/SOUTH TRIPURA",
          "Bihar/SITAMARHI",
          "Bihar/PURNIA",
          "Uttar Pradesh/DEORIA",
          "Bihar/SITAMARHI",
          "Uttar Pradesh/LUCKNOW",
          "Odisha/BALANGIR",
          "Odisha/BALASORE",
          "Odisha/BHUBANESWAR",
          "Odisha/BALASORE",
          "Odisha/BHUBANESWAR",
          "Assam/BISWANATH",
          "Assam/SONITPUR",
          "Odisha/ANGUL",
          "Odisha/ANGUL",
          "Odisha/MAYURBHANJ",
          "Odisha/CUTTACK",
          "Bihar/SAHARSA",
          "Uttar Pradesh/GORAKHPUR",
          "Assam/CACHAR",
          "Odisha/KEONJHAR",
          "Uttar Pradesh/VARANASI",
          "Bihar/LAKHISARAI",
          "Assam/BAKSA",
          "Jammu And Kashmir/BARAMULLA",
          "Odisha/CUTTACK",
          "Bihar/BEGUSARAI",
          "Jharkhand/DEOGHAR",
          "Bihar/PATNA",
          "Uttar Pradesh/CHANDAULI",
          "Bihar/BHOJPUR",
          "Bihar/SIWAN",
          "Bihar/JAMUI",
          "Jharkhand/HAZARIBAGH",
          "Assam/NALBARI",
          "Odisha/DEOGARH",
          "Jharkhand/BOKARO",
          "Assam/BARPETA",
          "Assam/BARPETA",
          "Assam/BARPETA",
          "Assam/BARPETA",
          "Bihar/KATIHAR",
          "Bihar/AURANGABAD",
          "Jharkhand/GODDA",
          "Bihar/MADHUBANI",
          "Odisha/BALASORE",
          "Uttar Pradesh/SIDDHARTHNAGAR",
          "Odisha/BHADRAK",
          "Punjab/BATHINDA",
          "Bihar/SITAMARHI",
          "Odisha/BHUBANESWAR",
          "Odisha/GANJAM",
          "Bihar/BEGUSARAI",
          "Tripura/SOUTH TRIPURA",
          "Bihar/SITAMARHI",
          "Bihar/MADHUBANI",
          "Bihar/DARBHANGA",
          "Assam/BARPETA",
          "Odisha/MAYURBHANJ",
          "Bihar/W.CHAMPRAN",
          "Assam/KAMRUP RURAL",
          "Uttar Pradesh/SANT RAVIDAS NAGAR",
          "Odisha/BHADRAK",
          "Odisha/ROI District A1",
          "Uttar Pradesh/DEORIA",
          "Uttar Pradesh/DEORIA",
          "Odisha/GANJAM",
          "Uttar Pradesh/ETAWAH",
          "Uttar Pradesh/DEORIA",
          "Uttar Pradesh/DEORIA",
          "Bihar/PURNIA",
          "Haryana/BHIWANI",
          "Odisha/BALASORE",
          "Odisha/DHENKANAL",
          "Bihar/SAMASTIPUR",
          "Bihar/VAISHALI",
          "Bihar/NALANDA",
          "Assam/KAMRUP RURAL",
          "Bihar/BHOJPUR",
          "Bihar/PATNA",
          "Assam/CHIRANG",
          "Bihar/ROHTAS",
          "Uttar Pradesh/HARDOI",
          "Assam/DHUBRI",
          "Assam/HOJAI",
          "Odisha/JAJPUR",
          "Bihar/DARBHANGA",
          "Uttar Pradesh/SIDDHARTHNAGAR",
          "Odisha/SUBARNAPUR",
          "Tripura/SIPAHIJALA",
          "Tripura/WEST TRIPURA",
          "Manipur/IMPHAL EAST",
          "Odisha/MAYURBHANJ",
          "Assam/BISWANATH",
          "Bihar/SAMASTIPUR",
          "Bihar/MUZAFFARPUR",
          "Bihar/GAYA",
          "Assam/KARBI ANGLONG",
          "Assam/GOLAGHAT",
          "Assam/KAMRUP RURAL",
          "Assam/KARBI ANGLONG",
          "Arunachal Pradesh/WEST KAMENG",
          "Assam/BONGAIGAON",
          "Assam/BONGAIGAON",
          "Odisha/BHADRAK",
          "Tripura/WEST TRIPURA",
          "Assam/CACHAR",
          "Assam/GOLAGHAT",
          "Odisha/BOUDH",
          "Odisha/GANJAM",
          "Uttar Pradesh/MAHARAJGANJ",
          "Odisha/GANJAM",
          "Jharkhand/RANCHI",
          "Bihar/BUXAR",
          "Odisha/JAGATSINGHPUR",
          "Odisha/KHORDHA",
          "Bihar/E.CHAMPRAN",
          "Odisha/KEONJHAR",
          "Odisha/MAYURBHANJ",
          "Haryana/HISAR",
          "Odisha/KHORDHA",
          "Odisha/GANJAM",
          "Odisha/GANJAM",
          "Bihar/KAIMUR",
          "Odisha/BHUBANESWAR",
          "Odisha/KHORDHA",
          "Odisha/JAGATSINGHPUR",
          "Bihar/Bodhgaya",
          "Odisha/PURI",
          "Assam/JORHAT",
          "Assam/DIBRUGARH",
          "Uttar Pradesh/CHANDAULI",
          "Uttar Pradesh/PRAYAGRAJ",
          "Jharkhand/JAMSHEDPUR(EAST SINGHBHUM)",
          "Odisha/KEONJHAR",
          "Odisha/BHADRAK",
          "Jharkhand/BOKARO",
          "Uttar Pradesh/CHANDAULI",
          "Uttar Pradesh/VARANASI",
          "Jharkhand/SARAIKELA KHARSAWAN",
          "Jharkhand/RANCHI",
          "Bihar/LAKHISARAI",
          "Bihar/W.CHAMPRAN",
          "Assam/DHUBRI",
          "Bihar/CHAPRA",
          "Assam/CHARAIDEO",
          "Uttar Pradesh/GORAKHPUR",
          "Jharkhand/BOKARO",
          "Jharkhand/CHATRA",
          "Assam/KAMRUP RURAL",
          "Bihar/VAISHALI",
          "Bihar/SUPAUL",
          "Odisha/GANJAM",
          "Manipur/IMPHAL WEST",
          "Uttar Pradesh/LUCKNOW",
          "Uttar Pradesh/VARANASI",
          "Assam/CHIRANG",
          "Andhra Pradesh/CHITTOR",
          "Nagaland/DIMAPUR",
          "Odisha/CUTTACK",
          "Bihar/KAIMUR",
          "Bihar/E.CHAMPRAN",
          "Bihar/KAIMUR",
          "Bihar/E.CHAMPRAN",
          "Odisha/ANGUL",
          "Bihar/SAMASTIPUR",
          "Odisha/JAJPUR",
          "Bihar/PATNA",
          "Bihar/DARBHANGA",
          "Assam/DARRANG",
          "Jharkhand/HAZARIBAGH",
          "Odisha/JAJPUR",
          "Odisha/JAJPUR",
          "Bihar/AURANGABAD",
          "Bihar/ROHTAS",
          "Odisha/PURI",
          "Bihar/AURANGABAD",
          "Odisha/DEOGARH",
          "Uttar Pradesh/DEORIA",
          "Odisha/KENDRAPARA",
          "Assam/GOLAGHAT",
          "Assam/GOLAGHAT",
          "Assam/BONGAIGAON",
          "Assam/HOJAI",
          "Odisha/BHADRAK",
          "Jharkhand/DHANBAD",
          "Uttar Pradesh/PRAYAGRAJ",
          "Odisha/JAJPUR",
          "Tripura/NORTH TRIPURA",
          "Odisha/JAJPUR",
          "Assam/SONITPUR",
          "Assam/DHEMAJI",
          "Odisha/DHENKANAL",
          "Odisha/DHENKANAL",
          "Assam/DHUBRI",
          "Assam/DHUBRI",
          "Assam/DIBRUGARH",
          "Odisha/GANJAM",
          "Uttar Pradesh/SANT RAVIDAS NAGAR",
          "Assam/DIMA HASAO",
          "Nagaland/DIMAPUR",
          "Nagaland/DIMAPUR",
          "Assam/KAMRUP METROPOLITAN",
          "Assam/SIVASAGAR",
          "Bihar/ROHTAS",
          "Assam/KARBI ANGLONG",
          "Assam/HOJAI",
          "Arunachal Pradesh/PAPUM PARE",
          "Jharkhand/KODERMA",
          "Assam/DIBRUGARH",
          "Bihar/SHAOHAR",
          "Jharkhand/DUMKA",
          "Bihar/SHAOHAR",
          "Bihar/SITAMARHI",
          "Bihar/BUXAR",
          "Haryana/SIRSA",
          "Odisha/NAYAGARH",
          "Uttar Pradesh/GHAZIPUR",
          "Bihar/E.CHAMPRAN",
          "Tripura/DHALAI",
          "Assam/JORHAT",
          "Meghalaya/EAST KHASI HILL",
          "Bihar/NALANDA",
          "Odisha/JAGATSINGHPUR",
          "Assam/KOKRAJHAR",
          "Haryana/FARIDABAD",
          "Punjab/FARIDKOT",
          "Assam/KAMRUP METROPOLITAN",
          "Haryana/FATEHABAD",
          "Bihar/ARARIA",
          "Uttar Pradesh/KUSHINAGAR",
          "Assam/SONITPUR",
          "Bihar/MUZAFFARPUR",
          "Odisha/GAJAPATI",
          "Jharkhand/SARAIKELA KHARSAWAN",
          "Jammu And Kashmir/GANDERBAL",
          "Assam/KAMRUP METROPOLITAN",
          "Odisha/GANJAM",
          "Odisha/KENDRAPARA",
          "Bihar/BHAGALPUR",
          "Assam/DHUBRI",
          "Uttar Pradesh/GAUTAM BUDH NAGAR",
          "Bihar/GAYA",
          "Odisha/KEONJHAR",
          "Bihar/SHAEIKHPURA",
          "Odisha/KEONJHAR",
          "Assam/BAKSA",
          "Bihar/JEHANABAD",
          "Bihar/NALANDA",
          "Assam/GOALPARA",
          "Assam/GOALPARA",
          "Jharkhand/GODDA",
          "Assam/DHEMAJI",
          "Bihar/AURANGABAD",
          "Jharkhand/RAMGARH",
          "Assam/GOLAGHAT",
          "Assam/DHUBRI",
          "Tripura/GOMATI",
          "Odisha/DHENKANAL",
          "Bihar/GOPALGANJ",
          "Uttar Pradesh/LUCKNOW",
          "Assam/KOKRAJHAR",
          "Assam/KOKRAJHAR",
          "Bihar/NAWADA",
          "Jharkhand/DHANBAD",
          "Odisha/BALANGIR",
          "Jharkhand/GUMLA",
          "Bihar/Bodhgaya",
          "Haryana/GURGAON",
          "Assam/KAMRUP RURAL",
          "Uttar Pradesh/SANT RAVIDAS NAGAR",
          "Uttar Pradesh/GORAKHPUR",
          "Uttar Pradesh/GHAZIPUR",
          "Odisha/PURI",
          "Odisha/MAYURBHANJ",
          "Assam/DIMA HASAO",
          "Assam/NAGAON",
          "Assam/HAILAKANDI",
          "Assam/HAILAKANDI",
          "Bihar/VAISHALI",
          "Assam/KAMRUP RURAL",
          "Uttar Pradesh/VARANASI",
          "Odisha/KEONJHAR",
          "Bihar/MADHUBANI",
          "Assam/LAKHIMPUR",
          "Bihar/AURANGABAD",
          "Uttar Pradesh/KUSHINAGAR",
          "Bihar/DARBHANGA",
          "Jharkhand/HAZARIBAGH",
          "Odisha/DHENKANAL",
          "Odisha/GANJAM",
          "Jharkhand/PAKUR",
          "Haryana/HISAR",
          "Bihar/NAWADA",
          "Assam/HOJAI",
          "Assam/HOJAI",
          "Tripura/SOUTH TRIPURA",
          "Bihar/JEHANABAD",
          "Bihar/SIWAN",
          "Telengana/HYDERABAD",
          "Telengana/RANGAREDDY\r\n",
          "Telengana/RANGAREDDY\r\n",
          "Haryana/HISAR",
          "Bihar/NALANDA",
          "Arunachal Pradesh/PAPUM PARE",
          "Jharkhand/CHATRA",
          "Odisha/JAGATSINGHPUR",
          "Bihar/BHAGALPUR",
          "Bihar/BHOJPUR",
          "Assam/MORIGAON",
          "Telengana/JAGTIAL",
          "Bihar/MADHUBANI",
          "Rajasthan/JAIPUR",
          "Odisha/JAJPUR",
          "Bihar/PURNIA",
          "Punjab/JALANDHAR",
          "Bihar/DARBHANGA",
          "Odisha/BALASORE",
          "Assam/KAMRUP METROPOLITAN",
          "Assam/KAMRUP RURAL",
          "Bihar/MUNGER",
          "Jammu And Kashmir/JAMMU ",
          "Tripura/SIPAHIJALA",
          "Jharkhand/JAMSHEDPUR(EAST SINGHBHUM)",
          "Jharkhand/JAMTARA",
          "Assam/BISWANATH",
          "Bihar/JAMUI",
          "Bihar/VAISHALI",
          "Jharkhand/BOKARO",
          "Uttar Pradesh/ETAWAH",
          "Uttar Pradesh/JAUNPUR",
          "Bihar/JEHANABAD",
          "Bihar/JAMUI",
          "Haryana/JHAJJAR",
          "Bihar/MADHUBANI",
          "Odisha/KEONJHAR",
          "Haryana/JIND",
          "Assam/BONGAIGAON",
          "Assam/DHEMAJI",
          "Assam/SIVASAGAR",
          "Uttar Pradesh/GHAZIPUR",
          "Odisha/KHORDHA",
          "Odisha/KORAPUT",
          "Haryana/CHARKHI DADRI",
          "Bihar/ARARIA",
          "Odisha/GANJAM",
          "Bihar/SAHARSA",
          "Tripura/UNAKOTI",
          "Bihar/KAIMUR",
          "Haryana/KAITHAL",
          "Odisha/PURI",
          "Uttar Pradesh/LUCKNOW",
          "Tripura/GOMATI",
          "Odisha/KALAHANDI",
          "Bihar/ARWAL",
          "Assam/BARPETA",
          "Assam/JORHAT",
          "Bihar/MADHUBANI",
          "Odisha/DHENKANAL",
          "Assam/KAMRUP RURAL",
          "Assam/KAMRUP METROPOLITAN",
          "Assam/KAMRUP RURAL",
          "Assam/KAMRUP METROPOLITAN",
          "Himachal Pradesh/KANGRA",
          "Uttar Pradesh/KANPUR- NAGAR",
          "Odisha/CUTTACK",
          "Bihar/MUZAFFARPUR",
          "Assam/MORIGAON",
          "Tripura/GOMATI",
          "Assam/NALBARI",
          "Assam/KARIMGANJ",
          "Telengana/KARIMNAGAR",
          "Haryana/KARNAL",
          "Jharkhand/DEOGHAR",
          "Bihar/ARWAL",
          "Uttar Pradesh/VARANASI",
          "Jharkhand/BOKARO",
          "Uttar Pradesh/KUSHINAGAR",
          "Jharkhand/HAZARIBAGH",
          "Bihar/MUZAFFARPUR",
          "Bihar/KATIHAR",
          "Jharkhand/HAZARIBAGH",
          "Assam/HAILAKANDI",
          "Odisha/KENDRAPARA",
          "Odisha/KEONJHAR",
          "Odisha/KEONJHAR",
          "Bihar/DARBHANGA",
          "Bihar/KHAGARIA",
          "Odisha/BALASORE",
          "Bihar/JAMUI",
          "Uttar Pradesh/GORAKHPUR",
          "Odisha/GANJAM",
          "Odisha/NAYAGARH",
          "Assam/DARRANG",
          "Bihar/GAYA",
          "Uttar Pradesh/GORAKHPUR",
          "Odisha/BHUBANESWAR",
          "Odisha/KHORDHA",
          "Tripura/KHOWAI",
          "Odisha/MAYURBHANJ",
          "Bihar/MADHUBANI",
          "Bihar/KISHANGANJ",
          "Odisha/CUTTACK",
          "Bihar/ROHTAS",
          "Jharkhand/KODERMA",
          "Nagaland/KOHIMA",
          "Assam/KOKRAJHAR",
          "Assam/KOKRAJHAR",
          "Manipur/IMPHAL EAST",
          "Odisha/KORAPUT",
          "Odisha/JAJPUR",
          "Bihar/KATIHAR",
          "Assam/NAGAON",
          "Assam/GOALPARA",
          "Odisha/PURI",
          "Odisha/GANJAM",
          "Himachal Pradesh/KULLU",
          "Tripura/UNAKOTI",
          "Jharkhand/JAMTARA",
          "Bihar/MUZAFFARPUR",
          "Andhra Pradesh/KURNOOL",
          "Bihar/KATIHAR",
          "Haryana/KURUKSHETRA",
          "Bihar/DARBHANGA",
          "Bihar/DARBHANGA",
          "Odisha/MAYURBHANJ",
          "Odisha/PURI",
          "Odisha/ANGUL",
          "Odisha/MAYURBHANJ",
          "Odisha/MAYURBHANJ",
          "Odisha/KALAHANDI",
          "Odisha/GANJAM",
          "Bihar/KAIMUR",
          "Odisha/JAGATSINGHPUR",
          "Odisha/MAYURBHANJ",
          "Bihar/MADHUBANI",
          "Assam/MORIGAON",
          "Bihar/MADHUBANI",
          "Assam/LAKHIMPUR",
          "Assam/CACHAR",
          "Bihar/LAKHISARAI",
          "Assam/HAILAKANDI",
          "Assam/HOJAI",
          "Bihar/JAMUI",
          "Assam/TINSUKIA",
          "Jharkhand/LOHARDAGA",
          "Odisha/BALANGIR",
          "Punjab/LUDHIANA",
          "Assam/HOJAI",
          "Bihar/AURANGABAD",
          "Bihar/MADHUBANI",
          "Bihar/MADHEPURA",
          "Jharkhand/DEOGHAR",
          "Bihar/MADHUBANI",
          "Jharkhand/GODDA",
          "Odisha/CUTTACK",
          "Bihar/SIWAN",
          "Haryana/MAHENDRAGARH",
          "Jharkhand/PAKUR",
          "Uttar Pradesh/AZAMGARH",
          "Uttar Pradesh/MAHARAJGANJ",
          "Bihar/VAISHALI",
          "Assam/DIMA HASAO",
          "Bihar/SIWAN",
          "Bihar/W.CHAMPRAN",
          "Assam/MAJULI",
          "Uttar Pradesh/LUCKNOW",
          "Assam/NALBARI",
          "Telengana/MANCHERIAL",
          "Assam/DIBRUGARH",
          "Assam/DARRANG",
          "Bihar/DARBHANGA",
          "Uttar Pradesh/KAUSHAMBI",
          "Jharkhand/PALAMU",
          "Bihar/GAYA",
          "Bihar/KATIHAR",
          "Assam/TINSUKIA",
          "Assam/JORHAT",
          "Odisha/KENDRAPARA",
          "Bihar/MUZAFFARPUR",
          "Bihar/PATNA",
          "Tripura/GOMATI",
          "Uttar Pradesh/PRAYAGRAJ",
          "Assam/MORIGAON",
          "Jharkhand/CHATRA",
          "Jharkhand/GODDA",
          "Bihar/MUZAFFARPUR",
          "Uttar Pradesh/MAHARAJGANJ",
          "Punjab/MOGA",
          "Punjab/MOHALI",
          "Assam/DIBRUGARH",
          "Assam/MORIGAON",
          "Assam/MORIGAON",
          "Odisha/MAYURBHANJ",
          "Bihar/MUZAFFARPUR",
          "Punjab/MUKATSAR",
          "Bihar/MUNGER",
          "Bihar/MUZAFFARPUR",
          "Bihar/MUZAFFARPUR",
          "Bihar/E.CHAMPRAN",
          "Jharkhand/DUMKA",
          "Bihar/E.CHAMPRAN",
          "Bihar/KAIMUR",
          "Bihar/E.CHAMPRAN",
          "Odisha/NABRANGPUR",
          "Assam/NAGAON",
          "Uttar Pradesh/GHAZIABAD",
          "Telengana/NAGARKURNOOL",
          "Assam/DIBRUGARH",
          "Assam/NALBARI",
          "Assam/NALBARI",
          "Assam/DARRANG",
          "Jharkhand/RANCHI",
          "Bihar/SITAMARHI",
          "Jharkhand/JAMTARA",
          "Bihar/ROHTAS",
          "Uttar Pradesh/SIDDHARTHNAGAR",
          "Bihar/NAWADA",
          "Bihar/BUXAR",
          "Assam/DHUBRI",
          "Odisha/NAYAGARH",
          "Assam/SIVASAGAR",
          "Assam/SIVASAGAR",
          "Odisha/CUTTACK",
          "Uttar Pradesh/MAHARAJGANJ",
          "Odisha/BALASORE",
          "Arunachal Pradesh/PAPUM PARE",
          "Jharkhand/DEOGHAR",
          "Uttar Pradesh/CHANDAULI",
          "Bihar/ROHTAS",
          "Assam/KAMRUP RURAL",
          "Assam/LAKHIMPUR",
          "Odisha/NAYAGARH",
          "Arunachal Pradesh/PAPUM PARE",
          "Odisha/CUTTACK",
          "Odisha/PURI",
          "Odisha/CUTTACK",
          "Bihar/AURANGABAD",
          "Odisha/DHENKANAL",
          "Tripura/WEST TRIPURA",
          "Assam/UDALGURI",
          "Odisha/BALASORE",
          "Odisha/NAYAGARH",
          "Assam/NAGAON",
          "Assam/NAGAON",
          "Bihar/SIWAN",
          "Uttar Pradesh/KUSHINAGAR",
          "Bihar/NAWADA",
          "Jharkhand/PAKUR",
          "Jharkhand/PAKUR",
          "Assam/KAMRUP METROPOLITAN",
          "Assam/KAMRUP RURAL",
          "Odisha/ANGUL",
          "Uttar Pradesh/AZAMGARH",
          "Jharkhand/DEOGHAR",
          "Haryana/PALWAL",
          "Haryana/PANCHKULLA",
          "Bihar/MADHUBANI",
          "Haryana/PANIPAT",
          "Tripura/NORTH TRIPURA",
          "Bihar/SITAMARHI",
          "Uttar Pradesh/MAHARAJGANJ",
          "Bihar/VAISHALI",
          "Jharkhand/GODDA",
          "Assam/BARPETA",
          "Assam/BARPETA",
          "Punjab/PATIALA",
          "Bihar/PATNA",
          "Odisha/BALANGIR",
          "Odisha/KENDRAPARA",
          "Uttar Pradesh/MAHARAJGANJ",
          "Bihar/MADHUBANI",
          "Uttar Pradesh/PRAYAGRAJ",
          "Uttar Pradesh/VARANASI",
          "Uttar Pradesh/GORAKHPUR",
          "Bihar/BHOJPUR",
          "Jharkhand/GODDA",
          "Bihar/KISHANGANJ",
          "Tripura/WEST TRIPURA",
          "Uttar Pradesh/PRATAPGARH(UP)",
          "Odisha/PURI",
          "Odisha/PURI",
          "Bihar/PURNIA",
          "Bihar/PURNIA WEST",
          "Odisha/GANJAM",
          "Bihar/SAMASTIPUR",
          "Odisha/ANGUL",
          "Odisha/GAJAPATI",
          "Bihar/KHAGARIA",
          "Odisha/PURI",
          "Odisha/GANJAM",
          "Bihar/AURANGABAD",
          "Bihar/SIWAN",
          "Bihar/MADHUBANI",
          "Odisha/MAYURBHANJ",
          "Bihar/NAWADA",
          "Jharkhand/DEOGHAR",
          "Bihar/NALANDA",
          "Odisha/KENDRAPARA",
          "Odisha/KENDRAPARA",
          "Jharkhand/RAMGARH",
          "Bihar/LAKHISARAI",
          "Assam/KARIMGANJ",
          "Jharkhand/RANCHI",
          "Assam/SONITPUR",
          "Odisha/GANJAM",
          "Uttar Pradesh/AZAMGARH",
          "Bihar/ARARIA",
          "Odisha/MAYURBHANJ",
          "Odisha/JAJPUR",
          "Jharkhand/RANCHI",
          "Odisha/BALASORE",
          "Meghalaya/RI-BHOI DISTRICT",
          "Bihar/SITAMARHI",
          "Assam/NAGAON",
          "Haryana/ROHTAK",
          "Bihar/ROHTAS",
          "Bihar/SAMASTIPUR",
          "Assam/UDALGURI",
          "Uttar Pradesh/BASTI",
          "Bihar/SITAMARHI",
          "Assam/NAGAON",
          "Jharkhand/SAHEBGANJ",
          "Bihar/KAIMUR",
          "Jharkhand/DUMKA",
          "Telengana/RANGAREDDY\r\n",
          "Odisha/NAYAGARH",
          "Bihar/E.CHAMPRAN",
          "Odisha/GAJAPATI",
          "Bihar/BHAGALPUR",
          "Tripura/SOUTH TRIPURA",
          "Odisha/BALASORE",
          "Assam/DHUBRI",
          "Odisha/KEONJHAR",
          "Bihar/MUZAFFARPUR",
          "Jharkhand/SAHEBGANJ",
          "Uttar Pradesh/GORAKHPUR",
          "Bihar/MUZAFFARPUR",
          "Uttar Pradesh/DEORIA",
          "Odisha/CUTTACK",
          "Bihar/SAHARSA",
          "Bihar/SAMASTIPUR",
          "Odisha/SAMBALPUR",
          "Haryana/ROHTAK",
          "Punjab/SANGRUR",
          "Tripura/SOUTH TRIPURA",
          "Tripura/SOUTH TRIPURA",
          "Jharkhand/SARAIKELA KHARSAWAN",
          "Uttar Pradesh/GORAKHPUR",
          "Uttar Pradesh/LUCKNOW",
          "Assam/GOLAGHAT",
          "Bihar/ROHTAS",
          "Bihar/SASARAM",
          "Bihar/SAHARSA",
          "Bihar/SAHARSA",
          "Assam/JORHAT",
          "Odisha/GANJAM",
          "Uttar Pradesh/VARANASI",
          "Uttar Pradesh/CHANDAULI",
          "Bihar/BHOJPUR",
          "Bihar/MADHEPURA",
          "Bihar/SHAOHAR",
          "Bihar/SITAMARHI",
          "Jammu And Kashmir/SHOPIAN",
          "Jammu And Kashmir/SHRINAGAR",
          "Assam/SIVASAGAR",
          "Assam/CHIRANG",
          "Assam/DHEMAJI",
          "Assam/CACHAR",
          "Jharkhand/RANCHI",
          "Jharkhand/CHATRA",
          "Bihar/SAMASTIPUR",
          "Bihar/DARBHANGA",
          "Tripura/SIPAHIJALA",
          "Bihar/NAWADA",
          "Haryana/SIRSA",
          "Uttar Pradesh/MAHARAJGANJ",
          "Assam/SIVASAGAR",
          "Bihar/SIWAN",
          "Assam/KAMRUP METROPOLITAN",
          "Himachal Pradesh/SOLAN",
          "Assam/CACHAR",
          "Assam/SIVASAGAR",
          "Bihar/SAHARSA",
          "Haryana/SONEPAT",
          "Assam/BARPETA",
          "Odisha/BALASORE",
          "Bihar/SAHARSA",
          "Meghalaya/SOUTH GARO HILLS",
          "Assam/MANKACHAR",
          "Tripura/SOUTH TRIPURA",
          "Delhi/SOUTH WEST DELHI",
          "Odisha/SUBARNAPUR",
          "Odisha/JAJPUR",
          "Odisha/MAYURBHANJ",
          "Bihar/SUPAUL",
          "Uttar Pradesh/SANT RAVIDAS NAGAR",
          "Bihar/SITAMARHI",
          "Bihar/LAKHISARAI",
          "Telengana/SURYAPET",
          "Uttar Pradesh/GHAZIPUR",
          "Odisha/PURI",
          "Assam/KOKRAJHAR",
          "Odisha/GANJAM",
          "Odisha/ANGUL",
          "Uttar Pradesh/KUSHINAGAR",
          "Assam/UDALGURI",
          "Uttar Pradesh/DEORIA",
          "Arunachal Pradesh/TAWANG",
          "Odisha/KEONJHAR",
          "Assam/SONITPUR",
          "Odisha/MAYURBHANJ",
          "Manipur/IMPHAL WEST",
          "Bihar/GOPALGANJ",
          "Odisha/CUTTACK",
          "Odisha/BHADRAK",
          "Assam/NALBARI",
          "Assam/GOALPARA",
          "Assam/TINSUKIA",
          "Assam/JORHAT",
          "Bihar/SUPAUL",
          "Odisha/CUTTACK",
          "Odisha/DEOGARH",
          "Tripura/GOMATI",
          "Odisha/MAYURBHANJ",
          "Assam/UDALGURI",
          "Assam/CACHAR",
          "Bihar/BHOJPUR",
          "Bihar/SAMASTIPUR",
          "Himachal Pradesh/UNA",
          "Tripura/UNAKOTI",
          "Bihar/VAISHALI",
          "Uttar Pradesh/GHAZIPUR",
          "Odisha/JAJPUR",
          "Bihar/W.CHAMPRAN",
          "Telengana/WARANGAL",
          "Bihar/SAMASTIPUR",
          "Delhi/WEST DELHI",
          "Meghalaya/WEST GARO HILL",
          "Assam/JORHAT",
          "Tripura/WEST TRIPURA",
          "Haryana/YAMUNA NAGAR",
          "Uttar Pradesh/GHAZIPUR",
          "Uttar Pradesh/AGRA",
          "Uttar Pradesh",
          "Mizoram",
          "Haryana",
          "Punjab",
          "Odisha",
          "Bihar",
          "Bihar",
          "Bihar",
          "Uttar Pradesh",
          "Assam",
          "Odisha",
          "Odisha",
          "Jammu And Kashmir",
          "Assam",
          "Uttar Pradesh",
          "Punjab",
          "Bihar",
          "Odisha",
          "Bihar",
          "Haryana",
          "Bihar",
          "Odisha",
          "Assam",
          "Jharkhand",
          "Assam",
          "Odisha",
          "Bihar",
          "Bihar",
          "Assam",
          "Uttar Pradesh",
          "Bihar",
          "Assam",
          "Haryana",
          "Jharkhand",
          "Assam",
          "Andhra Pradesh",
          "Odisha",
          "Bihar",
          "Assam",
          "Odisha",
          "Jharkhand",
          "Uttar Pradesh",
          "Tripura",
          "Jharkhand",
          "Assam",
          "Odisha",
          "Assam",
          "Assam",
          "Assam",
          "Nagaland",
          "Jharkhand",
          "Bihar",
          "Meghalaya",
          "Uttar Pradesh",
          "Haryana",
          "Punjab",
          "Haryana",
          "Odisha",
          "Jammu And Kashmir",
          "Odisha",
          "Uttar Pradesh",
          "Bihar",
          "Uttar Pradesh",
          "Uttar Pradesh",
          "Assam",
          "Jharkhand",
          "Assam",
          "Tripura",
          "Bihar",
          "Uttar Pradesh",
          "Jharkhand",
          "Haryana",
          "Assam",
          "Uttar Pradesh",
          "Jharkhand",
          "Haryana",
          "Assam",
          "Telengana",
          "Manipur",
          "Manipur",
          "Odisha",
          "Telengana",
          "Rajasthan",
          "Odisha",
          "Punjab",
          "Jammu And Kashmir",
          "Jharkhand",
          "Jharkhand",
          "Bihar",
          "Uttar Pradesh",
          "Bihar",
          "Haryana",
          "Haryana",
          "Assam",
          "Bihar",
          "Haryana",
          "Odisha",
          "Assam",
          "Assam",
          "Himachal Pradesh",
          "Uttar Pradesh",
          "Assam",
          "Assam",
          "Telengana",
          "Haryana",
          "Bihar",
          "Uttar Pradesh",
          "Odisha",
          "Odisha",
          "Bihar",
          "Odisha",
          "Tripura",
          "Bihar",
          "Jharkhand",
          "Nagaland",
          "Assam",
          "Odisha",
          "Himachal Pradesh",
          "Andhra Pradesh",
          "Haryana",
          "Uttar Pradesh",
          "Assam",
          "Bihar",
          "Jharkhand",
          "Uttar Pradesh",
          "Punjab",
          "Bihar",
          "Bihar",
          "Uttar Pradesh",
          "Haryana",
          "Assam",
          "Telengana",
          "Assam",
          "Odisha",
          "Punjab",
          "Punjab",
          "Assam",
          "Punjab",
          "Bihar",
          "Bihar",
          "Odisha",
          "Assam",
          "Telengana",
          "Bihar",
          "Assam",
          "Bihar",
          "Odisha",
          "Tripura",
          "Jharkhand",
          "Jharkhand",
          "Haryana",
          "Haryana",
          "Haryana",
          "Arunachal Pradesh",
          "Punjab",
          "Bihar",
          "Uttar Pradesh",
          "Uttar Pradesh",
          "Odisha",
          "Bihar",
          "Bihar",
          "Jharkhand",
          "Jharkhand",
          "Telengana",
          "Meghalaya",
          "Haryana",
          "Bihar",
          "Odisha",
          "Bihar",
          "Jharkhand",
          "Bihar",
          "Odisha",
          "Punjab",
          "Uttar Pradesh",
          "Jharkhand",
          "Bihar",
          "Bihar",
          "Bihar",
          "Jammu And Kashmir",
          "Jammu And Kashmir",
          "Uttar Pradesh",
          "Tripura",
          "Haryana",
          "Bihar",
          "Assam",
          "Bihar",
          "Himachal Pradesh",
          "Haryana",
          "Assam",
          "Meghalaya",
          "Tripura",
          "Delhi",
          "Odisha",
          "Bihar",
          "Telengana",
          "Arunachal Pradesh",
          "Assam",
          "Assam",
          "Himachal Pradesh",
          "Tripura",
          "Bihar",
          "Uttar Pradesh",
          "Bihar",
          "Telengana",
          "Delhi",
          "Meghalaya",
          "Arunachal Pradesh",
          "Tripura",
          "Haryana",
          "",
          "",
          "",
          "",
          "",
          "",
          "",
          "",
          "",
          "",
          "",
          "",
          "",
          "",
          "",
          "",
          "",
          "",
          ""
         ],
         "type": "treemap",
         "values": [
          404.06,
          327.87,
          68.9,
          561.82,
          2845.797,
          37.06,
          122.82000000000001,
          30.05,
          18.96,
          71.24,
          50.03,
          16.925,
          22.7,
          91.86,
          44.010000000000005,
          103.63,
          2214.204,
          331.999,
          1901.639,
          4827.105,
          144.77,
          346.48,
          66.14,
          192.575,
          1865.243,
          36.230000000000004,
          586.06,
          50.105000000000004,
          13.190000000000001,
          306.6,
          48.36,
          58.36,
          59.165,
          12.36,
          205.39000000000001,
          172.14,
          801.06,
          35.92,
          220.26,
          36.35,
          1234.455,
          147.57999999999998,
          9.930000000000001,
          60.995000000000005,
          588.279,
          264.415,
          89.49000000000001,
          41.966,
          151.935,
          296.698,
          271.508,
          1851.3,
          6.05,
          165.31,
          5.86,
          31.98,
          646.23,
          2286.815,
          304.799,
          76.295,
          538.625,
          87.265,
          35.999,
          25.79,
          6.18,
          28.17,
          9.915,
          463.2,
          123.12,
          336.592,
          174.445,
          12.3,
          74.69,
          46.885,
          164.744,
          6.03,
          120.91,
          10.518,
          6,
          327.896,
          401.92,
          720.13,
          89.8,
          767.43,
          123.39,
          98.975,
          50.84,
          35.85,
          187.9,
          390.465,
          157.342,
          916.72,
          189.41,
          69,
          80.47,
          160.959,
          103.37,
          1834.56,
          17.505,
          970.04,
          214.42,
          71.33,
          186.415,
          1021.12,
          27.11,
          12.01,
          1526.74,
          469.255,
          12.033,
          5.017,
          535.039,
          24.82,
          51.745000000000005,
          17.962,
          239.68,
          819.5,
          2853.368,
          317.418,
          211.255,
          288.215,
          2665.657,
          19.62,
          11.905000000000001,
          24.12,
          121.07000000000001,
          390.265,
          12.15,
          1253.45,
          106.53999999999999,
          114.945,
          27.925,
          159.99699999999999,
          30.02,
          209.719,
          22.984,
          62.300000000000004,
          125.995,
          1185.62,
          292.315,
          883.8,
          11,
          83.86999999999999,
          294.316,
          216.66,
          47.93,
          59.67,
          925.32,
          499.24,
          319.36,
          182.28900000000002,
          10.04,
          30.96,
          143.953,
          412.54,
          346.534,
          121.56,
          10.01,
          659.37,
          197.79,
          16.06,
          770.015,
          23.125,
          1149.775,
          13.95,
          327.54,
          224.089,
          775.104,
          1006.873,
          1532.9279999999999,
          55.07,
          161.01,
          2256.627,
          274.2,
          148.876,
          107.52,
          5.95,
          226.627,
          7,
          525.62,
          476.26,
          643.67,
          56.239999999999995,
          96.24000000000001,
          6.97,
          18.53,
          9.98,
          78.55,
          127.67999999999999,
          170.965,
          33.92,
          696.762,
          387.79,
          19.64,
          54.49,
          617.895,
          12.28,
          819.857,
          540.5,
          291.392,
          53.617,
          204.47,
          12.42,
          94.93,
          2415.96,
          66.6,
          546.96,
          15.09,
          50.754999999999995,
          124.342,
          6.01,
          110.45,
          12,
          3023.59,
          176.3,
          17.02,
          14.55,
          24.1,
          2802.865,
          553.175,
          346.69,
          19.035,
          120.17,
          59.014,
          1264.89,
          94.98,
          210.14,
          2317.96,
          266.3,
          64.56,
          74.98,
          12.02,
          6.05,
          495.63,
          438.015,
          294.41,
          1001.42,
          1957.257,
          1146.123,
          360.34,
          1621.96,
          893.126,
          121.016,
          53.96,
          36.1,
          18.89,
          24.99,
          60.33,
          67.88,
          24.89,
          432.79,
          24.009999999999998,
          12.06,
          12.886,
          141.34,
          154.245,
          2691.63,
          42.515,
          726.205,
          194.82999999999998,
          79.44,
          312.76,
          11.053999999999998,
          473.045,
          55.368,
          406.925,
          71.96000000000001,
          9.981,
          227.16,
          349.39,
          424.21,
          12.02,
          17.51,
          190.75,
          72.15,
          48.759,
          39.15,
          69.89,
          254.91,
          13.92,
          23.950000000000003,
          3.26,
          308.206,
          7.38,
          5160.67,
          1250.8,
          96.37,
          2254.506,
          201.315,
          350.355,
          95.35,
          512.38,
          33.947,
          213.703,
          237.76,
          1708.12,
          311.02,
          97.55,
          1357.42,
          42.5,
          1227.218,
          136.22,
          412.358,
          19.1,
          208.98499999999999,
          79.732,
          188.54,
          367.3,
          12.04,
          236.84,
          3.05,
          184.9,
          9.935,
          485.99,
          483.14,
          33.555,
          15.998000000000001,
          368.624,
          545.34,
          55.02,
          22.060000000000002,
          369.06,
          429.79,
          20.69,
          1881.64,
          616.97,
          42.93,
          118.57,
          98.58,
          59.81999999999999,
          625.875,
          71.896,
          33.79,
          94.759,
          12.184000000000001,
          25.950000000000003,
          446.76,
          630.4,
          36.755,
          193.56,
          1322.99,
          134.438,
          19.795,
          46.845,
          369.65999999999997,
          93.86,
          3,
          69.9,
          109.267,
          237.63,
          6.045,
          474.06,
          50.895,
          140.38,
          102.65,
          123.19,
          195.72,
          171.04,
          630.965,
          12.77,
          339.09499999999997,
          16.525,
          3349.61,
          35.65,
          1500.34,
          26.438,
          123.33,
          25.548000000000002,
          845.93,
          51.42,
          25.98,
          850.58,
          6.145,
          87.92,
          34.9,
          10.001,
          534.495,
          456.252,
          498.22,
          404.225,
          162.39,
          481.45,
          310.54,
          141.67,
          128.013,
          130.627,
          54.17,
          232.51,
          270.38,
          32.49,
          27.348,
          1302.005,
          69.295,
          1824.165,
          71.98,
          251.6,
          105.965,
          105.955,
          44.629999999999995,
          90.55499999999999,
          130.66,
          6.034,
          408.04,
          135.492,
          877.08,
          517.72,
          20.439999999999998,
          4117.56,
          14.62,
          566.5,
          41.47,
          792.83,
          95.99,
          3.524,
          55.7,
          584.854,
          148,
          281.48,
          46.1,
          134.375,
          1429.126,
          5.94,
          173.243,
          23.060000000000002,
          5.205,
          3338.45,
          21.296,
          188.1,
          2537.84,
          3523.365,
          140.27,
          183.7,
          894.9399999999999,
          68.62,
          557.976,
          146.633,
          191.879,
          151.43,
          352.54,
          148.659,
          3621.793,
          542.97,
          1755.71,
          310.193,
          166.46,
          226.01500000000001,
          3389.345,
          30.97,
          30.34,
          12.062,
          41.76,
          1660.06,
          10.06,
          164.46,
          24.97,
          1774.17,
          104.86999999999999,
          42.79,
          10,
          123.48,
          56.841,
          15.51,
          165.388,
          271.38,
          90.235,
          17.6,
          5.05,
          438.3,
          31.215,
          6.005,
          210.405,
          86.26,
          79.53,
          90.395,
          8.21,
          128.81,
          16.74,
          215.761,
          957.325,
          170.995,
          10.43,
          12.02,
          15.965,
          1225.07,
          922.1,
          812.701,
          251.49,
          128.55,
          18.107,
          12.45,
          11.95,
          30.7,
          505.40999999999997,
          234.2,
          76.48,
          254.22,
          1280.115,
          306.76,
          352.145,
          149.21,
          132.316,
          65.805,
          235.6,
          1323.01,
          52.538,
          1151.201,
          834.735,
          52.86,
          71.195,
          14.23,
          12.1,
          25,
          194.45,
          50.135,
          78.1,
          584.46,
          6.06,
          5.03,
          50.03,
          920.586,
          19.8,
          71.12,
          12.11,
          743,
          783.196,
          7.54,
          30.256,
          63.74,
          526.82,
          12.075,
          13.01,
          39.51,
          165.845,
          24.06,
          83.24,
          24.02,
          24.08,
          515.9,
          34.67,
          162.535,
          23.95,
          177.961,
          24.805,
          3511.52,
          5.04,
          54.01,
          30.02,
          841.696,
          3818.82,
          310.45,
          1432.82,
          700.87,
          11.855,
          31.52,
          386.22,
          238.78,
          95.25,
          296.73,
          153.07,
          73.92,
          39.685,
          71.705,
          1651.391,
          115.79,
          580.71,
          1748.76,
          136.68,
          22.11,
          424.63,
          320.096,
          219.75,
          599.65,
          16.09,
          203.08,
          67.03,
          101.92,
          2979.87,
          679.86,
          44.83,
          6.6,
          971.47,
          171.08,
          526.81,
          64.37,
          24.646,
          3.18,
          29.73,
          481.77,
          276.8,
          110.85000000000001,
          43.59,
          299.192,
          245.573,
          1272.66,
          101.44999999999999,
          32.82,
          854.68,
          407.2,
          25.89,
          191.65,
          213.82,
          10.96,
          12.455,
          261.52,
          216.422,
          6.01,
          56.104,
          104.715,
          37.61,
          462.23,
          390.13,
          13.97,
          2902.1,
          60.01,
          911.3389999999999,
          52.974000000000004,
          83.12,
          7.720000000000001,
          49.07,
          254.4,
          126.33500000000001,
          234.44,
          24.97,
          165.882,
          59.812,
          1209.67,
          1413.6299999999999,
          2944.585,
          2450.675,
          437.295,
          6.455,
          24.39,
          85.747,
          8.42,
          858.53,
          210.07,
          284.265,
          10.19,
          647.345,
          1118.51,
          12.025,
          322.45,
          355.903,
          87.34,
          77,
          40.88,
          48.11,
          51.06,
          806.402,
          95.75,
          271.965,
          45.664,
          32.06,
          74.92999999999999,
          409.69,
          78.85,
          988.475,
          132.75,
          424.362,
          414.46,
          186.3,
          475.685,
          250.695,
          17.79,
          6.02,
          6.05,
          23.93,
          10.06,
          57.98,
          23.36,
          56.84,
          13.129999999999999,
          9.120000000000001,
          18.986,
          6.235,
          302.944,
          223.70499999999998,
          974.32,
          7.15,
          15.24,
          5377.76,
          22.148,
          198.025,
          139.931,
          712.13,
          128.465,
          110.22,
          6.1,
          113.51,
          132.01,
          216.785,
          820.17,
          25.01,
          10.075,
          61.038000000000004,
          62.788,
          342.665,
          1821.61,
          120.46,
          38.915,
          5.057,
          21.75,
          6.004,
          12.105,
          29.27,
          31.97,
          368.4,
          476.575,
          11.99,
          62.53,
          441.26,
          55.209999999999994,
          467.47,
          5002.494,
          276.93,
          5.039,
          1021.095,
          9.99,
          326.323,
          31.585,
          539.52,
          23.046,
          545.39,
          686.475,
          90.75,
          478,
          61.839999999999996,
          35.91,
          285.79,
          457.48,
          371.33,
          689.725,
          15.14,
          24.48,
          96.67,
          1174.389,
          613.62,
          36.241,
          27.060000000000002,
          254.795,
          296.44,
          10.26,
          12.43,
          269.66700000000003,
          28.55,
          12.009,
          98.85,
          658.57,
          35.178,
          896.639,
          35.376999999999995,
          495.54,
          91.014,
          10.11,
          24.96,
          4649.78,
          326.46,
          36.290000000000006,
          68.175,
          333.38,
          575.985,
          860.18,
          30.13,
          553.885,
          44.141,
          21.04,
          37.93,
          21.033,
          906.136,
          1784.755,
          884.39,
          296.09,
          356.66,
          18.1,
          47.02,
          18.77,
          419.91,
          34.914,
          128.165,
          895.455,
          734.735,
          36.004999999999995,
          1203.51,
          29.98,
          550.8050000000001,
          434.822,
          85.99000000000001,
          34.870000000000005,
          154.04,
          154.04,
          122.82000000000001,
          50.03,
          22.7,
          6669.918,
          4963.805,
          369.7,
          7608.833,
          160.322,
          975.58,
          365.268,
          10830.057999999999,
          123.12,
          3274.0099999999998,
          6.02,
          189.41,
          277.815,
          3879.625,
          5217.8,
          819.5,
          2730.933,
          2168.278,
          1243.58,
          1527.24,
          4380.93,
          143.953,
          969.99,
          2266.562,
          6318.354,
          324.26,
          170.965,
          33.92,
          270.38,
          42.799,
          380.75,
          12.42,
          5260.183,
          3834.475,
          1208.55,
          469.099,
          1696.41,
          418.682,
          55.368,
          311.82,
          1708.11,
          3651.944,
          6342.54,
          1275.626,
          111.02,
          138.81,
          2769,
          5767.07,
          71.96000000000001,
          59.72,
          424.21,
          12.02,
          190.75,
          359.643,
          23.950000000000003,
          5119.866,
          96.37,
          3334.751,
          700.87,
          592.098,
          1986.01,
          781.14,
          1920.402,
          1529.469,
          277.15999999999997,
          4803.808,
          184.9,
          485.99,
          890.0699999999999,
          12.15,
          166.653,
          714.25,
          2276.15,
          369.65999999999997,
          226.76,
          576.79,
          2017.345,
          123.19,
          171.04,
          3850.3,
          339.09499999999997,
          123.33,
          1450.67,
          396.72,
          2003.825,
          10.001,
          588.237,
          498.22,
          481.45,
          1173.948,
          4028.165,
          71.98,
          173.44,
          4944.5,
          5358.51,
          14.62,
          566.5,
          564.59,
          841.304,
          148,
          281.48,
          3567.145,
          5.03,
          6091.209,
          4920.155,
          903.36,
          2208.55,
          310.193,
          3414.315,
          24.948,
          41.76,
          3233.92,
          257.48,
          15.51,
          17.6,
          438.3,
          628.467,
          4264.76,
          1150.373,
          11.95,
          859.825,
          505.40999999999997,
          1312.085,
          4028.995,
          2115.8,
          283.96,
          12.1,
          50.135,
          96.67,
          7068.54,
          24.06,
          83.24,
          1277.46,
          23.95,
          204.399,
          6769.366,
          310.45,
          2670.71,
          11.855,
          3354.511,
          1741.33,
          2019.419,
          3387.71,
          712.052,
          3143.88,
          50.03,
          213.82,
          10.96,
          261.52,
          894.17,
          13.97,
          3020.45,
          59.812,
          356.387,
          6486.32,
          3286.525,
          2450.675,
          83.38,
          1487.452,
          153.7,
          132.75,
          299.81,
          1942.695,
          469.255,
          1978.04,
          5387.82,
          1952.15,
          6.1,
          132.01,
          109.785,
          45.9,
          1821.61,
          350.355,
          565.16,
          11.99,
          62.53,
          389.044,
          561.59,
          618.96,
          2307.557,
          1394.168,
          974.14,
          478,
          457.48,
          5725.32,
          24.48,
          5071.565,
          613.62,
          66.261,
          329.76,
          28.55,
          10.11,
          637.455,
          1400.9,
          47.02,
          253.453,
          4153.255,
          1705.157,
          2009.355,
          734.735,
          1203.51,
          29.98,
          59.67,
          3676.42,
          85.99000000000001,
          30.020000000000003,
          963.95,
          69663.247,
          98275.781,
          1817.13,
          6959.04,
          555.15,
          344.92,
          19562.712,
          803.55,
          259.17,
          122.82000000000001,
          180.57,
          76230.95,
          1345.865,
          171.04,
          1619.825,
          12170.11,
          14134.148
         ]
        }
       ],
       "layout": {
        "coloraxis": {
         "colorbar": {
          "title": {
           "text": "primary_lifting"
          }
         },
         "colorscale": [
          [
           0,
           "#0d0887"
          ],
          [
           0.1111111111111111,
           "#46039f"
          ],
          [
           0.2222222222222222,
           "#7201a8"
          ],
          [
           0.3333333333333333,
           "#9c179e"
          ],
          [
           0.4444444444444444,
           "#bd3786"
          ],
          [
           0.5555555555555556,
           "#d8576b"
          ],
          [
           0.6666666666666666,
           "#ed7953"
          ],
          [
           0.7777777777777778,
           "#fb9f3a"
          ],
          [
           0.8888888888888888,
           "#fdca26"
          ],
          [
           1,
           "#f0f921"
          ]
         ]
        },
        "legend": {
         "tracegroupgap": 0
        },
        "margin": {
         "t": 60
        },
        "template": {
         "data": {
          "bar": [
           {
            "error_x": {
             "color": "#2a3f5f"
            },
            "error_y": {
             "color": "#2a3f5f"
            },
            "marker": {
             "line": {
              "color": "#E5ECF6",
              "width": 0.5
             },
             "pattern": {
              "fillmode": "overlay",
              "size": 10,
              "solidity": 0.2
             }
            },
            "type": "bar"
           }
          ],
          "barpolar": [
           {
            "marker": {
             "line": {
              "color": "#E5ECF6",
              "width": 0.5
             },
             "pattern": {
              "fillmode": "overlay",
              "size": 10,
              "solidity": 0.2
             }
            },
            "type": "barpolar"
           }
          ],
          "carpet": [
           {
            "aaxis": {
             "endlinecolor": "#2a3f5f",
             "gridcolor": "white",
             "linecolor": "white",
             "minorgridcolor": "white",
             "startlinecolor": "#2a3f5f"
            },
            "baxis": {
             "endlinecolor": "#2a3f5f",
             "gridcolor": "white",
             "linecolor": "white",
             "minorgridcolor": "white",
             "startlinecolor": "#2a3f5f"
            },
            "type": "carpet"
           }
          ],
          "choropleth": [
           {
            "colorbar": {
             "outlinewidth": 0,
             "ticks": ""
            },
            "type": "choropleth"
           }
          ],
          "contour": [
           {
            "colorbar": {
             "outlinewidth": 0,
             "ticks": ""
            },
            "colorscale": [
             [
              0,
              "#0d0887"
             ],
             [
              0.1111111111111111,
              "#46039f"
             ],
             [
              0.2222222222222222,
              "#7201a8"
             ],
             [
              0.3333333333333333,
              "#9c179e"
             ],
             [
              0.4444444444444444,
              "#bd3786"
             ],
             [
              0.5555555555555556,
              "#d8576b"
             ],
             [
              0.6666666666666666,
              "#ed7953"
             ],
             [
              0.7777777777777778,
              "#fb9f3a"
             ],
             [
              0.8888888888888888,
              "#fdca26"
             ],
             [
              1,
              "#f0f921"
             ]
            ],
            "type": "contour"
           }
          ],
          "contourcarpet": [
           {
            "colorbar": {
             "outlinewidth": 0,
             "ticks": ""
            },
            "type": "contourcarpet"
           }
          ],
          "heatmap": [
           {
            "colorbar": {
             "outlinewidth": 0,
             "ticks": ""
            },
            "colorscale": [
             [
              0,
              "#0d0887"
             ],
             [
              0.1111111111111111,
              "#46039f"
             ],
             [
              0.2222222222222222,
              "#7201a8"
             ],
             [
              0.3333333333333333,
              "#9c179e"
             ],
             [
              0.4444444444444444,
              "#bd3786"
             ],
             [
              0.5555555555555556,
              "#d8576b"
             ],
             [
              0.6666666666666666,
              "#ed7953"
             ],
             [
              0.7777777777777778,
              "#fb9f3a"
             ],
             [
              0.8888888888888888,
              "#fdca26"
             ],
             [
              1,
              "#f0f921"
             ]
            ],
            "type": "heatmap"
           }
          ],
          "heatmapgl": [
           {
            "colorbar": {
             "outlinewidth": 0,
             "ticks": ""
            },
            "colorscale": [
             [
              0,
              "#0d0887"
             ],
             [
              0.1111111111111111,
              "#46039f"
             ],
             [
              0.2222222222222222,
              "#7201a8"
             ],
             [
              0.3333333333333333,
              "#9c179e"
             ],
             [
              0.4444444444444444,
              "#bd3786"
             ],
             [
              0.5555555555555556,
              "#d8576b"
             ],
             [
              0.6666666666666666,
              "#ed7953"
             ],
             [
              0.7777777777777778,
              "#fb9f3a"
             ],
             [
              0.8888888888888888,
              "#fdca26"
             ],
             [
              1,
              "#f0f921"
             ]
            ],
            "type": "heatmapgl"
           }
          ],
          "histogram": [
           {
            "marker": {
             "pattern": {
              "fillmode": "overlay",
              "size": 10,
              "solidity": 0.2
             }
            },
            "type": "histogram"
           }
          ],
          "histogram2d": [
           {
            "colorbar": {
             "outlinewidth": 0,
             "ticks": ""
            },
            "colorscale": [
             [
              0,
              "#0d0887"
             ],
             [
              0.1111111111111111,
              "#46039f"
             ],
             [
              0.2222222222222222,
              "#7201a8"
             ],
             [
              0.3333333333333333,
              "#9c179e"
             ],
             [
              0.4444444444444444,
              "#bd3786"
             ],
             [
              0.5555555555555556,
              "#d8576b"
             ],
             [
              0.6666666666666666,
              "#ed7953"
             ],
             [
              0.7777777777777778,
              "#fb9f3a"
             ],
             [
              0.8888888888888888,
              "#fdca26"
             ],
             [
              1,
              "#f0f921"
             ]
            ],
            "type": "histogram2d"
           }
          ],
          "histogram2dcontour": [
           {
            "colorbar": {
             "outlinewidth": 0,
             "ticks": ""
            },
            "colorscale": [
             [
              0,
              "#0d0887"
             ],
             [
              0.1111111111111111,
              "#46039f"
             ],
             [
              0.2222222222222222,
              "#7201a8"
             ],
             [
              0.3333333333333333,
              "#9c179e"
             ],
             [
              0.4444444444444444,
              "#bd3786"
             ],
             [
              0.5555555555555556,
              "#d8576b"
             ],
             [
              0.6666666666666666,
              "#ed7953"
             ],
             [
              0.7777777777777778,
              "#fb9f3a"
             ],
             [
              0.8888888888888888,
              "#fdca26"
             ],
             [
              1,
              "#f0f921"
             ]
            ],
            "type": "histogram2dcontour"
           }
          ],
          "mesh3d": [
           {
            "colorbar": {
             "outlinewidth": 0,
             "ticks": ""
            },
            "type": "mesh3d"
           }
          ],
          "parcoords": [
           {
            "line": {
             "colorbar": {
              "outlinewidth": 0,
              "ticks": ""
             }
            },
            "type": "parcoords"
           }
          ],
          "pie": [
           {
            "automargin": true,
            "type": "pie"
           }
          ],
          "scatter": [
           {
            "fillpattern": {
             "fillmode": "overlay",
             "size": 10,
             "solidity": 0.2
            },
            "type": "scatter"
           }
          ],
          "scatter3d": [
           {
            "line": {
             "colorbar": {
              "outlinewidth": 0,
              "ticks": ""
             }
            },
            "marker": {
             "colorbar": {
              "outlinewidth": 0,
              "ticks": ""
             }
            },
            "type": "scatter3d"
           }
          ],
          "scattercarpet": [
           {
            "marker": {
             "colorbar": {
              "outlinewidth": 0,
              "ticks": ""
             }
            },
            "type": "scattercarpet"
           }
          ],
          "scattergeo": [
           {
            "marker": {
             "colorbar": {
              "outlinewidth": 0,
              "ticks": ""
             }
            },
            "type": "scattergeo"
           }
          ],
          "scattergl": [
           {
            "marker": {
             "colorbar": {
              "outlinewidth": 0,
              "ticks": ""
             }
            },
            "type": "scattergl"
           }
          ],
          "scattermapbox": [
           {
            "marker": {
             "colorbar": {
              "outlinewidth": 0,
              "ticks": ""
             }
            },
            "type": "scattermapbox"
           }
          ],
          "scatterpolar": [
           {
            "marker": {
             "colorbar": {
              "outlinewidth": 0,
              "ticks": ""
             }
            },
            "type": "scatterpolar"
           }
          ],
          "scatterpolargl": [
           {
            "marker": {
             "colorbar": {
              "outlinewidth": 0,
              "ticks": ""
             }
            },
            "type": "scatterpolargl"
           }
          ],
          "scatterternary": [
           {
            "marker": {
             "colorbar": {
              "outlinewidth": 0,
              "ticks": ""
             }
            },
            "type": "scatterternary"
           }
          ],
          "surface": [
           {
            "colorbar": {
             "outlinewidth": 0,
             "ticks": ""
            },
            "colorscale": [
             [
              0,
              "#0d0887"
             ],
             [
              0.1111111111111111,
              "#46039f"
             ],
             [
              0.2222222222222222,
              "#7201a8"
             ],
             [
              0.3333333333333333,
              "#9c179e"
             ],
             [
              0.4444444444444444,
              "#bd3786"
             ],
             [
              0.5555555555555556,
              "#d8576b"
             ],
             [
              0.6666666666666666,
              "#ed7953"
             ],
             [
              0.7777777777777778,
              "#fb9f3a"
             ],
             [
              0.8888888888888888,
              "#fdca26"
             ],
             [
              1,
              "#f0f921"
             ]
            ],
            "type": "surface"
           }
          ],
          "table": [
           {
            "cells": {
             "fill": {
              "color": "#EBF0F8"
             },
             "line": {
              "color": "white"
             }
            },
            "header": {
             "fill": {
              "color": "#C8D4E3"
             },
             "line": {
              "color": "white"
             }
            },
            "type": "table"
           }
          ]
         },
         "layout": {
          "annotationdefaults": {
           "arrowcolor": "#2a3f5f",
           "arrowhead": 0,
           "arrowwidth": 1
          },
          "autotypenumbers": "strict",
          "coloraxis": {
           "colorbar": {
            "outlinewidth": 0,
            "ticks": ""
           }
          },
          "colorscale": {
           "diverging": [
            [
             0,
             "#8e0152"
            ],
            [
             0.1,
             "#c51b7d"
            ],
            [
             0.2,
             "#de77ae"
            ],
            [
             0.3,
             "#f1b6da"
            ],
            [
             0.4,
             "#fde0ef"
            ],
            [
             0.5,
             "#f7f7f7"
            ],
            [
             0.6,
             "#e6f5d0"
            ],
            [
             0.7,
             "#b8e186"
            ],
            [
             0.8,
             "#7fbc41"
            ],
            [
             0.9,
             "#4d9221"
            ],
            [
             1,
             "#276419"
            ]
           ],
           "sequential": [
            [
             0,
             "#0d0887"
            ],
            [
             0.1111111111111111,
             "#46039f"
            ],
            [
             0.2222222222222222,
             "#7201a8"
            ],
            [
             0.3333333333333333,
             "#9c179e"
            ],
            [
             0.4444444444444444,
             "#bd3786"
            ],
            [
             0.5555555555555556,
             "#d8576b"
            ],
            [
             0.6666666666666666,
             "#ed7953"
            ],
            [
             0.7777777777777778,
             "#fb9f3a"
            ],
            [
             0.8888888888888888,
             "#fdca26"
            ],
            [
             1,
             "#f0f921"
            ]
           ],
           "sequentialminus": [
            [
             0,
             "#0d0887"
            ],
            [
             0.1111111111111111,
             "#46039f"
            ],
            [
             0.2222222222222222,
             "#7201a8"
            ],
            [
             0.3333333333333333,
             "#9c179e"
            ],
            [
             0.4444444444444444,
             "#bd3786"
            ],
            [
             0.5555555555555556,
             "#d8576b"
            ],
            [
             0.6666666666666666,
             "#ed7953"
            ],
            [
             0.7777777777777778,
             "#fb9f3a"
            ],
            [
             0.8888888888888888,
             "#fdca26"
            ],
            [
             1,
             "#f0f921"
            ]
           ]
          },
          "colorway": [
           "#636efa",
           "#EF553B",
           "#00cc96",
           "#ab63fa",
           "#FFA15A",
           "#19d3f3",
           "#FF6692",
           "#B6E880",
           "#FF97FF",
           "#FECB52"
          ],
          "font": {
           "color": "#2a3f5f"
          },
          "geo": {
           "bgcolor": "white",
           "lakecolor": "white",
           "landcolor": "#E5ECF6",
           "showlakes": true,
           "showland": true,
           "subunitcolor": "white"
          },
          "hoverlabel": {
           "align": "left"
          },
          "hovermode": "closest",
          "mapbox": {
           "style": "light"
          },
          "paper_bgcolor": "white",
          "plot_bgcolor": "#E5ECF6",
          "polar": {
           "angularaxis": {
            "gridcolor": "white",
            "linecolor": "white",
            "ticks": ""
           },
           "bgcolor": "#E5ECF6",
           "radialaxis": {
            "gridcolor": "white",
            "linecolor": "white",
            "ticks": ""
           }
          },
          "scene": {
           "xaxis": {
            "backgroundcolor": "#E5ECF6",
            "gridcolor": "white",
            "gridwidth": 2,
            "linecolor": "white",
            "showbackground": true,
            "ticks": "",
            "zerolinecolor": "white"
           },
           "yaxis": {
            "backgroundcolor": "#E5ECF6",
            "gridcolor": "white",
            "gridwidth": 2,
            "linecolor": "white",
            "showbackground": true,
            "ticks": "",
            "zerolinecolor": "white"
           },
           "zaxis": {
            "backgroundcolor": "#E5ECF6",
            "gridcolor": "white",
            "gridwidth": 2,
            "linecolor": "white",
            "showbackground": true,
            "ticks": "",
            "zerolinecolor": "white"
           }
          },
          "shapedefaults": {
           "line": {
            "color": "#2a3f5f"
           }
          },
          "ternary": {
           "aaxis": {
            "gridcolor": "white",
            "linecolor": "white",
            "ticks": ""
           },
           "baxis": {
            "gridcolor": "white",
            "linecolor": "white",
            "ticks": ""
           },
           "bgcolor": "#E5ECF6",
           "caxis": {
            "gridcolor": "white",
            "linecolor": "white",
            "ticks": ""
           }
          },
          "title": {
           "x": 0.05
          },
          "xaxis": {
           "automargin": true,
           "gridcolor": "white",
           "linecolor": "white",
           "ticks": "",
           "title": {
            "standoff": 15
           },
           "zerolinecolor": "white",
           "zerolinewidth": 2
          },
          "yaxis": {
           "automargin": true,
           "gridcolor": "white",
           "linecolor": "white",
           "ticks": "",
           "title": {
            "standoff": 15
           },
           "zerolinecolor": "white",
           "zerolinewidth": 2
          }
         }
        }
       }
      }
     },
     "metadata": {},
     "output_type": "display_data"
    }
   ],
   "source": [
    "fig = px.treemap(df1,path=['state','district','block_name'],\n",
    "                  values='primary_lifting',\n",
    "                  color='primary_lifting',\n",
    "                  hover_data=['state'])\n",
    "fig.show()\n",
    "fig.write_html('treemap.html')"
   ]
  },
  {
   "cell_type": "code",
   "execution_count": null,
   "metadata": {},
   "outputs": [],
   "source": []
  }
 ],
 "metadata": {
  "kernelspec": {
   "display_name": "Python 3",
   "language": "python",
   "name": "python3"
  },
  "language_info": {
   "codemirror_mode": {
    "name": "ipython",
    "version": 3
   },
   "file_extension": ".py",
   "mimetype": "text/x-python",
   "name": "python",
   "nbconvert_exporter": "python",
   "pygments_lexer": "ipython3",
   "version": "3.11.4"
  },
  "orig_nbformat": 4
 },
 "nbformat": 4,
 "nbformat_minor": 2
}
