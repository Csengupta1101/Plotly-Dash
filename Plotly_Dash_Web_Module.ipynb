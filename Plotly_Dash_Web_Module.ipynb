{
 "cells": [
  {
   "cell_type": "code",
   "execution_count": 1,
   "metadata": {},
   "outputs": [],
   "source": [
    "import dash\n",
    "from dash import dcc\n",
    "from dash import html\n",
    "import pandas as pd \n",
    "import numpy as np \n",
    "import plotly.express as px "
   ]
  },
  {
   "cell_type": "code",
   "execution_count": 3,
   "metadata": {},
   "outputs": [
    {
     "name": "stdout",
     "output_type": "stream",
     "text": [
      "Dash is running on http://127.0.0.1:8050/\n",
      "\n",
      " * Serving Flask app '__main__'\n",
      " * Debug mode: off\n"
     ]
    },
    {
     "name": "stderr",
     "output_type": "stream",
     "text": [
      "WARNING: This is a development server. Do not use it in a production deployment. Use a production WSGI server instead.\n",
      " * Running on http://127.0.0.1:8050\n",
      "Press CTRL+C to quit\n"
     ]
    }
   ],
   "source": [
    "# setting up the app \n",
    "app = dash.Dash()\n",
    "# setting up the app layout\n",
    "app.layout = html.Div(\n",
    "    [html.H1(\"Plotly Dash dashboarding\"),html.P(\"this is a dashboard developed with plotly dash\")]\n",
    ")\n",
    "#running the app \n",
    "if __name__ == \"__main__\":\n",
    "    app.run()"
   ]
  },
  {
   "cell_type": "code",
   "execution_count": 7,
   "metadata": {},
   "outputs": [
    {
     "name": "stderr",
     "output_type": "stream",
     "text": [
      "C:\\Users\\chandan.sengupta\\AppData\\Local\\Temp\\ipykernel_6516\\2637521632.py:6: DtypeWarning: Columns (24) have mixed types. Specify dtype option on import or set low_memory=False.\n",
      "  df = pd.read_csv(r\"C:\\Workflow\\SSML_Data\\datasets\\primary_dashboard.csv\")\n"
     ]
    }
   ],
   "source": [
    "import pandas as pd\n",
    "import plotly.express as px\n",
    "\n",
    "# Assuming df is your DataFrame with sales volume at state, district, and block levels\n",
    "# Replace this with your actual DataFrame\n",
    "df = pd.read_csv(r\"C:\\Workflow\\SSML_Data\\datasets\\primary_dashboard.csv\")\n",
    "df = df[df['primary_lifting']>0]\n",
    "df = df.dropna()\n",
    "\n",
    "# Create the treemap\n",
    "tree_map_fig = px.treemap(df, path=['state', 'district', 'block_name'], values='primary_lifting')\n",
    "\n",
    "# Create the sunburst chart\n",
    "sunburst_fig = px.sunburst(df, path=['state', 'district'], values='primary_lifting')\n",
    "\n",
    "# Export both charts to an HTML file\n",
    "tree_map_fig.write_html('tree_map_and_sunburst.html', include_plotlyjs='cdn', full_html=False)\n",
    "\n",
    "# Append the sunburst chart HTML to the same file\n",
    "with open('tree_map_and_sunburst.html', 'a') as f:\n",
    "    f.write(sunburst_fig.to_html(include_plotlyjs='cdn', full_html=False))\n"
   ]
  },
  {
   "cell_type": "code",
   "execution_count": null,
   "metadata": {},
   "outputs": [],
   "source": []
  },
  {
   "cell_type": "code",
   "execution_count": null,
   "metadata": {},
   "outputs": [],
   "source": []
  }
 ],
 "metadata": {
  "kernelspec": {
   "display_name": "Python 3",
   "language": "python",
   "name": "python3"
  },
  "language_info": {
   "codemirror_mode": {
    "name": "ipython",
    "version": 3
   },
   "file_extension": ".py",
   "mimetype": "text/x-python",
   "name": "python",
   "nbconvert_exporter": "python",
   "pygments_lexer": "ipython3",
   "version": "3.11.4"
  },
  "orig_nbformat": 4
 },
 "nbformat": 4,
 "nbformat_minor": 2
}
